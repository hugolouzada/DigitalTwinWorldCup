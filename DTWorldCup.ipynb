{
 "cells": [
  {
   "cell_type": "markdown",
   "metadata": {},
   "source": [
    "# A Digital Twin Approach to World Cup Modelling"
   ]
  },
  {
   "cell_type": "markdown",
   "metadata": {},
   "source": [
    "Prever resultados de jogos é um passatempo, e ganha pão, de muitos nerds, sendo a Copa do Mundo o maior troféu. Você consegue achar predições usando uma [grande](http://previsaoesportiva.com.br/campeonatos/copa2018/boxplot.html) [variedade](http://www.chancedegol.com.br/copa18.htm) de [modelos](https://www.kaggle.com/agostontorok/soccer-world-cup-2018-winner/notebook) por aí, mas aqui vamos pensar em algo um pouco diferente. E se tivéssemos um Digital Twin de cada seleção?\n",
    "\n",
    "[Um gêmeo digital é uma cópia digital de uma coisa física](https://en.wikipedia.org/wiki/Digital_twin). Como a cópia é digital, você pode usar ela para prever muitas coisas impraticáveis no mundo físico, como simular urubus entrando no digital twin de uma turbina de avião ou anteceder falhas em turbinas eólicas em locais inacessíveis.\n",
    "\n",
    "É claro que definir esse bixo é muito mais fácil do que construir ele. Muita gente também vai se perguntar se isso não é a mesma coisa que as simulações da engenharia, ou machine learning e otimização. A resposta é: sim e não."
   ]
  },
  {
   "cell_type": "markdown",
   "metadata": {},
   "source": [
    "![Isso tem que ser falado](infelizmente.jpg)"
   ]
  },
  {
   "cell_type": "markdown",
   "metadata": {},
   "source": [
    "Você forma um digital twin com um pouco de tudo isso aí. Um sistema de muitas partículas interagindo, como uma proteína, pode ser simulada através da descrição física de como cada um de seus vários atómos reage de acordo com variáveis do ambiente e interação com outros átomos. Em sistemas mais complicados, como pessoas conversando ou processos mais complexos, não temos o luxo de, partindo das leis da física, prever como uma pessoa vai agir. E daí entra o Machine Learning: aprendemos com o histórico como representar uma certa entidade e, depois, estamos livres para simular ela interagindo com o mundo e outras entidades.\n",
    "\n",
    "No problema da Copa do Mundo temos duas possibilidades: podemos separar os dados de cada seleção e construir um modelo para cada, ou podemos fazer um grande preditor de resultado de jogos, olhando para todos os resultados de todos os jogos e, na hora do uso, alimentarmos essa máquina com somente os jogos de uma seleção para prever os seus resultados. A primeira abordagem é um pouco mais óbvia: jogos e dados do Brasil são usados para prever resultados do Brasil. Entretanto a segunda abordagem, mesmo que mais confusa, é mais rica: ela permite aproveitarmos todos os dados disponíveis e fazer previsões para o Brasil utilizando situações parecidas que ocorreram com outras seleções.\n",
    "\n",
    "Em todo caso, é melhor avançarmos aos poucos. Na Seção 1 descrevo os dados que considerei na modelagem. Na Seção 2 faço um Digital Twin exclusivo com dados do Brasil e, na Seção 3, generalizo para construção de um Digital Twin de seleções."
   ]
  },
  {
   "cell_type": "markdown",
   "metadata": {},
   "source": [
    "# 1. Dados que eu peguei de outra pessoa"
   ]
  },
  {
   "cell_type": "markdown",
   "metadata": {},
   "source": [
    "O usuário do Kaggle Agostonkorok já nos fez o grande favor de coletar os [principais dados](https://www.kaggle.com/agostontorok/soccer-world-cup-2018-winner/notebook) utilizados na previsão de jogos de seleções. Temos três conjuntos.\n",
    "\n",
    "O primeiro é o ranking da Fifa, que contém a posição de cada país com uma precisão absurda (mensal):"
   ]
  },
  {
   "cell_type": "code",
   "execution_count": 1,
   "metadata": {},
   "outputs": [
    {
     "name": "stdout",
     "output_type": "stream",
     "text": [
      "(57793, 16)\n"
     ]
    },
    {
     "data": {
      "text/html": [
       "<div>\n",
       "<style scoped>\n",
       "    .dataframe tbody tr th:only-of-type {\n",
       "        vertical-align: middle;\n",
       "    }\n",
       "\n",
       "    .dataframe tbody tr th {\n",
       "        vertical-align: top;\n",
       "    }\n",
       "\n",
       "    .dataframe thead th {\n",
       "        text-align: right;\n",
       "    }\n",
       "</style>\n",
       "<table border=\"1\" class=\"dataframe\">\n",
       "  <thead>\n",
       "    <tr style=\"text-align: right;\">\n",
       "      <th></th>\n",
       "      <th>rank</th>\n",
       "      <th>country_full</th>\n",
       "      <th>country_abrv</th>\n",
       "      <th>total_points</th>\n",
       "      <th>previous_points</th>\n",
       "      <th>rank_change</th>\n",
       "      <th>cur_year_avg</th>\n",
       "      <th>cur_year_avg_weighted</th>\n",
       "      <th>last_year_avg</th>\n",
       "      <th>last_year_avg_weighted</th>\n",
       "      <th>two_year_ago_avg</th>\n",
       "      <th>two_year_ago_weighted</th>\n",
       "      <th>three_year_ago_avg</th>\n",
       "      <th>three_year_ago_weighted</th>\n",
       "      <th>confederation</th>\n",
       "      <th>rank_date</th>\n",
       "    </tr>\n",
       "  </thead>\n",
       "  <tbody>\n",
       "    <tr>\n",
       "      <th>0</th>\n",
       "      <td>1</td>\n",
       "      <td>Germany</td>\n",
       "      <td>GER</td>\n",
       "      <td>0.00</td>\n",
       "      <td>57</td>\n",
       "      <td>0</td>\n",
       "      <td>0.00</td>\n",
       "      <td>0.00</td>\n",
       "      <td>0.00</td>\n",
       "      <td>0.00</td>\n",
       "      <td>0.00</td>\n",
       "      <td>0.00</td>\n",
       "      <td>0.00</td>\n",
       "      <td>0.00</td>\n",
       "      <td>UEFA</td>\n",
       "      <td>1993-08-08</td>\n",
       "    </tr>\n",
       "    <tr>\n",
       "      <th>1</th>\n",
       "      <td>2</td>\n",
       "      <td>Italy</td>\n",
       "      <td>ITA</td>\n",
       "      <td>0.00</td>\n",
       "      <td>57</td>\n",
       "      <td>0</td>\n",
       "      <td>0.00</td>\n",
       "      <td>0.00</td>\n",
       "      <td>0.00</td>\n",
       "      <td>0.00</td>\n",
       "      <td>0.00</td>\n",
       "      <td>0.00</td>\n",
       "      <td>0.00</td>\n",
       "      <td>0.00</td>\n",
       "      <td>UEFA</td>\n",
       "      <td>1993-08-08</td>\n",
       "    </tr>\n",
       "    <tr>\n",
       "      <th>2</th>\n",
       "      <td>3</td>\n",
       "      <td>Switzerland</td>\n",
       "      <td>SUI</td>\n",
       "      <td>0.00</td>\n",
       "      <td>50</td>\n",
       "      <td>9</td>\n",
       "      <td>0.00</td>\n",
       "      <td>0.00</td>\n",
       "      <td>0.00</td>\n",
       "      <td>0.00</td>\n",
       "      <td>0.00</td>\n",
       "      <td>0.00</td>\n",
       "      <td>0.00</td>\n",
       "      <td>0.00</td>\n",
       "      <td>UEFA</td>\n",
       "      <td>1993-08-08</td>\n",
       "    </tr>\n",
       "    <tr>\n",
       "      <th>3</th>\n",
       "      <td>4</td>\n",
       "      <td>Sweden</td>\n",
       "      <td>SWE</td>\n",
       "      <td>0.00</td>\n",
       "      <td>55</td>\n",
       "      <td>0</td>\n",
       "      <td>0.00</td>\n",
       "      <td>0.00</td>\n",
       "      <td>0.00</td>\n",
       "      <td>0.00</td>\n",
       "      <td>0.00</td>\n",
       "      <td>0.00</td>\n",
       "      <td>0.00</td>\n",
       "      <td>0.00</td>\n",
       "      <td>UEFA</td>\n",
       "      <td>1993-08-08</td>\n",
       "    </tr>\n",
       "    <tr>\n",
       "      <th>4</th>\n",
       "      <td>5</td>\n",
       "      <td>Argentina</td>\n",
       "      <td>ARG</td>\n",
       "      <td>0.00</td>\n",
       "      <td>51</td>\n",
       "      <td>5</td>\n",
       "      <td>0.00</td>\n",
       "      <td>0.00</td>\n",
       "      <td>0.00</td>\n",
       "      <td>0.00</td>\n",
       "      <td>0.00</td>\n",
       "      <td>0.00</td>\n",
       "      <td>0.00</td>\n",
       "      <td>0.00</td>\n",
       "      <td>CONMEBOL</td>\n",
       "      <td>1993-08-08</td>\n",
       "    </tr>\n",
       "    <tr>\n",
       "      <th>5</th>\n",
       "      <td>6</td>\n",
       "      <td>Republic of Ireland</td>\n",
       "      <td>IRL</td>\n",
       "      <td>0.00</td>\n",
       "      <td>54</td>\n",
       "      <td>0</td>\n",
       "      <td>0.00</td>\n",
       "      <td>0.00</td>\n",
       "      <td>0.00</td>\n",
       "      <td>0.00</td>\n",
       "      <td>0.00</td>\n",
       "      <td>0.00</td>\n",
       "      <td>0.00</td>\n",
       "      <td>0.00</td>\n",
       "      <td>UEFA</td>\n",
       "      <td>1993-08-08</td>\n",
       "    </tr>\n",
       "    <tr>\n",
       "      <th>6</th>\n",
       "      <td>7</td>\n",
       "      <td>Russia</td>\n",
       "      <td>RUS</td>\n",
       "      <td>0.00</td>\n",
       "      <td>52</td>\n",
       "      <td>1</td>\n",
       "      <td>0.00</td>\n",
       "      <td>0.00</td>\n",
       "      <td>0.00</td>\n",
       "      <td>0.00</td>\n",
       "      <td>0.00</td>\n",
       "      <td>0.00</td>\n",
       "      <td>0.00</td>\n",
       "      <td>0.00</td>\n",
       "      <td>UEFA</td>\n",
       "      <td>1993-08-08</td>\n",
       "    </tr>\n",
       "    <tr>\n",
       "      <th>7</th>\n",
       "      <td>8</td>\n",
       "      <td>Brazil</td>\n",
       "      <td>BRA</td>\n",
       "      <td>0.00</td>\n",
       "      <td>55</td>\n",
       "      <td>-5</td>\n",
       "      <td>0.00</td>\n",
       "      <td>0.00</td>\n",
       "      <td>0.00</td>\n",
       "      <td>0.00</td>\n",
       "      <td>0.00</td>\n",
       "      <td>0.00</td>\n",
       "      <td>0.00</td>\n",
       "      <td>0.00</td>\n",
       "      <td>CONMEBOL</td>\n",
       "      <td>1993-08-08</td>\n",
       "    </tr>\n",
       "    <tr>\n",
       "      <th>8</th>\n",
       "      <td>9</td>\n",
       "      <td>Norway</td>\n",
       "      <td>NOR</td>\n",
       "      <td>0.00</td>\n",
       "      <td>49</td>\n",
       "      <td>5</td>\n",
       "      <td>0.00</td>\n",
       "      <td>0.00</td>\n",
       "      <td>0.00</td>\n",
       "      <td>0.00</td>\n",
       "      <td>0.00</td>\n",
       "      <td>0.00</td>\n",
       "      <td>0.00</td>\n",
       "      <td>0.00</td>\n",
       "      <td>UEFA</td>\n",
       "      <td>1993-08-08</td>\n",
       "    </tr>\n",
       "    <tr>\n",
       "      <th>9</th>\n",
       "      <td>10</td>\n",
       "      <td>Denmark</td>\n",
       "      <td>DEN</td>\n",
       "      <td>0.00</td>\n",
       "      <td>51</td>\n",
       "      <td>-1</td>\n",
       "      <td>0.00</td>\n",
       "      <td>0.00</td>\n",
       "      <td>0.00</td>\n",
       "      <td>0.00</td>\n",
       "      <td>0.00</td>\n",
       "      <td>0.00</td>\n",
       "      <td>0.00</td>\n",
       "      <td>0.00</td>\n",
       "      <td>UEFA</td>\n",
       "      <td>1993-08-08</td>\n",
       "    </tr>\n",
       "    <tr>\n",
       "      <th>10</th>\n",
       "      <td>11</td>\n",
       "      <td>England</td>\n",
       "      <td>ENG</td>\n",
       "      <td>0.00</td>\n",
       "      <td>55</td>\n",
       "      <td>-6</td>\n",
       "      <td>0.00</td>\n",
       "      <td>0.00</td>\n",
       "      <td>0.00</td>\n",
       "      <td>0.00</td>\n",
       "      <td>0.00</td>\n",
       "      <td>0.00</td>\n",
       "      <td>0.00</td>\n",
       "      <td>0.00</td>\n",
       "      <td>UEFA</td>\n",
       "      <td>1993-08-08</td>\n",
       "    </tr>\n",
       "    <tr>\n",
       "      <th>11</th>\n",
       "      <td>12</td>\n",
       "      <td>France</td>\n",
       "      <td>FRA</td>\n",
       "      <td>0.00</td>\n",
       "      <td>45</td>\n",
       "      <td>7</td>\n",
       "      <td>0.00</td>\n",
       "      <td>0.00</td>\n",
       "      <td>0.00</td>\n",
       "      <td>0.00</td>\n",
       "      <td>0.00</td>\n",
       "      <td>0.00</td>\n",
       "      <td>0.00</td>\n",
       "      <td>0.00</td>\n",
       "      <td>UEFA</td>\n",
       "      <td>1993-08-08</td>\n",
       "    </tr>\n",
       "    <tr>\n",
       "      <th>12</th>\n",
       "      <td>13</td>\n",
       "      <td>Spain</td>\n",
       "      <td>ESP</td>\n",
       "      <td>0.00</td>\n",
       "      <td>49</td>\n",
       "      <td>2</td>\n",
       "      <td>0.00</td>\n",
       "      <td>0.00</td>\n",
       "      <td>0.00</td>\n",
       "      <td>0.00</td>\n",
       "      <td>0.00</td>\n",
       "      <td>0.00</td>\n",
       "      <td>0.00</td>\n",
       "      <td>0.00</td>\n",
       "      <td>UEFA</td>\n",
       "      <td>1993-08-08</td>\n",
       "    </tr>\n",
       "    <tr>\n",
       "      <th>13</th>\n",
       "      <td>14</td>\n",
       "      <td>Mexico</td>\n",
       "      <td>MEX</td>\n",
       "      <td>0.00</td>\n",
       "      <td>42</td>\n",
       "      <td>11</td>\n",
       "      <td>0.00</td>\n",
       "      <td>0.00</td>\n",
       "      <td>0.00</td>\n",
       "      <td>0.00</td>\n",
       "      <td>0.00</td>\n",
       "      <td>0.00</td>\n",
       "      <td>0.00</td>\n",
       "      <td>0.00</td>\n",
       "      <td>CONCACAF</td>\n",
       "      <td>1993-08-08</td>\n",
       "    </tr>\n",
       "    <tr>\n",
       "      <th>14</th>\n",
       "      <td>15</td>\n",
       "      <td>RCS</td>\n",
       "      <td>TCH</td>\n",
       "      <td>0.00</td>\n",
       "      <td>47</td>\n",
       "      <td>3</td>\n",
       "      <td>0.00</td>\n",
       "      <td>0.00</td>\n",
       "      <td>0.00</td>\n",
       "      <td>0.00</td>\n",
       "      <td>0.00</td>\n",
       "      <td>0.00</td>\n",
       "      <td>0.00</td>\n",
       "      <td>0.00</td>\n",
       "      <td>UEFA</td>\n",
       "      <td>1993-08-08</td>\n",
       "    </tr>\n",
       "    <tr>\n",
       "      <th>15</th>\n",
       "      <td>16</td>\n",
       "      <td>Netherlands</td>\n",
       "      <td>NED</td>\n",
       "      <td>0.00</td>\n",
       "      <td>53</td>\n",
       "      <td>-9</td>\n",
       "      <td>0.00</td>\n",
       "      <td>0.00</td>\n",
       "      <td>0.00</td>\n",
       "      <td>0.00</td>\n",
       "      <td>0.00</td>\n",
       "      <td>0.00</td>\n",
       "      <td>0.00</td>\n",
       "      <td>0.00</td>\n",
       "      <td>UEFA</td>\n",
       "      <td>1993-08-08</td>\n",
       "    </tr>\n",
       "    <tr>\n",
       "      <th>16</th>\n",
       "      <td>17</td>\n",
       "      <td>Nigeria</td>\n",
       "      <td>NGA</td>\n",
       "      <td>0.00</td>\n",
       "      <td>49</td>\n",
       "      <td>-4</td>\n",
       "      <td>0.00</td>\n",
       "      <td>0.00</td>\n",
       "      <td>0.00</td>\n",
       "      <td>0.00</td>\n",
       "      <td>0.00</td>\n",
       "      <td>0.00</td>\n",
       "      <td>0.00</td>\n",
       "      <td>0.00</td>\n",
       "      <td>CAF</td>\n",
       "      <td>1993-08-08</td>\n",
       "    </tr>\n",
       "    <tr>\n",
       "      <th>17</th>\n",
       "      <td>18</td>\n",
       "      <td>Belgium</td>\n",
       "      <td>BEL</td>\n",
       "      <td>0.00</td>\n",
       "      <td>47</td>\n",
       "      <td>-1</td>\n",
       "      <td>0.00</td>\n",
       "      <td>0.00</td>\n",
       "      <td>0.00</td>\n",
       "      <td>0.00</td>\n",
       "      <td>0.00</td>\n",
       "      <td>0.00</td>\n",
       "      <td>0.00</td>\n",
       "      <td>0.00</td>\n",
       "      <td>UEFA</td>\n",
       "      <td>1993-08-08</td>\n",
       "    </tr>\n",
       "    <tr>\n",
       "      <th>18</th>\n",
       "      <td>19</td>\n",
       "      <td>Colombia</td>\n",
       "      <td>COL</td>\n",
       "      <td>0.00</td>\n",
       "      <td>36</td>\n",
       "      <td>16</td>\n",
       "      <td>0.00</td>\n",
       "      <td>0.00</td>\n",
       "      <td>0.00</td>\n",
       "      <td>0.00</td>\n",
       "      <td>0.00</td>\n",
       "      <td>0.00</td>\n",
       "      <td>0.00</td>\n",
       "      <td>0.00</td>\n",
       "      <td>CONMEBOL</td>\n",
       "      <td>1993-08-08</td>\n",
       "    </tr>\n",
       "    <tr>\n",
       "      <th>19</th>\n",
       "      <td>20</td>\n",
       "      <td>Poland</td>\n",
       "      <td>POL</td>\n",
       "      <td>0.00</td>\n",
       "      <td>45</td>\n",
       "      <td>0</td>\n",
       "      <td>0.00</td>\n",
       "      <td>0.00</td>\n",
       "      <td>0.00</td>\n",
       "      <td>0.00</td>\n",
       "      <td>0.00</td>\n",
       "      <td>0.00</td>\n",
       "      <td>0.00</td>\n",
       "      <td>0.00</td>\n",
       "      <td>UEFA</td>\n",
       "      <td>1993-08-08</td>\n",
       "    </tr>\n",
       "    <tr>\n",
       "      <th>20</th>\n",
       "      <td>21</td>\n",
       "      <td>Romania</td>\n",
       "      <td>ROU</td>\n",
       "      <td>0.00</td>\n",
       "      <td>51</td>\n",
       "      <td>-10</td>\n",
       "      <td>0.00</td>\n",
       "      <td>0.00</td>\n",
       "      <td>0.00</td>\n",
       "      <td>0.00</td>\n",
       "      <td>0.00</td>\n",
       "      <td>0.00</td>\n",
       "      <td>0.00</td>\n",
       "      <td>0.00</td>\n",
       "      <td>UEFA</td>\n",
       "      <td>1993-08-08</td>\n",
       "    </tr>\n",
       "    <tr>\n",
       "      <th>21</th>\n",
       "      <td>22</td>\n",
       "      <td>Uruguay</td>\n",
       "      <td>URU</td>\n",
       "      <td>0.00</td>\n",
       "      <td>47</td>\n",
       "      <td>-6</td>\n",
       "      <td>0.00</td>\n",
       "      <td>0.00</td>\n",
       "      <td>0.00</td>\n",
       "      <td>0.00</td>\n",
       "      <td>0.00</td>\n",
       "      <td>0.00</td>\n",
       "      <td>0.00</td>\n",
       "      <td>0.00</td>\n",
       "      <td>CONMEBOL</td>\n",
       "      <td>1993-08-08</td>\n",
       "    </tr>\n",
       "    <tr>\n",
       "      <th>22</th>\n",
       "      <td>23</td>\n",
       "      <td>Portugal</td>\n",
       "      <td>POR</td>\n",
       "      <td>0.00</td>\n",
       "      <td>38</td>\n",
       "      <td>10</td>\n",
       "      <td>0.00</td>\n",
       "      <td>0.00</td>\n",
       "      <td>0.00</td>\n",
       "      <td>0.00</td>\n",
       "      <td>0.00</td>\n",
       "      <td>0.00</td>\n",
       "      <td>0.00</td>\n",
       "      <td>0.00</td>\n",
       "      <td>UEFA</td>\n",
       "      <td>1993-08-08</td>\n",
       "    </tr>\n",
       "    <tr>\n",
       "      <th>23</th>\n",
       "      <td>24</td>\n",
       "      <td>Cameroon</td>\n",
       "      <td>CMR</td>\n",
       "      <td>0.00</td>\n",
       "      <td>43</td>\n",
       "      <td>-2</td>\n",
       "      <td>0.00</td>\n",
       "      <td>0.00</td>\n",
       "      <td>0.00</td>\n",
       "      <td>0.00</td>\n",
       "      <td>0.00</td>\n",
       "      <td>0.00</td>\n",
       "      <td>0.00</td>\n",
       "      <td>0.00</td>\n",
       "      <td>CAF</td>\n",
       "      <td>1993-08-08</td>\n",
       "    </tr>\n",
       "    <tr>\n",
       "      <th>24</th>\n",
       "      <td>25</td>\n",
       "      <td>Zambia</td>\n",
       "      <td>ZAM</td>\n",
       "      <td>0.00</td>\n",
       "      <td>38</td>\n",
       "      <td>7</td>\n",
       "      <td>0.00</td>\n",
       "      <td>0.00</td>\n",
       "      <td>0.00</td>\n",
       "      <td>0.00</td>\n",
       "      <td>0.00</td>\n",
       "      <td>0.00</td>\n",
       "      <td>0.00</td>\n",
       "      <td>0.00</td>\n",
       "      <td>CAF</td>\n",
       "      <td>1993-08-08</td>\n",
       "    </tr>\n",
       "    <tr>\n",
       "      <th>25</th>\n",
       "      <td>26</td>\n",
       "      <td>Egypt</td>\n",
       "      <td>EGY</td>\n",
       "      <td>0.00</td>\n",
       "      <td>44</td>\n",
       "      <td>-5</td>\n",
       "      <td>0.00</td>\n",
       "      <td>0.00</td>\n",
       "      <td>0.00</td>\n",
       "      <td>0.00</td>\n",
       "      <td>0.00</td>\n",
       "      <td>0.00</td>\n",
       "      <td>0.00</td>\n",
       "      <td>0.00</td>\n",
       "      <td>CAF</td>\n",
       "      <td>1993-08-08</td>\n",
       "    </tr>\n",
       "    <tr>\n",
       "      <th>26</th>\n",
       "      <td>27</td>\n",
       "      <td>Wales</td>\n",
       "      <td>WAL</td>\n",
       "      <td>0.00</td>\n",
       "      <td>40</td>\n",
       "      <td>1</td>\n",
       "      <td>0.00</td>\n",
       "      <td>0.00</td>\n",
       "      <td>0.00</td>\n",
       "      <td>0.00</td>\n",
       "      <td>0.00</td>\n",
       "      <td>0.00</td>\n",
       "      <td>0.00</td>\n",
       "      <td>0.00</td>\n",
       "      <td>UEFA</td>\n",
       "      <td>1993-08-08</td>\n",
       "    </tr>\n",
       "    <tr>\n",
       "      <th>27</th>\n",
       "      <td>28</td>\n",
       "      <td>USA</td>\n",
       "      <td>USA</td>\n",
       "      <td>0.00</td>\n",
       "      <td>43</td>\n",
       "      <td>-4</td>\n",
       "      <td>0.00</td>\n",
       "      <td>0.00</td>\n",
       "      <td>0.00</td>\n",
       "      <td>0.00</td>\n",
       "      <td>0.00</td>\n",
       "      <td>0.00</td>\n",
       "      <td>0.00</td>\n",
       "      <td>0.00</td>\n",
       "      <td>CONCACAF</td>\n",
       "      <td>1993-08-08</td>\n",
       "    </tr>\n",
       "    <tr>\n",
       "      <th>28</th>\n",
       "      <td>29</td>\n",
       "      <td>Côte d'Ivoire</td>\n",
       "      <td>CIV</td>\n",
       "      <td>0.00</td>\n",
       "      <td>41</td>\n",
       "      <td>-2</td>\n",
       "      <td>0.00</td>\n",
       "      <td>0.00</td>\n",
       "      <td>0.00</td>\n",
       "      <td>0.00</td>\n",
       "      <td>0.00</td>\n",
       "      <td>0.00</td>\n",
       "      <td>0.00</td>\n",
       "      <td>0.00</td>\n",
       "      <td>CAF</td>\n",
       "      <td>1993-08-08</td>\n",
       "    </tr>\n",
       "    <tr>\n",
       "      <th>29</th>\n",
       "      <td>30</td>\n",
       "      <td>Scotland</td>\n",
       "      <td>SCO</td>\n",
       "      <td>0.00</td>\n",
       "      <td>43</td>\n",
       "      <td>-7</td>\n",
       "      <td>0.00</td>\n",
       "      <td>0.00</td>\n",
       "      <td>0.00</td>\n",
       "      <td>0.00</td>\n",
       "      <td>0.00</td>\n",
       "      <td>0.00</td>\n",
       "      <td>0.00</td>\n",
       "      <td>0.00</td>\n",
       "      <td>UEFA</td>\n",
       "      <td>1993-08-08</td>\n",
       "    </tr>\n",
       "    <tr>\n",
       "      <th>...</th>\n",
       "      <td>...</td>\n",
       "      <td>...</td>\n",
       "      <td>...</td>\n",
       "      <td>...</td>\n",
       "      <td>...</td>\n",
       "      <td>...</td>\n",
       "      <td>...</td>\n",
       "      <td>...</td>\n",
       "      <td>...</td>\n",
       "      <td>...</td>\n",
       "      <td>...</td>\n",
       "      <td>...</td>\n",
       "      <td>...</td>\n",
       "      <td>...</td>\n",
       "      <td>...</td>\n",
       "      <td>...</td>\n",
       "    </tr>\n",
       "    <tr>\n",
       "      <th>57763</th>\n",
       "      <td>182</td>\n",
       "      <td>Guyana</td>\n",
       "      <td>GUY</td>\n",
       "      <td>73.41</td>\n",
       "      <td>111</td>\n",
       "      <td>-18</td>\n",
       "      <td>0.00</td>\n",
       "      <td>0.00</td>\n",
       "      <td>0.00</td>\n",
       "      <td>0.00</td>\n",
       "      <td>208.25</td>\n",
       "      <td>62.48</td>\n",
       "      <td>54.68</td>\n",
       "      <td>10.94</td>\n",
       "      <td>CONCACAF</td>\n",
       "      <td>2018-06-07</td>\n",
       "    </tr>\n",
       "    <tr>\n",
       "      <th>57764</th>\n",
       "      <td>183</td>\n",
       "      <td>Bhutan</td>\n",
       "      <td>BHU</td>\n",
       "      <td>68.00</td>\n",
       "      <td>68</td>\n",
       "      <td>1</td>\n",
       "      <td>0.00</td>\n",
       "      <td>0.00</td>\n",
       "      <td>85.00</td>\n",
       "      <td>42.50</td>\n",
       "      <td>0.00</td>\n",
       "      <td>0.00</td>\n",
       "      <td>127.50</td>\n",
       "      <td>25.50</td>\n",
       "      <td>AFC</td>\n",
       "      <td>2018-06-07</td>\n",
       "    </tr>\n",
       "    <tr>\n",
       "      <th>57765</th>\n",
       "      <td>184</td>\n",
       "      <td>Malta</td>\n",
       "      <td>MLT</td>\n",
       "      <td>65.11</td>\n",
       "      <td>62</td>\n",
       "      <td>1</td>\n",
       "      <td>29.90</td>\n",
       "      <td>29.90</td>\n",
       "      <td>11.74</td>\n",
       "      <td>5.87</td>\n",
       "      <td>64.57</td>\n",
       "      <td>19.37</td>\n",
       "      <td>49.85</td>\n",
       "      <td>9.97</td>\n",
       "      <td>UEFA</td>\n",
       "      <td>2018-06-07</td>\n",
       "    </tr>\n",
       "    <tr>\n",
       "      <th>57766</th>\n",
       "      <td>185</td>\n",
       "      <td>Macau</td>\n",
       "      <td>MAC</td>\n",
       "      <td>60.11</td>\n",
       "      <td>60</td>\n",
       "      <td>1</td>\n",
       "      <td>18.21</td>\n",
       "      <td>18.21</td>\n",
       "      <td>53.13</td>\n",
       "      <td>26.56</td>\n",
       "      <td>8.50</td>\n",
       "      <td>2.55</td>\n",
       "      <td>63.92</td>\n",
       "      <td>12.78</td>\n",
       "      <td>AFC</td>\n",
       "      <td>2018-06-07</td>\n",
       "    </tr>\n",
       "    <tr>\n",
       "      <th>57767</th>\n",
       "      <td>186</td>\n",
       "      <td>Mongolia</td>\n",
       "      <td>MNG</td>\n",
       "      <td>51.00</td>\n",
       "      <td>51</td>\n",
       "      <td>2</td>\n",
       "      <td>8.50</td>\n",
       "      <td>8.50</td>\n",
       "      <td>34.00</td>\n",
       "      <td>17.00</td>\n",
       "      <td>0.00</td>\n",
       "      <td>0.00</td>\n",
       "      <td>127.50</td>\n",
       "      <td>25.50</td>\n",
       "      <td>AFC</td>\n",
       "      <td>2018-06-07</td>\n",
       "    </tr>\n",
       "    <tr>\n",
       "      <th>57768</th>\n",
       "      <td>186</td>\n",
       "      <td>São Tomé e Príncipe</td>\n",
       "      <td>STP</td>\n",
       "      <td>50.54</td>\n",
       "      <td>59</td>\n",
       "      <td>1</td>\n",
       "      <td>0.00</td>\n",
       "      <td>0.00</td>\n",
       "      <td>0.00</td>\n",
       "      <td>0.00</td>\n",
       "      <td>168.48</td>\n",
       "      <td>50.54</td>\n",
       "      <td>0.00</td>\n",
       "      <td>0.00</td>\n",
       "      <td>CAF</td>\n",
       "      <td>2018-06-07</td>\n",
       "    </tr>\n",
       "    <tr>\n",
       "      <th>57769</th>\n",
       "      <td>188</td>\n",
       "      <td>Seychelles</td>\n",
       "      <td>SEY</td>\n",
       "      <td>48.47</td>\n",
       "      <td>37</td>\n",
       "      <td>6</td>\n",
       "      <td>22.42</td>\n",
       "      <td>22.42</td>\n",
       "      <td>7.08</td>\n",
       "      <td>3.54</td>\n",
       "      <td>58.32</td>\n",
       "      <td>17.50</td>\n",
       "      <td>25.08</td>\n",
       "      <td>5.02</td>\n",
       "      <td>CAF</td>\n",
       "      <td>2018-06-07</td>\n",
       "    </tr>\n",
       "    <tr>\n",
       "      <th>57770</th>\n",
       "      <td>188</td>\n",
       "      <td>Aruba</td>\n",
       "      <td>ARU</td>\n",
       "      <td>48.45</td>\n",
       "      <td>75</td>\n",
       "      <td>-6</td>\n",
       "      <td>0.00</td>\n",
       "      <td>0.00</td>\n",
       "      <td>0.00</td>\n",
       "      <td>0.00</td>\n",
       "      <td>161.50</td>\n",
       "      <td>48.45</td>\n",
       "      <td>0.00</td>\n",
       "      <td>0.00</td>\n",
       "      <td>CONCACAF</td>\n",
       "      <td>2018-06-07</td>\n",
       "    </tr>\n",
       "    <tr>\n",
       "      <th>57771</th>\n",
       "      <td>190</td>\n",
       "      <td>Guam</td>\n",
       "      <td>GUM</td>\n",
       "      <td>44.96</td>\n",
       "      <td>45</td>\n",
       "      <td>-1</td>\n",
       "      <td>0.00</td>\n",
       "      <td>0.00</td>\n",
       "      <td>0.00</td>\n",
       "      <td>0.00</td>\n",
       "      <td>113.42</td>\n",
       "      <td>34.03</td>\n",
       "      <td>54.64</td>\n",
       "      <td>10.93</td>\n",
       "      <td>AFC</td>\n",
       "      <td>2018-06-07</td>\n",
       "    </tr>\n",
       "    <tr>\n",
       "      <th>57772</th>\n",
       "      <td>190</td>\n",
       "      <td>Timor-Leste</td>\n",
       "      <td>TLS</td>\n",
       "      <td>44.86</td>\n",
       "      <td>44</td>\n",
       "      <td>0</td>\n",
       "      <td>41.82</td>\n",
       "      <td>41.82</td>\n",
       "      <td>6.07</td>\n",
       "      <td>3.04</td>\n",
       "      <td>0.00</td>\n",
       "      <td>0.00</td>\n",
       "      <td>0.00</td>\n",
       "      <td>0.00</td>\n",
       "      <td>AFC</td>\n",
       "      <td>2018-06-07</td>\n",
       "    </tr>\n",
       "    <tr>\n",
       "      <th>57773</th>\n",
       "      <td>192</td>\n",
       "      <td>American Samoa</td>\n",
       "      <td>ASA</td>\n",
       "      <td>38.25</td>\n",
       "      <td>38</td>\n",
       "      <td>-1</td>\n",
       "      <td>0.00</td>\n",
       "      <td>0.00</td>\n",
       "      <td>0.00</td>\n",
       "      <td>0.00</td>\n",
       "      <td>127.50</td>\n",
       "      <td>38.25</td>\n",
       "      <td>0.00</td>\n",
       "      <td>0.00</td>\n",
       "      <td>OFC</td>\n",
       "      <td>2018-06-07</td>\n",
       "    </tr>\n",
       "    <tr>\n",
       "      <th>57774</th>\n",
       "      <td>192</td>\n",
       "      <td>Cook Islands</td>\n",
       "      <td>COK</td>\n",
       "      <td>38.25</td>\n",
       "      <td>38</td>\n",
       "      <td>-1</td>\n",
       "      <td>0.00</td>\n",
       "      <td>0.00</td>\n",
       "      <td>0.00</td>\n",
       "      <td>0.00</td>\n",
       "      <td>127.50</td>\n",
       "      <td>38.25</td>\n",
       "      <td>0.00</td>\n",
       "      <td>0.00</td>\n",
       "      <td>OFC</td>\n",
       "      <td>2018-06-07</td>\n",
       "    </tr>\n",
       "    <tr>\n",
       "      <th>57775</th>\n",
       "      <td>194</td>\n",
       "      <td>Bangladesh</td>\n",
       "      <td>BAN</td>\n",
       "      <td>34.76</td>\n",
       "      <td>33</td>\n",
       "      <td>3</td>\n",
       "      <td>0.00</td>\n",
       "      <td>0.00</td>\n",
       "      <td>21.25</td>\n",
       "      <td>10.63</td>\n",
       "      <td>35.13</td>\n",
       "      <td>10.54</td>\n",
       "      <td>68.00</td>\n",
       "      <td>13.60</td>\n",
       "      <td>AFC</td>\n",
       "      <td>2018-06-07</td>\n",
       "    </tr>\n",
       "    <tr>\n",
       "      <th>57776</th>\n",
       "      <td>195</td>\n",
       "      <td>Gibraltar</td>\n",
       "      <td>GIB</td>\n",
       "      <td>34.16</td>\n",
       "      <td>34</td>\n",
       "      <td>1</td>\n",
       "      <td>34.16</td>\n",
       "      <td>34.16</td>\n",
       "      <td>0.00</td>\n",
       "      <td>0.00</td>\n",
       "      <td>0.00</td>\n",
       "      <td>0.00</td>\n",
       "      <td>0.00</td>\n",
       "      <td>0.00</td>\n",
       "      <td>UEFA</td>\n",
       "      <td>2018-06-07</td>\n",
       "    </tr>\n",
       "    <tr>\n",
       "      <th>57777</th>\n",
       "      <td>195</td>\n",
       "      <td>Brunei Darussalam</td>\n",
       "      <td>BRU</td>\n",
       "      <td>34.00</td>\n",
       "      <td>36</td>\n",
       "      <td>0</td>\n",
       "      <td>0.00</td>\n",
       "      <td>0.00</td>\n",
       "      <td>42.50</td>\n",
       "      <td>21.25</td>\n",
       "      <td>0.00</td>\n",
       "      <td>0.00</td>\n",
       "      <td>63.75</td>\n",
       "      <td>12.75</td>\n",
       "      <td>AFC</td>\n",
       "      <td>2018-06-07</td>\n",
       "    </tr>\n",
       "    <tr>\n",
       "      <th>57778</th>\n",
       "      <td>197</td>\n",
       "      <td>Djibouti</td>\n",
       "      <td>DJI</td>\n",
       "      <td>31.88</td>\n",
       "      <td>27</td>\n",
       "      <td>1</td>\n",
       "      <td>0.00</td>\n",
       "      <td>0.00</td>\n",
       "      <td>63.75</td>\n",
       "      <td>31.88</td>\n",
       "      <td>0.00</td>\n",
       "      <td>0.00</td>\n",
       "      <td>0.00</td>\n",
       "      <td>0.00</td>\n",
       "      <td>CAF</td>\n",
       "      <td>2018-06-07</td>\n",
       "    </tr>\n",
       "    <tr>\n",
       "      <th>57779</th>\n",
       "      <td>197</td>\n",
       "      <td>Samoa</td>\n",
       "      <td>SAM</td>\n",
       "      <td>31.88</td>\n",
       "      <td>38</td>\n",
       "      <td>-6</td>\n",
       "      <td>0.00</td>\n",
       "      <td>0.00</td>\n",
       "      <td>0.00</td>\n",
       "      <td>0.00</td>\n",
       "      <td>106.25</td>\n",
       "      <td>31.88</td>\n",
       "      <td>0.00</td>\n",
       "      <td>0.00</td>\n",
       "      <td>OFC</td>\n",
       "      <td>2018-06-07</td>\n",
       "    </tr>\n",
       "    <tr>\n",
       "      <th>57780</th>\n",
       "      <td>199</td>\n",
       "      <td>US Virgin Islands</td>\n",
       "      <td>VIR</td>\n",
       "      <td>17.60</td>\n",
       "      <td>18</td>\n",
       "      <td>0</td>\n",
       "      <td>0.00</td>\n",
       "      <td>0.00</td>\n",
       "      <td>0.00</td>\n",
       "      <td>0.00</td>\n",
       "      <td>0.00</td>\n",
       "      <td>0.00</td>\n",
       "      <td>87.98</td>\n",
       "      <td>17.60</td>\n",
       "      <td>CONCACAF</td>\n",
       "      <td>2018-06-07</td>\n",
       "    </tr>\n",
       "    <tr>\n",
       "      <th>57781</th>\n",
       "      <td>200</td>\n",
       "      <td>Sri Lanka</td>\n",
       "      <td>SRI</td>\n",
       "      <td>16.76</td>\n",
       "      <td>17</td>\n",
       "      <td>0</td>\n",
       "      <td>0.00</td>\n",
       "      <td>0.00</td>\n",
       "      <td>8.50</td>\n",
       "      <td>4.25</td>\n",
       "      <td>25.50</td>\n",
       "      <td>7.65</td>\n",
       "      <td>24.29</td>\n",
       "      <td>4.86</td>\n",
       "      <td>AFC</td>\n",
       "      <td>2018-06-07</td>\n",
       "    </tr>\n",
       "    <tr>\n",
       "      <th>57782</th>\n",
       "      <td>201</td>\n",
       "      <td>Pakistan</td>\n",
       "      <td>PAK</td>\n",
       "      <td>10.17</td>\n",
       "      <td>10</td>\n",
       "      <td>2</td>\n",
       "      <td>0.00</td>\n",
       "      <td>0.00</td>\n",
       "      <td>0.00</td>\n",
       "      <td>0.00</td>\n",
       "      <td>0.00</td>\n",
       "      <td>0.00</td>\n",
       "      <td>50.83</td>\n",
       "      <td>10.17</td>\n",
       "      <td>AFC</td>\n",
       "      <td>2018-06-07</td>\n",
       "    </tr>\n",
       "    <tr>\n",
       "      <th>57783</th>\n",
       "      <td>202</td>\n",
       "      <td>Cayman Islands</td>\n",
       "      <td>CAY</td>\n",
       "      <td>8.50</td>\n",
       "      <td>9</td>\n",
       "      <td>2</td>\n",
       "      <td>0.00</td>\n",
       "      <td>0.00</td>\n",
       "      <td>0.00</td>\n",
       "      <td>0.00</td>\n",
       "      <td>0.00</td>\n",
       "      <td>0.00</td>\n",
       "      <td>42.50</td>\n",
       "      <td>8.50</td>\n",
       "      <td>CONCACAF</td>\n",
       "      <td>2018-06-07</td>\n",
       "    </tr>\n",
       "    <tr>\n",
       "      <th>57784</th>\n",
       "      <td>203</td>\n",
       "      <td>San Marino</td>\n",
       "      <td>SMR</td>\n",
       "      <td>7.92</td>\n",
       "      <td>8</td>\n",
       "      <td>2</td>\n",
       "      <td>0.00</td>\n",
       "      <td>0.00</td>\n",
       "      <td>0.00</td>\n",
       "      <td>0.00</td>\n",
       "      <td>0.00</td>\n",
       "      <td>0.00</td>\n",
       "      <td>39.60</td>\n",
       "      <td>7.92</td>\n",
       "      <td>UEFA</td>\n",
       "      <td>2018-06-07</td>\n",
       "    </tr>\n",
       "    <tr>\n",
       "      <th>57785</th>\n",
       "      <td>204</td>\n",
       "      <td>British Virgin Islands</td>\n",
       "      <td>VGB</td>\n",
       "      <td>4.25</td>\n",
       "      <td>4</td>\n",
       "      <td>2</td>\n",
       "      <td>0.00</td>\n",
       "      <td>0.00</td>\n",
       "      <td>0.00</td>\n",
       "      <td>0.00</td>\n",
       "      <td>0.00</td>\n",
       "      <td>0.00</td>\n",
       "      <td>21.25</td>\n",
       "      <td>4.25</td>\n",
       "      <td>CONCACAF</td>\n",
       "      <td>2018-06-07</td>\n",
       "    </tr>\n",
       "    <tr>\n",
       "      <th>57786</th>\n",
       "      <td>204</td>\n",
       "      <td>Montserrat</td>\n",
       "      <td>MSR</td>\n",
       "      <td>4.25</td>\n",
       "      <td>17</td>\n",
       "      <td>-4</td>\n",
       "      <td>0.00</td>\n",
       "      <td>0.00</td>\n",
       "      <td>0.00</td>\n",
       "      <td>0.00</td>\n",
       "      <td>0.00</td>\n",
       "      <td>0.00</td>\n",
       "      <td>21.25</td>\n",
       "      <td>4.25</td>\n",
       "      <td>CONCACAF</td>\n",
       "      <td>2018-06-07</td>\n",
       "    </tr>\n",
       "    <tr>\n",
       "      <th>57787</th>\n",
       "      <td>206</td>\n",
       "      <td>Turks and Caicos Islands</td>\n",
       "      <td>TCA</td>\n",
       "      <td>0.00</td>\n",
       "      <td>13</td>\n",
       "      <td>-4</td>\n",
       "      <td>0.00</td>\n",
       "      <td>0.00</td>\n",
       "      <td>0.00</td>\n",
       "      <td>0.00</td>\n",
       "      <td>0.00</td>\n",
       "      <td>0.00</td>\n",
       "      <td>0.00</td>\n",
       "      <td>0.00</td>\n",
       "      <td>CONCACAF</td>\n",
       "      <td>2018-06-07</td>\n",
       "    </tr>\n",
       "    <tr>\n",
       "      <th>57788</th>\n",
       "      <td>206</td>\n",
       "      <td>Anguilla</td>\n",
       "      <td>AIA</td>\n",
       "      <td>0.00</td>\n",
       "      <td>0</td>\n",
       "      <td>1</td>\n",
       "      <td>0.00</td>\n",
       "      <td>0.00</td>\n",
       "      <td>0.00</td>\n",
       "      <td>0.00</td>\n",
       "      <td>0.00</td>\n",
       "      <td>0.00</td>\n",
       "      <td>0.00</td>\n",
       "      <td>0.00</td>\n",
       "      <td>CONCACAF</td>\n",
       "      <td>2018-06-07</td>\n",
       "    </tr>\n",
       "    <tr>\n",
       "      <th>57789</th>\n",
       "      <td>206</td>\n",
       "      <td>Bahamas</td>\n",
       "      <td>BAH</td>\n",
       "      <td>0.00</td>\n",
       "      <td>0</td>\n",
       "      <td>1</td>\n",
       "      <td>0.00</td>\n",
       "      <td>0.00</td>\n",
       "      <td>0.00</td>\n",
       "      <td>0.00</td>\n",
       "      <td>0.00</td>\n",
       "      <td>0.00</td>\n",
       "      <td>0.00</td>\n",
       "      <td>0.00</td>\n",
       "      <td>CONCACAF</td>\n",
       "      <td>2018-06-07</td>\n",
       "    </tr>\n",
       "    <tr>\n",
       "      <th>57790</th>\n",
       "      <td>206</td>\n",
       "      <td>Eritrea</td>\n",
       "      <td>ERI</td>\n",
       "      <td>0.00</td>\n",
       "      <td>0</td>\n",
       "      <td>1</td>\n",
       "      <td>0.00</td>\n",
       "      <td>0.00</td>\n",
       "      <td>0.00</td>\n",
       "      <td>0.00</td>\n",
       "      <td>0.00</td>\n",
       "      <td>0.00</td>\n",
       "      <td>0.00</td>\n",
       "      <td>0.00</td>\n",
       "      <td>CAF</td>\n",
       "      <td>2018-06-07</td>\n",
       "    </tr>\n",
       "    <tr>\n",
       "      <th>57791</th>\n",
       "      <td>206</td>\n",
       "      <td>Somalia</td>\n",
       "      <td>SOM</td>\n",
       "      <td>0.00</td>\n",
       "      <td>0</td>\n",
       "      <td>1</td>\n",
       "      <td>0.00</td>\n",
       "      <td>0.00</td>\n",
       "      <td>0.00</td>\n",
       "      <td>0.00</td>\n",
       "      <td>0.00</td>\n",
       "      <td>0.00</td>\n",
       "      <td>0.00</td>\n",
       "      <td>0.00</td>\n",
       "      <td>CAF</td>\n",
       "      <td>2018-06-07</td>\n",
       "    </tr>\n",
       "    <tr>\n",
       "      <th>57792</th>\n",
       "      <td>206</td>\n",
       "      <td>Tonga</td>\n",
       "      <td>TGA</td>\n",
       "      <td>0.00</td>\n",
       "      <td>0</td>\n",
       "      <td>1</td>\n",
       "      <td>0.00</td>\n",
       "      <td>0.00</td>\n",
       "      <td>0.00</td>\n",
       "      <td>0.00</td>\n",
       "      <td>0.00</td>\n",
       "      <td>0.00</td>\n",
       "      <td>0.00</td>\n",
       "      <td>0.00</td>\n",
       "      <td>OFC</td>\n",
       "      <td>2018-06-07</td>\n",
       "    </tr>\n",
       "  </tbody>\n",
       "</table>\n",
       "<p>57793 rows × 16 columns</p>\n",
       "</div>"
      ],
      "text/plain": [
       "       rank              country_full country_abrv  total_points  \\\n",
       "0         1                   Germany          GER          0.00   \n",
       "1         2                     Italy          ITA          0.00   \n",
       "2         3               Switzerland          SUI          0.00   \n",
       "3         4                    Sweden          SWE          0.00   \n",
       "4         5                 Argentina          ARG          0.00   \n",
       "5         6       Republic of Ireland          IRL          0.00   \n",
       "6         7                    Russia          RUS          0.00   \n",
       "7         8                    Brazil          BRA          0.00   \n",
       "8         9                    Norway          NOR          0.00   \n",
       "9        10                   Denmark          DEN          0.00   \n",
       "10       11                   England          ENG          0.00   \n",
       "11       12                    France          FRA          0.00   \n",
       "12       13                     Spain          ESP          0.00   \n",
       "13       14                    Mexico          MEX          0.00   \n",
       "14       15                       RCS          TCH          0.00   \n",
       "15       16               Netherlands          NED          0.00   \n",
       "16       17                   Nigeria          NGA          0.00   \n",
       "17       18                   Belgium          BEL          0.00   \n",
       "18       19                  Colombia          COL          0.00   \n",
       "19       20                    Poland          POL          0.00   \n",
       "20       21                   Romania          ROU          0.00   \n",
       "21       22                   Uruguay          URU          0.00   \n",
       "22       23                  Portugal          POR          0.00   \n",
       "23       24                  Cameroon          CMR          0.00   \n",
       "24       25                    Zambia          ZAM          0.00   \n",
       "25       26                     Egypt          EGY          0.00   \n",
       "26       27                     Wales          WAL          0.00   \n",
       "27       28                       USA          USA          0.00   \n",
       "28       29             Côte d'Ivoire          CIV          0.00   \n",
       "29       30                  Scotland          SCO          0.00   \n",
       "...     ...                       ...          ...           ...   \n",
       "57763   182                    Guyana          GUY         73.41   \n",
       "57764   183                    Bhutan          BHU         68.00   \n",
       "57765   184                     Malta          MLT         65.11   \n",
       "57766   185                     Macau          MAC         60.11   \n",
       "57767   186                  Mongolia          MNG         51.00   \n",
       "57768   186       São Tomé e Príncipe          STP         50.54   \n",
       "57769   188                Seychelles          SEY         48.47   \n",
       "57770   188                     Aruba          ARU         48.45   \n",
       "57771   190                      Guam          GUM         44.96   \n",
       "57772   190               Timor-Leste          TLS         44.86   \n",
       "57773   192            American Samoa          ASA         38.25   \n",
       "57774   192              Cook Islands          COK         38.25   \n",
       "57775   194                Bangladesh          BAN         34.76   \n",
       "57776   195                 Gibraltar          GIB         34.16   \n",
       "57777   195         Brunei Darussalam          BRU         34.00   \n",
       "57778   197                  Djibouti          DJI         31.88   \n",
       "57779   197                     Samoa          SAM         31.88   \n",
       "57780   199         US Virgin Islands          VIR         17.60   \n",
       "57781   200                 Sri Lanka          SRI         16.76   \n",
       "57782   201                  Pakistan          PAK         10.17   \n",
       "57783   202            Cayman Islands          CAY          8.50   \n",
       "57784   203                San Marino          SMR          7.92   \n",
       "57785   204    British Virgin Islands          VGB          4.25   \n",
       "57786   204                Montserrat          MSR          4.25   \n",
       "57787   206  Turks and Caicos Islands          TCA          0.00   \n",
       "57788   206                  Anguilla          AIA          0.00   \n",
       "57789   206                   Bahamas          BAH          0.00   \n",
       "57790   206                   Eritrea          ERI          0.00   \n",
       "57791   206                   Somalia          SOM          0.00   \n",
       "57792   206                     Tonga          TGA          0.00   \n",
       "\n",
       "       previous_points  rank_change  cur_year_avg  cur_year_avg_weighted  \\\n",
       "0                   57            0          0.00                   0.00   \n",
       "1                   57            0          0.00                   0.00   \n",
       "2                   50            9          0.00                   0.00   \n",
       "3                   55            0          0.00                   0.00   \n",
       "4                   51            5          0.00                   0.00   \n",
       "5                   54            0          0.00                   0.00   \n",
       "6                   52            1          0.00                   0.00   \n",
       "7                   55           -5          0.00                   0.00   \n",
       "8                   49            5          0.00                   0.00   \n",
       "9                   51           -1          0.00                   0.00   \n",
       "10                  55           -6          0.00                   0.00   \n",
       "11                  45            7          0.00                   0.00   \n",
       "12                  49            2          0.00                   0.00   \n",
       "13                  42           11          0.00                   0.00   \n",
       "14                  47            3          0.00                   0.00   \n",
       "15                  53           -9          0.00                   0.00   \n",
       "16                  49           -4          0.00                   0.00   \n",
       "17                  47           -1          0.00                   0.00   \n",
       "18                  36           16          0.00                   0.00   \n",
       "19                  45            0          0.00                   0.00   \n",
       "20                  51          -10          0.00                   0.00   \n",
       "21                  47           -6          0.00                   0.00   \n",
       "22                  38           10          0.00                   0.00   \n",
       "23                  43           -2          0.00                   0.00   \n",
       "24                  38            7          0.00                   0.00   \n",
       "25                  44           -5          0.00                   0.00   \n",
       "26                  40            1          0.00                   0.00   \n",
       "27                  43           -4          0.00                   0.00   \n",
       "28                  41           -2          0.00                   0.00   \n",
       "29                  43           -7          0.00                   0.00   \n",
       "...                ...          ...           ...                    ...   \n",
       "57763              111          -18          0.00                   0.00   \n",
       "57764               68            1          0.00                   0.00   \n",
       "57765               62            1         29.90                  29.90   \n",
       "57766               60            1         18.21                  18.21   \n",
       "57767               51            2          8.50                   8.50   \n",
       "57768               59            1          0.00                   0.00   \n",
       "57769               37            6         22.42                  22.42   \n",
       "57770               75           -6          0.00                   0.00   \n",
       "57771               45           -1          0.00                   0.00   \n",
       "57772               44            0         41.82                  41.82   \n",
       "57773               38           -1          0.00                   0.00   \n",
       "57774               38           -1          0.00                   0.00   \n",
       "57775               33            3          0.00                   0.00   \n",
       "57776               34            1         34.16                  34.16   \n",
       "57777               36            0          0.00                   0.00   \n",
       "57778               27            1          0.00                   0.00   \n",
       "57779               38           -6          0.00                   0.00   \n",
       "57780               18            0          0.00                   0.00   \n",
       "57781               17            0          0.00                   0.00   \n",
       "57782               10            2          0.00                   0.00   \n",
       "57783                9            2          0.00                   0.00   \n",
       "57784                8            2          0.00                   0.00   \n",
       "57785                4            2          0.00                   0.00   \n",
       "57786               17           -4          0.00                   0.00   \n",
       "57787               13           -4          0.00                   0.00   \n",
       "57788                0            1          0.00                   0.00   \n",
       "57789                0            1          0.00                   0.00   \n",
       "57790                0            1          0.00                   0.00   \n",
       "57791                0            1          0.00                   0.00   \n",
       "57792                0            1          0.00                   0.00   \n",
       "\n",
       "       last_year_avg  last_year_avg_weighted  two_year_ago_avg  \\\n",
       "0               0.00                    0.00              0.00   \n",
       "1               0.00                    0.00              0.00   \n",
       "2               0.00                    0.00              0.00   \n",
       "3               0.00                    0.00              0.00   \n",
       "4               0.00                    0.00              0.00   \n",
       "5               0.00                    0.00              0.00   \n",
       "6               0.00                    0.00              0.00   \n",
       "7               0.00                    0.00              0.00   \n",
       "8               0.00                    0.00              0.00   \n",
       "9               0.00                    0.00              0.00   \n",
       "10              0.00                    0.00              0.00   \n",
       "11              0.00                    0.00              0.00   \n",
       "12              0.00                    0.00              0.00   \n",
       "13              0.00                    0.00              0.00   \n",
       "14              0.00                    0.00              0.00   \n",
       "15              0.00                    0.00              0.00   \n",
       "16              0.00                    0.00              0.00   \n",
       "17              0.00                    0.00              0.00   \n",
       "18              0.00                    0.00              0.00   \n",
       "19              0.00                    0.00              0.00   \n",
       "20              0.00                    0.00              0.00   \n",
       "21              0.00                    0.00              0.00   \n",
       "22              0.00                    0.00              0.00   \n",
       "23              0.00                    0.00              0.00   \n",
       "24              0.00                    0.00              0.00   \n",
       "25              0.00                    0.00              0.00   \n",
       "26              0.00                    0.00              0.00   \n",
       "27              0.00                    0.00              0.00   \n",
       "28              0.00                    0.00              0.00   \n",
       "29              0.00                    0.00              0.00   \n",
       "...              ...                     ...               ...   \n",
       "57763           0.00                    0.00            208.25   \n",
       "57764          85.00                   42.50              0.00   \n",
       "57765          11.74                    5.87             64.57   \n",
       "57766          53.13                   26.56              8.50   \n",
       "57767          34.00                   17.00              0.00   \n",
       "57768           0.00                    0.00            168.48   \n",
       "57769           7.08                    3.54             58.32   \n",
       "57770           0.00                    0.00            161.50   \n",
       "57771           0.00                    0.00            113.42   \n",
       "57772           6.07                    3.04              0.00   \n",
       "57773           0.00                    0.00            127.50   \n",
       "57774           0.00                    0.00            127.50   \n",
       "57775          21.25                   10.63             35.13   \n",
       "57776           0.00                    0.00              0.00   \n",
       "57777          42.50                   21.25              0.00   \n",
       "57778          63.75                   31.88              0.00   \n",
       "57779           0.00                    0.00            106.25   \n",
       "57780           0.00                    0.00              0.00   \n",
       "57781           8.50                    4.25             25.50   \n",
       "57782           0.00                    0.00              0.00   \n",
       "57783           0.00                    0.00              0.00   \n",
       "57784           0.00                    0.00              0.00   \n",
       "57785           0.00                    0.00              0.00   \n",
       "57786           0.00                    0.00              0.00   \n",
       "57787           0.00                    0.00              0.00   \n",
       "57788           0.00                    0.00              0.00   \n",
       "57789           0.00                    0.00              0.00   \n",
       "57790           0.00                    0.00              0.00   \n",
       "57791           0.00                    0.00              0.00   \n",
       "57792           0.00                    0.00              0.00   \n",
       "\n",
       "       two_year_ago_weighted  three_year_ago_avg  three_year_ago_weighted  \\\n",
       "0                       0.00                0.00                     0.00   \n",
       "1                       0.00                0.00                     0.00   \n",
       "2                       0.00                0.00                     0.00   \n",
       "3                       0.00                0.00                     0.00   \n",
       "4                       0.00                0.00                     0.00   \n",
       "5                       0.00                0.00                     0.00   \n",
       "6                       0.00                0.00                     0.00   \n",
       "7                       0.00                0.00                     0.00   \n",
       "8                       0.00                0.00                     0.00   \n",
       "9                       0.00                0.00                     0.00   \n",
       "10                      0.00                0.00                     0.00   \n",
       "11                      0.00                0.00                     0.00   \n",
       "12                      0.00                0.00                     0.00   \n",
       "13                      0.00                0.00                     0.00   \n",
       "14                      0.00                0.00                     0.00   \n",
       "15                      0.00                0.00                     0.00   \n",
       "16                      0.00                0.00                     0.00   \n",
       "17                      0.00                0.00                     0.00   \n",
       "18                      0.00                0.00                     0.00   \n",
       "19                      0.00                0.00                     0.00   \n",
       "20                      0.00                0.00                     0.00   \n",
       "21                      0.00                0.00                     0.00   \n",
       "22                      0.00                0.00                     0.00   \n",
       "23                      0.00                0.00                     0.00   \n",
       "24                      0.00                0.00                     0.00   \n",
       "25                      0.00                0.00                     0.00   \n",
       "26                      0.00                0.00                     0.00   \n",
       "27                      0.00                0.00                     0.00   \n",
       "28                      0.00                0.00                     0.00   \n",
       "29                      0.00                0.00                     0.00   \n",
       "...                      ...                 ...                      ...   \n",
       "57763                  62.48               54.68                    10.94   \n",
       "57764                   0.00              127.50                    25.50   \n",
       "57765                  19.37               49.85                     9.97   \n",
       "57766                   2.55               63.92                    12.78   \n",
       "57767                   0.00              127.50                    25.50   \n",
       "57768                  50.54                0.00                     0.00   \n",
       "57769                  17.50               25.08                     5.02   \n",
       "57770                  48.45                0.00                     0.00   \n",
       "57771                  34.03               54.64                    10.93   \n",
       "57772                   0.00                0.00                     0.00   \n",
       "57773                  38.25                0.00                     0.00   \n",
       "57774                  38.25                0.00                     0.00   \n",
       "57775                  10.54               68.00                    13.60   \n",
       "57776                   0.00                0.00                     0.00   \n",
       "57777                   0.00               63.75                    12.75   \n",
       "57778                   0.00                0.00                     0.00   \n",
       "57779                  31.88                0.00                     0.00   \n",
       "57780                   0.00               87.98                    17.60   \n",
       "57781                   7.65               24.29                     4.86   \n",
       "57782                   0.00               50.83                    10.17   \n",
       "57783                   0.00               42.50                     8.50   \n",
       "57784                   0.00               39.60                     7.92   \n",
       "57785                   0.00               21.25                     4.25   \n",
       "57786                   0.00               21.25                     4.25   \n",
       "57787                   0.00                0.00                     0.00   \n",
       "57788                   0.00                0.00                     0.00   \n",
       "57789                   0.00                0.00                     0.00   \n",
       "57790                   0.00                0.00                     0.00   \n",
       "57791                   0.00                0.00                     0.00   \n",
       "57792                   0.00                0.00                     0.00   \n",
       "\n",
       "      confederation   rank_date  \n",
       "0              UEFA  1993-08-08  \n",
       "1              UEFA  1993-08-08  \n",
       "2              UEFA  1993-08-08  \n",
       "3              UEFA  1993-08-08  \n",
       "4          CONMEBOL  1993-08-08  \n",
       "5              UEFA  1993-08-08  \n",
       "6              UEFA  1993-08-08  \n",
       "7          CONMEBOL  1993-08-08  \n",
       "8              UEFA  1993-08-08  \n",
       "9              UEFA  1993-08-08  \n",
       "10             UEFA  1993-08-08  \n",
       "11             UEFA  1993-08-08  \n",
       "12             UEFA  1993-08-08  \n",
       "13         CONCACAF  1993-08-08  \n",
       "14             UEFA  1993-08-08  \n",
       "15             UEFA  1993-08-08  \n",
       "16              CAF  1993-08-08  \n",
       "17             UEFA  1993-08-08  \n",
       "18         CONMEBOL  1993-08-08  \n",
       "19             UEFA  1993-08-08  \n",
       "20             UEFA  1993-08-08  \n",
       "21         CONMEBOL  1993-08-08  \n",
       "22             UEFA  1993-08-08  \n",
       "23              CAF  1993-08-08  \n",
       "24              CAF  1993-08-08  \n",
       "25              CAF  1993-08-08  \n",
       "26             UEFA  1993-08-08  \n",
       "27         CONCACAF  1993-08-08  \n",
       "28              CAF  1993-08-08  \n",
       "29             UEFA  1993-08-08  \n",
       "...             ...         ...  \n",
       "57763      CONCACAF  2018-06-07  \n",
       "57764           AFC  2018-06-07  \n",
       "57765          UEFA  2018-06-07  \n",
       "57766           AFC  2018-06-07  \n",
       "57767           AFC  2018-06-07  \n",
       "57768           CAF  2018-06-07  \n",
       "57769           CAF  2018-06-07  \n",
       "57770      CONCACAF  2018-06-07  \n",
       "57771           AFC  2018-06-07  \n",
       "57772           AFC  2018-06-07  \n",
       "57773           OFC  2018-06-07  \n",
       "57774           OFC  2018-06-07  \n",
       "57775           AFC  2018-06-07  \n",
       "57776          UEFA  2018-06-07  \n",
       "57777           AFC  2018-06-07  \n",
       "57778           CAF  2018-06-07  \n",
       "57779           OFC  2018-06-07  \n",
       "57780      CONCACAF  2018-06-07  \n",
       "57781           AFC  2018-06-07  \n",
       "57782           AFC  2018-06-07  \n",
       "57783      CONCACAF  2018-06-07  \n",
       "57784          UEFA  2018-06-07  \n",
       "57785      CONCACAF  2018-06-07  \n",
       "57786      CONCACAF  2018-06-07  \n",
       "57787      CONCACAF  2018-06-07  \n",
       "57788      CONCACAF  2018-06-07  \n",
       "57789      CONCACAF  2018-06-07  \n",
       "57790           CAF  2018-06-07  \n",
       "57791           CAF  2018-06-07  \n",
       "57792           OFC  2018-06-07  \n",
       "\n",
       "[57793 rows x 16 columns]"
      ]
     },
     "execution_count": 1,
     "metadata": {},
     "output_type": "execute_result"
    }
   ],
   "source": [
    "import pandas as pd\n",
    "\n",
    "ranking_fifa = pd.read_csv(\"Data/fifa_ranking.csv\")\n",
    "print(ranking_fifa.shape)\n",
    "ranking_fifa"
   ]
  },
  {
   "cell_type": "markdown",
   "metadata": {},
   "source": [
    "Tab. 1. Ranking da Fifa. Tem informação aí desde 1993, melhor que muito dado público que se vê por aí. "
   ]
  },
  {
   "cell_type": "markdown",
   "metadata": {},
   "source": [
    "O segundo é uma mistura de dados históricos sobre as seleções da copa atual e informações sobre os jogos da primeira fase:"
   ]
  },
  {
   "cell_type": "code",
   "execution_count": 2,
   "metadata": {},
   "outputs": [
    {
     "name": "stdout",
     "output_type": "stream",
     "text": [
      "(33, 20)\n"
     ]
    },
    {
     "data": {
      "text/html": [
       "<div>\n",
       "<style scoped>\n",
       "    .dataframe tbody tr th:only-of-type {\n",
       "        vertical-align: middle;\n",
       "    }\n",
       "\n",
       "    .dataframe tbody tr th {\n",
       "        vertical-align: top;\n",
       "    }\n",
       "\n",
       "    .dataframe thead th {\n",
       "        text-align: right;\n",
       "    }\n",
       "</style>\n",
       "<table border=\"1\" class=\"dataframe\">\n",
       "  <thead>\n",
       "    <tr style=\"text-align: right;\">\n",
       "      <th></th>\n",
       "      <th>Team</th>\n",
       "      <th>Group</th>\n",
       "      <th>Previous \n",
       "appearances</th>\n",
       "      <th>Previous \n",
       "titles</th>\n",
       "      <th>Previous\n",
       " finals</th>\n",
       "      <th>Previous\n",
       " semifinals</th>\n",
       "      <th>Current \n",
       "FIFA rank</th>\n",
       "      <th>First match \n",
       "against</th>\n",
       "      <th>Match index</th>\n",
       "      <th>history with \n",
       "first opponent\n",
       " W-L</th>\n",
       "      <th>history with\n",
       " first opponent\n",
       " goals</th>\n",
       "      <th>Second match\n",
       " against</th>\n",
       "      <th>Match index.1</th>\n",
       "      <th>history with\n",
       " second opponent\n",
       " W-L</th>\n",
       "      <th>history with\n",
       " second opponent\n",
       " goals</th>\n",
       "      <th>Third match\n",
       " against</th>\n",
       "      <th>Match index.2</th>\n",
       "      <th>history with\n",
       " third opponent\n",
       " W-L</th>\n",
       "      <th>history with\n",
       " third opponent\n",
       " goals</th>\n",
       "      <th>Unnamed: 19</th>\n",
       "    </tr>\n",
       "  </thead>\n",
       "  <tbody>\n",
       "    <tr>\n",
       "      <th>0</th>\n",
       "      <td>Russia</td>\n",
       "      <td>A</td>\n",
       "      <td>10.0</td>\n",
       "      <td>0.0</td>\n",
       "      <td>0.0</td>\n",
       "      <td>1.0</td>\n",
       "      <td>65.0</td>\n",
       "      <td>Saudi Arabia</td>\n",
       "      <td>1.0</td>\n",
       "      <td>-1.0</td>\n",
       "      <td>-2.0</td>\n",
       "      <td>Egypt</td>\n",
       "      <td>17.0</td>\n",
       "      <td>NaN</td>\n",
       "      <td>NaN</td>\n",
       "      <td>Uruguay</td>\n",
       "      <td>33.0</td>\n",
       "      <td>0.0</td>\n",
       "      <td>0.0</td>\n",
       "      <td>NaN</td>\n",
       "    </tr>\n",
       "    <tr>\n",
       "      <th>1</th>\n",
       "      <td>Saudi Arabia</td>\n",
       "      <td>A</td>\n",
       "      <td>4.0</td>\n",
       "      <td>0.0</td>\n",
       "      <td>0.0</td>\n",
       "      <td>0.0</td>\n",
       "      <td>63.0</td>\n",
       "      <td>Russia</td>\n",
       "      <td>1.0</td>\n",
       "      <td>1.0</td>\n",
       "      <td>2.0</td>\n",
       "      <td>Uruguay</td>\n",
       "      <td>18.0</td>\n",
       "      <td>1.0</td>\n",
       "      <td>1.0</td>\n",
       "      <td>Egypt</td>\n",
       "      <td>34.0</td>\n",
       "      <td>-5.0</td>\n",
       "      <td>-5.0</td>\n",
       "      <td>NaN</td>\n",
       "    </tr>\n",
       "    <tr>\n",
       "      <th>2</th>\n",
       "      <td>Egypt</td>\n",
       "      <td>A</td>\n",
       "      <td>2.0</td>\n",
       "      <td>0.0</td>\n",
       "      <td>0.0</td>\n",
       "      <td>0.0</td>\n",
       "      <td>31.0</td>\n",
       "      <td>Uruguay</td>\n",
       "      <td>2.0</td>\n",
       "      <td>-1.0</td>\n",
       "      <td>-2.0</td>\n",
       "      <td>Russia</td>\n",
       "      <td>17.0</td>\n",
       "      <td>NaN</td>\n",
       "      <td>NaN</td>\n",
       "      <td>Saudi Arabia</td>\n",
       "      <td>34.0</td>\n",
       "      <td>5.0</td>\n",
       "      <td>5.0</td>\n",
       "      <td>NaN</td>\n",
       "    </tr>\n",
       "    <tr>\n",
       "      <th>3</th>\n",
       "      <td>Uruguay</td>\n",
       "      <td>A</td>\n",
       "      <td>12.0</td>\n",
       "      <td>2.0</td>\n",
       "      <td>2.0</td>\n",
       "      <td>5.0</td>\n",
       "      <td>21.0</td>\n",
       "      <td>Egypt</td>\n",
       "      <td>2.0</td>\n",
       "      <td>1.0</td>\n",
       "      <td>2.0</td>\n",
       "      <td>Saudi Arabia</td>\n",
       "      <td>18.0</td>\n",
       "      <td>-1.0</td>\n",
       "      <td>-1.0</td>\n",
       "      <td>Russia</td>\n",
       "      <td>33.0</td>\n",
       "      <td>0.0</td>\n",
       "      <td>0.0</td>\n",
       "      <td>NaN</td>\n",
       "    </tr>\n",
       "    <tr>\n",
       "      <th>4</th>\n",
       "      <td>Porugal</td>\n",
       "      <td>B</td>\n",
       "      <td>6.0</td>\n",
       "      <td>0.0</td>\n",
       "      <td>0.0</td>\n",
       "      <td>2.0</td>\n",
       "      <td>3.0</td>\n",
       "      <td>Spain</td>\n",
       "      <td>3.0</td>\n",
       "      <td>-12.0</td>\n",
       "      <td>-31.0</td>\n",
       "      <td>Morocco</td>\n",
       "      <td>19.0</td>\n",
       "      <td>-1.0</td>\n",
       "      <td>-2.0</td>\n",
       "      <td>Iran</td>\n",
       "      <td>35.0</td>\n",
       "      <td>2.0</td>\n",
       "      <td>5.0</td>\n",
       "      <td>NaN</td>\n",
       "    </tr>\n",
       "  </tbody>\n",
       "</table>\n",
       "</div>"
      ],
      "text/plain": [
       "           Team Group  Previous \\nappearances  Previous \\ntitles  \\\n",
       "0        Russia     A                    10.0                0.0   \n",
       "1  Saudi Arabia     A                     4.0                0.0   \n",
       "2         Egypt     A                     2.0                0.0   \n",
       "3       Uruguay     A                    12.0                2.0   \n",
       "4       Porugal     B                     6.0                0.0   \n",
       "\n",
       "   Previous\\n finals  Previous\\n semifinals  Current \\nFIFA rank  \\\n",
       "0                0.0                    1.0                 65.0   \n",
       "1                0.0                    0.0                 63.0   \n",
       "2                0.0                    0.0                 31.0   \n",
       "3                2.0                    5.0                 21.0   \n",
       "4                0.0                    2.0                  3.0   \n",
       "\n",
       "  First match \\nagainst  Match index  history with \\nfirst opponent\\n W-L  \\\n",
       "0          Saudi Arabia          1.0                                 -1.0   \n",
       "1                Russia          1.0                                  1.0   \n",
       "2               Uruguay          2.0                                 -1.0   \n",
       "3                 Egypt          2.0                                  1.0   \n",
       "4                 Spain          3.0                                -12.0   \n",
       "\n",
       "   history with\\n first opponent\\n goals Second match\\n against  \\\n",
       "0                                   -2.0                  Egypt   \n",
       "1                                    2.0                Uruguay   \n",
       "2                                   -2.0                 Russia   \n",
       "3                                    2.0           Saudi Arabia   \n",
       "4                                  -31.0                Morocco   \n",
       "\n",
       "   Match index.1  history with\\n second opponent\\n W-L  \\\n",
       "0           17.0                                   NaN   \n",
       "1           18.0                                   1.0   \n",
       "2           17.0                                   NaN   \n",
       "3           18.0                                  -1.0   \n",
       "4           19.0                                  -1.0   \n",
       "\n",
       "   history with\\n second opponent\\n goals Third match\\n against  \\\n",
       "0                                     NaN               Uruguay   \n",
       "1                                     1.0                 Egypt   \n",
       "2                                     NaN          Saudi Arabia   \n",
       "3                                    -1.0                Russia   \n",
       "4                                    -2.0                  Iran   \n",
       "\n",
       "   Match index.2  history with\\n third opponent\\n W-L  \\\n",
       "0           33.0                                  0.0   \n",
       "1           34.0                                 -5.0   \n",
       "2           34.0                                  5.0   \n",
       "3           33.0                                  0.0   \n",
       "4           35.0                                  2.0   \n",
       "\n",
       "   history with\\n third opponent\\n goals  Unnamed: 19  \n",
       "0                                    0.0          NaN  \n",
       "1                                   -5.0          NaN  \n",
       "2                                    5.0          NaN  \n",
       "3                                    0.0          NaN  \n",
       "4                                    5.0          NaN  "
      ]
     },
     "execution_count": 2,
     "metadata": {},
     "output_type": "execute_result"
    }
   ],
   "source": [
    "world_cup = pd.read_csv(\"Data/World Cup 2018 Dataset.csv\")\n",
    "print(world_cup.shape)\n",
    "world_cup.head(5)"
   ]
  },
  {
   "cell_type": "markdown",
   "metadata": {},
   "source": [
    "Tab. 2: Resumo sobre as seleções da copa. Mas que excelente ideia colocar informações passadas e futuras na mesma tabela."
   ]
  },
  {
   "cell_type": "markdown",
   "metadata": {},
   "source": [
    "Por último, e mais importante, um resumo do resultado de todos os jogos entre seleções da história"
   ]
  },
  {
   "cell_type": "code",
   "execution_count": 3,
   "metadata": {},
   "outputs": [
    {
     "name": "stdout",
     "output_type": "stream",
     "text": [
      "(39045, 9)\n"
     ]
    },
    {
     "data": {
      "text/html": [
       "<div>\n",
       "<style scoped>\n",
       "    .dataframe tbody tr th:only-of-type {\n",
       "        vertical-align: middle;\n",
       "    }\n",
       "\n",
       "    .dataframe tbody tr th {\n",
       "        vertical-align: top;\n",
       "    }\n",
       "\n",
       "    .dataframe thead th {\n",
       "        text-align: right;\n",
       "    }\n",
       "</style>\n",
       "<table border=\"1\" class=\"dataframe\">\n",
       "  <thead>\n",
       "    <tr style=\"text-align: right;\">\n",
       "      <th></th>\n",
       "      <th>date</th>\n",
       "      <th>home_team</th>\n",
       "      <th>away_team</th>\n",
       "      <th>home_score</th>\n",
       "      <th>away_score</th>\n",
       "      <th>tournament</th>\n",
       "      <th>city</th>\n",
       "      <th>country</th>\n",
       "      <th>neutral</th>\n",
       "    </tr>\n",
       "  </thead>\n",
       "  <tbody>\n",
       "    <tr>\n",
       "      <th>0</th>\n",
       "      <td>1872-11-30</td>\n",
       "      <td>Scotland</td>\n",
       "      <td>England</td>\n",
       "      <td>0</td>\n",
       "      <td>0</td>\n",
       "      <td>Friendly</td>\n",
       "      <td>Glasgow</td>\n",
       "      <td>Scotland</td>\n",
       "      <td>False</td>\n",
       "    </tr>\n",
       "    <tr>\n",
       "      <th>1</th>\n",
       "      <td>1873-03-08</td>\n",
       "      <td>England</td>\n",
       "      <td>Scotland</td>\n",
       "      <td>4</td>\n",
       "      <td>2</td>\n",
       "      <td>Friendly</td>\n",
       "      <td>London</td>\n",
       "      <td>England</td>\n",
       "      <td>False</td>\n",
       "    </tr>\n",
       "    <tr>\n",
       "      <th>2</th>\n",
       "      <td>1874-03-07</td>\n",
       "      <td>Scotland</td>\n",
       "      <td>England</td>\n",
       "      <td>2</td>\n",
       "      <td>1</td>\n",
       "      <td>Friendly</td>\n",
       "      <td>Glasgow</td>\n",
       "      <td>Scotland</td>\n",
       "      <td>False</td>\n",
       "    </tr>\n",
       "    <tr>\n",
       "      <th>3</th>\n",
       "      <td>1875-03-06</td>\n",
       "      <td>England</td>\n",
       "      <td>Scotland</td>\n",
       "      <td>2</td>\n",
       "      <td>2</td>\n",
       "      <td>Friendly</td>\n",
       "      <td>London</td>\n",
       "      <td>England</td>\n",
       "      <td>False</td>\n",
       "    </tr>\n",
       "    <tr>\n",
       "      <th>4</th>\n",
       "      <td>1876-03-04</td>\n",
       "      <td>Scotland</td>\n",
       "      <td>England</td>\n",
       "      <td>3</td>\n",
       "      <td>0</td>\n",
       "      <td>Friendly</td>\n",
       "      <td>Glasgow</td>\n",
       "      <td>Scotland</td>\n",
       "      <td>False</td>\n",
       "    </tr>\n",
       "  </tbody>\n",
       "</table>\n",
       "</div>"
      ],
      "text/plain": [
       "         date home_team away_team  home_score  away_score tournament     city  \\\n",
       "0  1872-11-30  Scotland   England           0           0   Friendly  Glasgow   \n",
       "1  1873-03-08   England  Scotland           4           2   Friendly   London   \n",
       "2  1874-03-07  Scotland   England           2           1   Friendly  Glasgow   \n",
       "3  1875-03-06   England  Scotland           2           2   Friendly   London   \n",
       "4  1876-03-04  Scotland   England           3           0   Friendly  Glasgow   \n",
       "\n",
       "    country  neutral  \n",
       "0  Scotland    False  \n",
       "1   England    False  \n",
       "2  Scotland    False  \n",
       "3   England    False  \n",
       "4  Scotland    False  "
      ]
     },
     "execution_count": 3,
     "metadata": {},
     "output_type": "execute_result"
    }
   ],
   "source": [
    "game_result = pd.read_csv(\"Data/results.csv\")\n",
    "print(game_result.shape)\n",
    "game_result.head(5)"
   ]
  },
  {
   "cell_type": "markdown",
   "metadata": {},
   "source": [
    "Tab. 3. Todos os jogos da história. Nessa tabela o Palmeiras também não tem mundial."
   ]
  },
  {
   "cell_type": "markdown",
   "metadata": {},
   "source": [
    "Nossos dados contém dois tipos de informação. As tabelas ranking_fifa e world_cup contém dados sobre o perfil da seleção, enquanto a tabela game_result contém uma espécie de linha do tempo de uma seleção. Essa distinção será muito importante para um Digital Twin, já que o queremos prever é uma continuação dessa linha do tempo."
   ]
  },
  {
   "cell_type": "markdown",
   "metadata": {},
   "source": [
    "# 2. Digital Twin do Brasil\n",
    "\n",
    "Vamos filtrar os dados para considerar somente os jogos do Brasil no histórico. Vou desconsiderar informações de mandante de campo porque é difícil considerar isso em uma copa do mundo."
   ]
  },
  {
   "cell_type": "code",
   "execution_count": 4,
   "metadata": {},
   "outputs": [
    {
     "name": "stdout",
     "output_type": "stream",
     "text": [
      "(548, 9)\n",
      "(403, 9)\n",
      "(951, 6)\n"
     ]
    },
    {
     "data": {
      "text/html": [
       "<div>\n",
       "<style scoped>\n",
       "    .dataframe tbody tr th:only-of-type {\n",
       "        vertical-align: middle;\n",
       "    }\n",
       "\n",
       "    .dataframe tbody tr th {\n",
       "        vertical-align: top;\n",
       "    }\n",
       "\n",
       "    .dataframe thead th {\n",
       "        text-align: right;\n",
       "    }\n",
       "</style>\n",
       "<table border=\"1\" class=\"dataframe\">\n",
       "  <thead>\n",
       "    <tr style=\"text-align: right;\">\n",
       "      <th></th>\n",
       "      <th>date</th>\n",
       "      <th>team1</th>\n",
       "      <th>team1_score</th>\n",
       "      <th>team2</th>\n",
       "      <th>team2_score</th>\n",
       "      <th>AAAA-MM</th>\n",
       "    </tr>\n",
       "  </thead>\n",
       "  <tbody>\n",
       "    <tr>\n",
       "      <th>398</th>\n",
       "      <td>1914-09-20</td>\n",
       "      <td>Brazil</td>\n",
       "      <td>0</td>\n",
       "      <td>Argentina</td>\n",
       "      <td>3</td>\n",
       "      <td>1914-09</td>\n",
       "    </tr>\n",
       "    <tr>\n",
       "      <th>399</th>\n",
       "      <td>1914-09-27</td>\n",
       "      <td>Brazil</td>\n",
       "      <td>1</td>\n",
       "      <td>Argentina</td>\n",
       "      <td>0</td>\n",
       "      <td>1914-09</td>\n",
       "    </tr>\n",
       "    <tr>\n",
       "      <th>424</th>\n",
       "      <td>1916-07-10</td>\n",
       "      <td>Brazil</td>\n",
       "      <td>1</td>\n",
       "      <td>Argentina</td>\n",
       "      <td>1</td>\n",
       "      <td>1916-07</td>\n",
       "    </tr>\n",
       "    <tr>\n",
       "      <th>429</th>\n",
       "      <td>1916-07-18</td>\n",
       "      <td>Brazil</td>\n",
       "      <td>1</td>\n",
       "      <td>Uruguay</td>\n",
       "      <td>0</td>\n",
       "      <td>1916-07</td>\n",
       "    </tr>\n",
       "    <tr>\n",
       "      <th>454</th>\n",
       "      <td>1917-10-03</td>\n",
       "      <td>Brazil</td>\n",
       "      <td>2</td>\n",
       "      <td>Argentina</td>\n",
       "      <td>4</td>\n",
       "      <td>1917-10</td>\n",
       "    </tr>\n",
       "  </tbody>\n",
       "</table>\n",
       "</div>"
      ],
      "text/plain": [
       "           date   team1  team1_score      team2  team2_score  AAAA-MM\n",
       "398  1914-09-20  Brazil            0  Argentina            3  1914-09\n",
       "399  1914-09-27  Brazil            1  Argentina            0  1914-09\n",
       "424  1916-07-10  Brazil            1  Argentina            1  1916-07\n",
       "429  1916-07-18  Brazil            1    Uruguay            0  1916-07\n",
       "454  1917-10-03  Brazil            2  Argentina            4  1917-10"
      ]
     },
     "execution_count": 4,
     "metadata": {},
     "output_type": "execute_result"
    }
   ],
   "source": [
    "game_result_brasil_home = game_result[game_result['home_team'] == 'Brazil']\n",
    "print(game_result_brasil_home.shape)\n",
    "\n",
    "game_result_brasil_away = game_result[game_result['away_team'] == 'Brazil']\n",
    "print(game_result_brasil_away.shape)\n",
    "\n",
    "def vconcat_home_away_results(away_df,home_df):    \n",
    "    \n",
    "    results = pd.concat([away_df.rename(columns={'home_team' : 'team2','away_team':'team1',\n",
    "                    'home_score': 'team2_score','away_score':'team1_score'}),\\\n",
    "                         home_df.rename(columns={'home_team' : 'team1','away_team':'team2',\n",
    "                    'home_score': 'team1_score','away_score':'team2_score'})])\n",
    "    \n",
    "    results['AAAA-MM'] = results['date'].str[:7]\n",
    "    \n",
    "    return results.drop(['tournament','city','country','neutral'],axis=1)\n",
    "\n",
    "game_results_brasil = vconcat_home_away_results(game_result_brasil_away,game_result_brasil_home)\n",
    "print(game_results_brasil.shape)\n",
    "game_results_brasil.head(5)"
   ]
  },
  {
   "cell_type": "code",
   "execution_count": 5,
   "metadata": {},
   "outputs": [
    {
     "data": {
      "text/plain": [
       "Text(0,0.5,'Gols')"
      ]
     },
     "execution_count": 5,
     "metadata": {},
     "output_type": "execute_result"
    },
    {
     "data": {
      "image/png": "[encoded data removed]",
      "text/plain": [
       "<matplotlib.figure.Figure at 0x7f3ec0287d68>"
      ]
     },
     "metadata": {},
     "output_type": "display_data"
    }
   ],
   "source": [
    "%matplotlib inline\n",
    "import seaborn as sns\n",
    "\n",
    "sns.set(rc={'figure.figsize':(15.7,4)})\n",
    "sns.set_style(\"whitegrid\")\n",
    "\n",
    "ax = sns.boxplot(y=game_results_brasil['team1_score'], \n",
    "                 x=game_results_brasil['AAAA-MM'].str[:3])\n",
    "ax.set_xlabel('Décadas')\n",
    "ax.set_ylabel('Gols')"
   ]
  },
  {
   "cell_type": "markdown",
   "metadata": {},
   "source": [
    "Tab. 4. Gols do Brasil ao longo das décadas. As coisas foram animadas mesmo nos anos 40."
   ]
  },
  {
   "cell_type": "markdown",
   "metadata": {},
   "source": [
    "Preciso de informações do ranking do Brasil (team1) e do adversário (team2) no momento do jogo. Essas são as informações de \"perfil\" dos nossos times, enquanto os jogos representam a linha do tempo da seleção.\n",
    "\n",
    "Filtrar com a tabela de rankings da Fifa também ajuda a manter somente informações de jogos mais recentes."
   ]
  },
  {
   "cell_type": "code",
   "execution_count": 6,
   "metadata": {},
   "outputs": [
    {
     "data": {
      "text/plain": [
       "(342, 36)"
      ]
     },
     "execution_count": 6,
     "metadata": {},
     "output_type": "execute_result"
    }
   ],
   "source": [
    "ranking_fifa['AAAA-MM'] = ranking_fifa['rank_date'].str[:7]\n",
    "\n",
    "game_results_rkteam1 = pd.merge(game_results_brasil, ranking_fifa.drop('country_abrv',axis=1),\n",
    "                        left_on=['team1','AAAA-MM'],\n",
    "                        right_on = ['country_full','AAAA-MM'],\n",
    "                        how='inner',\n",
    "                       )\n",
    "\n",
    "game_results_rk_brasil = pd.merge(game_results_rkteam1, ranking_fifa.drop('country_abrv',axis=1),\n",
    "                        left_on=['team2','AAAA-MM'],\n",
    "                        right_on = ['country_full','AAAA-MM'],\n",
    "                        how='inner',\n",
    "                        suffixes=('','_away')\n",
    "                       )\n",
    "\n",
    "game_results_rk_brasil.shape"
   ]
  },
  {
   "cell_type": "code",
   "execution_count": 7,
   "metadata": {},
   "outputs": [
    {
     "data": {
      "image/png": "[encoded data removed]",
      "text/plain": [
       "<matplotlib.figure.Figure at 0x7f3ecab9ec50>"
      ]
     },
     "metadata": {},
     "output_type": "display_data"
    }
   ],
   "source": [
    "ax = sns.boxplot(y=game_results_rk_brasil['team1_score'], \n",
    "                 x=game_results_rk_brasil['AAAA-MM'].str[:4])"
   ]
  },
  {
   "cell_type": "markdown",
   "metadata": {},
   "source": [
    "Com a tabela game_results_rk_brasil podemos começar a modelar. Aqui team1 representa o Brasil e team2 o adversário. Como temos poucos jogos, vamos tentar prever somente se houve vitória, derrota ou empate do Brasil."
   ]
  },
  {
   "cell_type": "code",
   "execution_count": 8,
   "metadata": {},
   "outputs": [
    {
     "data": {
      "text/html": [
       "<div>\n",
       "<style scoped>\n",
       "    .dataframe tbody tr th:only-of-type {\n",
       "        vertical-align: middle;\n",
       "    }\n",
       "\n",
       "    .dataframe tbody tr th {\n",
       "        vertical-align: top;\n",
       "    }\n",
       "\n",
       "    .dataframe thead th {\n",
       "        text-align: right;\n",
       "    }\n",
       "</style>\n",
       "<table border=\"1\" class=\"dataframe\">\n",
       "  <thead>\n",
       "    <tr style=\"text-align: right;\">\n",
       "      <th></th>\n",
       "      <th>team1_score</th>\n",
       "      <th>team2_score</th>\n",
       "      <th>TARGET</th>\n",
       "    </tr>\n",
       "  </thead>\n",
       "  <tbody>\n",
       "    <tr>\n",
       "      <th>0</th>\n",
       "      <td>5</td>\n",
       "      <td>1</td>\n",
       "      <td>WIN</td>\n",
       "    </tr>\n",
       "    <tr>\n",
       "      <th>1</th>\n",
       "      <td>1</td>\n",
       "      <td>1</td>\n",
       "      <td>DRW</td>\n",
       "    </tr>\n",
       "    <tr>\n",
       "      <th>2</th>\n",
       "      <td>1</td>\n",
       "      <td>1</td>\n",
       "      <td>DRW</td>\n",
       "    </tr>\n",
       "    <tr>\n",
       "      <th>3</th>\n",
       "      <td>2</td>\n",
       "      <td>0</td>\n",
       "      <td>WIN</td>\n",
       "    </tr>\n",
       "    <tr>\n",
       "      <th>4</th>\n",
       "      <td>6</td>\n",
       "      <td>0</td>\n",
       "      <td>WIN</td>\n",
       "    </tr>\n",
       "  </tbody>\n",
       "</table>\n",
       "</div>"
      ],
      "text/plain": [
       "   team1_score  team2_score TARGET\n",
       "0            5            1    WIN\n",
       "1            1            1    DRW\n",
       "2            1            1    DRW\n",
       "3            2            0    WIN\n",
       "4            6            0    WIN"
      ]
     },
     "execution_count": 8,
     "metadata": {},
     "output_type": "execute_result"
    }
   ],
   "source": [
    "def construct_target(df,team1_score_feature,team2_score_feature):    \n",
    "    return df.apply(lambda row : 'WIN' if row[team1_score_feature] > row[team2_score_feature]\n",
    "                                       else 'LOS' if row[team2_score_feature] > row[team1_score_feature]\n",
    "                                       else 'DRW',axis=1)\n",
    "\n",
    "game_results_rk_brasil['TARGET'] = construct_target(game_results_rk_brasil,'team1_score','team2_score')\n",
    "game_results_rk_brasil[['team1_score','team2_score','TARGET']].head(5)"
   ]
  },
  {
   "cell_type": "code",
   "execution_count": 9,
   "metadata": {},
   "outputs": [
    {
     "data": {
      "text/plain": [
       "TARGET\n",
       "DRW     70\n",
       "LOS     48\n",
       "WIN    224\n",
       "Name: date, dtype: int64"
      ]
     },
     "execution_count": 9,
     "metadata": {},
     "output_type": "execute_result"
    }
   ],
   "source": [
    "game_results_rk_brasil.groupby(by='TARGET').count()['date']"
   ]
  },
  {
   "cell_type": "markdown",
   "metadata": {},
   "source": [
    "Essas são as colunas úteis para modelarmos:"
   ]
  },
  {
   "cell_type": "code",
   "execution_count": 10,
   "metadata": {},
   "outputs": [],
   "source": [
    "variables = ['rank', 'total_points', 'previous_points', 'rank_change', 'cur_year_avg', 'cur_year_avg_weighted', 'last_year_avg',\n",
    "'last_year_avg_weighted', 'two_year_ago_avg', 'two_year_ago_weighted', 'three_year_ago_avg', 'three_year_ago_weighted']\n",
    "\n",
    "variables = variables + [x+'_away' for x in variables]"
   ]
  },
  {
   "cell_type": "markdown",
   "metadata": {},
   "source": [
    "Vamos testar então alguns classificadores para fazer a predição. Para cada classificador, testamos alguns parâmetros com um grid search:"
   ]
  },
  {
   "cell_type": "code",
   "execution_count": 22,
   "metadata": {},
   "outputs": [],
   "source": [
    "from sklearn.model_selection import GridSearchCV\n",
    "import numpy as np\n",
    "from sklearn.metrics import f1_score, accuracy_score\n",
    "\n",
    "def test_model(X,y,model,param_grid,fold,X_test=None,y_test=None,refit=True):    \n",
    "    \n",
    "    clf_grid = GridSearchCV(estimator=model, param_grid=param_grid, n_jobs=-1, cv= fold, verbose = True, refit=refit)\n",
    "    \n",
    "    clf_grid.fit(X,y)\n",
    "    \n",
    "    best_acc = clf_grid.best_score_\n",
    "    \n",
    "    best_f1 = f1_score(clf_grid.best_estimator_.predict(X),y,average='weighted')\n",
    "    \n",
    "    print(\"\\tbest acc = %.6f\"%best_acc)\n",
    "    print(\"\\tbest f1 = %.6f\"%best_f1)\n",
    "    \n",
    "    best_acc_test = 0\n",
    "    best_f1_test = 0\n",
    "    if X_test!=None and y_test!=None:\n",
    "        y_pred= clf_grid.best_estimator_.predict(X_test)        \n",
    "        \n",
    "        best_acc_test = accuracy_score(y_pred,y_test,average='weighted')\n",
    "        best_f1_test = f1_score(y_pred,y_test,average='weighted')\n",
    "        \n",
    "        print(\"\\tbest TEST acc = %.6f\"%best_acc_test)\n",
    "        print(\"\\tbest TEST f1 = %.6f\"%best_f1_test)\n",
    "    \n",
    "        \n",
    "    return {'estimator':clf_grid.best_estimator_, 'acc' : best_acc, 'f1' : best_f1, \n",
    "                                                  'acc_test' : best_acc_test, 'f1_test' : best_f1_test}"
   ]
  },
  {
   "cell_type": "markdown",
   "metadata": {},
   "source": [
    "Como temos muito poucos dados, estratégias de fold ou holdout seriam muito sensíveis à escolha aleatória de dados. Por isso, vamos escolher os modelos com um LeaveOneOut. Vamos testar vários classificadores avaliando sua acurácia."
   ]
  },
  {
   "cell_type": "code",
   "execution_count": 12,
   "metadata": {},
   "outputs": [],
   "source": [
    "from sklearn.model_selection import LeaveOneOut\n",
    "\n",
    "X = game_results_rk_brasil[variables]\n",
    "y = game_results_rk_brasil['TARGET']\n",
    "\n",
    "brasil_clf_dict = {}"
   ]
  },
  {
   "cell_type": "markdown",
   "metadata": {},
   "source": [
    "## Decision Trees"
   ]
  },
  {
   "cell_type": "code",
   "execution_count": 23,
   "metadata": {},
   "outputs": [
    {
     "name": "stdout",
     "output_type": "stream",
     "text": [
      "Fitting 342 folds for each of 840 candidates, totalling 287280 fits\n"
     ]
    },
    {
     "name": "stderr",
     "output_type": "stream",
     "text": [
      "[Parallel(n_jobs=-1)]: Done  18 tasks      | elapsed:    0.1s\n",
      "[Parallel(n_jobs=-1)]: Done 4112 tasks      | elapsed:    1.7s\n",
      "[Parallel(n_jobs=-1)]: Done 11612 tasks      | elapsed:    4.2s\n",
      "[Parallel(n_jobs=-1)]: Done 22112 tasks      | elapsed:    7.7s\n",
      "[Parallel(n_jobs=-1)]: Done 35612 tasks      | elapsed:   12.3s\n",
      "[Parallel(n_jobs=-1)]: Done 52112 tasks      | elapsed:   17.7s\n",
      "[Parallel(n_jobs=-1)]: Done 71612 tasks      | elapsed:   24.4s\n",
      "[Parallel(n_jobs=-1)]: Done 94112 tasks      | elapsed:   32.1s\n",
      "[Parallel(n_jobs=-1)]: Done 119612 tasks      | elapsed:   40.9s\n",
      "[Parallel(n_jobs=-1)]: Done 148112 tasks      | elapsed:   50.6s\n",
      "[Parallel(n_jobs=-1)]: Done 179612 tasks      | elapsed:  1.0min\n",
      "[Parallel(n_jobs=-1)]: Done 214112 tasks      | elapsed:  1.2min\n",
      "[Parallel(n_jobs=-1)]: Done 251612 tasks      | elapsed:  1.5min\n",
      "[Parallel(n_jobs=-1)]: Done 287280 out of 287280 | elapsed:  1.7min finished\n"
     ]
    },
    {
     "name": "stdout",
     "output_type": "stream",
     "text": [
      "\tbest acc = 0.654971\n",
      "\tbest f1 = 0.791519\n"
     ]
    },
    {
     "name": "stderr",
     "output_type": "stream",
     "text": [
      "/opt/conda/lib/python3.6/site-packages/sklearn/metrics/classification.py:1137: UndefinedMetricWarning: F-score is ill-defined and being set to 0.0 in labels with no true samples.\n",
      "  'recall', 'true', average, warn_for)\n"
     ]
    }
   ],
   "source": [
    "from sklearn.tree import DecisionTreeClassifier \n",
    "\n",
    "dtc_candidates = {\n",
    "    'min_samples_leaf' : list(range(1,100,5)),\n",
    "    'max_depth' : list(range(2,100,5)) + [None],\n",
    "    'class_weight' : [None,'balanced']\n",
    "}\n",
    "\n",
    "brasil_clf_dict['dt'] = test_model(X,y,DecisionTreeClassifier(),dtc_candidates,LeaveOneOut())"
   ]
  },
  {
   "cell_type": "markdown",
   "metadata": {},
   "source": [
    "## Support Vector Machine, as multi-classifier"
   ]
  },
  {
   "cell_type": "code",
   "execution_count": 48,
   "metadata": {},
   "outputs": [
    {
     "name": "stdout",
     "output_type": "stream",
     "text": [
      "Fitting 342 folds for each of 500 candidates, totalling 171000 fits\n"
     ]
    },
    {
     "name": "stderr",
     "output_type": "stream",
     "text": [
      "[Parallel(n_jobs=-1)]: Done  18 tasks      | elapsed:    0.1s\n",
      "[Parallel(n_jobs=-1)]: Done 2208 tasks      | elapsed:    3.2s\n",
      "[Parallel(n_jobs=-1)]: Done 6208 tasks      | elapsed:    8.7s\n",
      "[Parallel(n_jobs=-1)]: Done 11808 tasks      | elapsed:   16.4s\n",
      "[Parallel(n_jobs=-1)]: Done 19008 tasks      | elapsed:   26.6s\n",
      "[Parallel(n_jobs=-1)]: Done 27808 tasks      | elapsed:   39.1s\n",
      "[Parallel(n_jobs=-1)]: Done 38208 tasks      | elapsed:   53.8s\n",
      "[Parallel(n_jobs=-1)]: Done 50208 tasks      | elapsed:  1.2min\n",
      "[Parallel(n_jobs=-1)]: Done 63808 tasks      | elapsed:  1.5min\n",
      "[Parallel(n_jobs=-1)]: Done 79008 tasks      | elapsed:  1.9min\n",
      "[Parallel(n_jobs=-1)]: Done 95808 tasks      | elapsed:  2.3min\n",
      "[Parallel(n_jobs=-1)]: Done 114208 tasks      | elapsed:  2.7min\n",
      "[Parallel(n_jobs=-1)]: Done 134208 tasks      | elapsed:  3.2min\n",
      "[Parallel(n_jobs=-1)]: Done 155808 tasks      | elapsed:  3.7min\n",
      "[Parallel(n_jobs=-1)]: Done 171000 out of 171000 | elapsed:  4.1min finished\n"
     ]
    },
    {
     "name": "stdout",
     "output_type": "stream",
     "text": [
      "\tbest acc = 0.654971\n",
      "\tbest f1 = 0.791519\n"
     ]
    },
    {
     "name": "stderr",
     "output_type": "stream",
     "text": [
      "/opt/conda/lib/python3.6/site-packages/sklearn/metrics/classification.py:1137: UndefinedMetricWarning: F-score is ill-defined and being set to 0.0 in labels with no true samples.\n",
      "  'recall', 'true', average, warn_for)\n"
     ]
    }
   ],
   "source": [
    "from sklearn.svm import SVC\n",
    "\n",
    "svc_candidates = {\n",
    "    'C' : [i/1000.0 for i in range(1,2000,4)],\n",
    "}\n",
    "\n",
    "brasil_clf_dict['svm'] = test_model(X,y,SVC(),svc_candidates,LeaveOneOut())"
   ]
  },
  {
   "cell_type": "markdown",
   "metadata": {},
   "source": [
    "## Logistic Regression, One vs Rest"
   ]
  },
  {
   "cell_type": "code",
   "execution_count": 44,
   "metadata": {},
   "outputs": [
    {
     "name": "stdout",
     "output_type": "stream",
     "text": [
      "Fitting 342 folds for each of 840 candidates, totalling 287280 fits\n"
     ]
    },
    {
     "name": "stderr",
     "output_type": "stream",
     "text": [
      "[Parallel(n_jobs=-1)]: Done  18 tasks      | elapsed:    0.1s\n",
      "[Parallel(n_jobs=-1)]: Done 2304 tasks      | elapsed:    3.0s\n",
      "[Parallel(n_jobs=-1)]: Done 7304 tasks      | elapsed:    8.8s\n",
      "[Parallel(n_jobs=-1)]: Done 14304 tasks      | elapsed:   17.0s\n",
      "[Parallel(n_jobs=-1)]: Done 23304 tasks      | elapsed:   27.4s\n",
      "[Parallel(n_jobs=-1)]: Done 34304 tasks      | elapsed:   40.3s\n",
      "[Parallel(n_jobs=-1)]: Done 47304 tasks      | elapsed:   55.5s\n",
      "[Parallel(n_jobs=-1)]: Done 62304 tasks      | elapsed:  1.2min\n",
      "[Parallel(n_jobs=-1)]: Done 79304 tasks      | elapsed:  1.5min\n",
      "[Parallel(n_jobs=-1)]: Done 98304 tasks      | elapsed:  1.9min\n",
      "[Parallel(n_jobs=-1)]: Done 119304 tasks      | elapsed:  2.3min\n",
      "[Parallel(n_jobs=-1)]: Done 142304 tasks      | elapsed:  2.8min\n",
      "[Parallel(n_jobs=-1)]: Done 167304 tasks      | elapsed:  3.3min\n",
      "[Parallel(n_jobs=-1)]: Done 194304 tasks      | elapsed:  3.8min\n",
      "[Parallel(n_jobs=-1)]: Done 223304 tasks      | elapsed:  4.3min\n",
      "[Parallel(n_jobs=-1)]: Done 254304 tasks      | elapsed:  4.9min\n",
      "[Parallel(n_jobs=-1)]: Done 287280 out of 287280 | elapsed:  5.6min finished\n"
     ]
    },
    {
     "name": "stdout",
     "output_type": "stream",
     "text": [
      "\tbest acc = 0.631579\n",
      "\tbest f1 = 0.759325\n"
     ]
    }
   ],
   "source": [
    "from sklearn.linear_model import LogisticRegression\n",
    "\n",
    "lr_candidates = {\n",
    "    'penalty' : ['l1','l2'],\n",
    "    'C' : [x/10.0 for x in range(900,1110,1)],\n",
    "    'class_weight' : [None,'balanced'],\n",
    "    'multi_class' : ['ovr']\n",
    "}\n",
    "\n",
    "brasil_clf_dict['lr'] = test_model(X,y,LogisticRegression(),lr_candidates,LeaveOneOut())"
   ]
  },
  {
   "cell_type": "markdown",
   "metadata": {},
   "source": [
    "## Random Forest"
   ]
  },
  {
   "cell_type": "code",
   "execution_count": 26,
   "metadata": {},
   "outputs": [
    {
     "name": "stdout",
     "output_type": "stream",
     "text": [
      "Fitting 342 folds for each of 200 candidates, totalling 68400 fits\n"
     ]
    },
    {
     "name": "stderr",
     "output_type": "stream",
     "text": [
      "[Parallel(n_jobs=-1)]: Done  18 tasks      | elapsed:    0.1s\n",
      "[Parallel(n_jobs=-1)]: Done 1440 tasks      | elapsed:    7.6s\n",
      "[Parallel(n_jobs=-1)]: Done 2934 tasks      | elapsed:   15.7s\n",
      "[Parallel(n_jobs=-1)]: Done 5112 tasks      | elapsed:   28.1s\n",
      "[Parallel(n_jobs=-1)]: Done 8417 tasks      | elapsed:   44.8s\n",
      "[Parallel(n_jobs=-1)]: Done 12187 tasks      | elapsed:  1.0min\n",
      "[Parallel(n_jobs=-1)]: Done 15635 tasks      | elapsed:  1.3min\n",
      "[Parallel(n_jobs=-1)]: Done 20139 tasks      | elapsed:  1.7min\n",
      "[Parallel(n_jobs=-1)]: Done 25243 tasks      | elapsed:  2.1min\n",
      "[Parallel(n_jobs=-1)]: Done 31219 tasks      | elapsed:  2.6min\n",
      "[Parallel(n_jobs=-1)]: Done 37027 tasks      | elapsed:  3.1min\n",
      "[Parallel(n_jobs=-1)]: Done 44687 tasks      | elapsed:  3.7min\n",
      "[Parallel(n_jobs=-1)]: Done 52099 tasks      | elapsed:  4.3min\n",
      "[Parallel(n_jobs=-1)]: Done 60199 tasks      | elapsed:  5.0min\n",
      "[Parallel(n_jobs=-1)]: Done 68369 out of 68400 | elapsed:  5.7min remaining:    0.2s\n",
      "[Parallel(n_jobs=-1)]: Done 68400 out of 68400 | elapsed:  5.7min finished\n"
     ]
    },
    {
     "name": "stdout",
     "output_type": "stream",
     "text": [
      "\tbest acc = 0.657895\n",
      "\tbest f1 = 0.787639\n"
     ]
    }
   ],
   "source": [
    "from sklearn.ensemble import RandomForestClassifier\n",
    "\n",
    "rf_candidates = {\n",
    "    'min_samples_leaf' : list(range(1,100,5)),\n",
    "    'max_depth' : [None],\n",
    "    'class_weight' : [None,'balanced'],\n",
    "    'n_estimators' : list(range(10,100,20))\n",
    "}\n",
    "\n",
    "brasil_clf_dict['rf'] = test_model(X,y,RandomForestClassifier(),rf_candidates,LeaveOneOut())"
   ]
  },
  {
   "cell_type": "markdown",
   "metadata": {},
   "source": [
    "## Gradient Boosting"
   ]
  },
  {
   "cell_type": "code",
   "execution_count": 28,
   "metadata": {},
   "outputs": [
    {
     "name": "stdout",
     "output_type": "stream",
     "text": [
      "Fitting 342 folds for each of 200 candidates, totalling 68400 fits\n"
     ]
    },
    {
     "name": "stderr",
     "output_type": "stream",
     "text": [
      "[Parallel(n_jobs=-1)]: Done  18 tasks      | elapsed:    0.3s\n",
      "[Parallel(n_jobs=-1)]: Done 304 tasks      | elapsed:    2.6s\n",
      "[Parallel(n_jobs=-1)]: Done 778 tasks      | elapsed:   16.9s\n",
      "[Parallel(n_jobs=-1)]: Done 1128 tasks      | elapsed:   36.0s\n",
      "[Parallel(n_jobs=-1)]: Done 1578 tasks      | elapsed:  1.2min\n",
      "[Parallel(n_jobs=-1)]: Done 2445 tasks      | elapsed:  1.5min\n",
      "[Parallel(n_jobs=-1)]: Done 3461 tasks      | elapsed:  1.9min\n",
      "[Parallel(n_jobs=-1)]: Done 5652 tasks      | elapsed:  2.3min\n",
      "[Parallel(n_jobs=-1)]: Done 8600 tasks      | elapsed:  2.8min\n",
      "[Parallel(n_jobs=-1)]: Done 12248 tasks      | elapsed:  3.3min\n",
      "[Parallel(n_jobs=-1)]: Done 17254 tasks      | elapsed:  3.8min\n",
      "[Parallel(n_jobs=-1)]: Done 18558 tasks      | elapsed:  4.9min\n",
      "[Parallel(n_jobs=-1)]: Done 20499 tasks      | elapsed:  5.9min\n",
      "[Parallel(n_jobs=-1)]: Done 24608 tasks      | elapsed:  6.6min\n",
      "[Parallel(n_jobs=-1)]: Done 30408 tasks      | elapsed:  7.3min\n",
      "[Parallel(n_jobs=-1)]: Done 35457 tasks      | elapsed:  8.5min\n",
      "[Parallel(n_jobs=-1)]: Done 38053 tasks      | elapsed:  9.6min\n",
      "[Parallel(n_jobs=-1)]: Done 44229 tasks      | elapsed: 10.6min\n",
      "[Parallel(n_jobs=-1)]: Done 52391 tasks      | elapsed: 11.7min\n",
      "[Parallel(n_jobs=-1)]: Done 56145 tasks      | elapsed: 12.8min\n",
      "[Parallel(n_jobs=-1)]: Done 63587 tasks      | elapsed: 13.9min\n",
      "[Parallel(n_jobs=-1)]: Done 68400 out of 68400 | elapsed: 14.4min finished\n"
     ]
    },
    {
     "name": "stdout",
     "output_type": "stream",
     "text": [
      "\tbest acc = 0.669591\n",
      "\tbest f1 = 0.771637\n"
     ]
    }
   ],
   "source": [
    "from sklearn.ensemble import GradientBoostingClassifier\n",
    "\n",
    "gb_candidates = {\n",
    "    'min_samples_leaf' : list(range(1,100,10)),\n",
    "    'max_depth' : [None],\n",
    "    'n_estimators' : list(range(10,100,20)),\n",
    "    'learning_rate' : [0.001,0.01,0.1,1.0]\n",
    "}\n",
    "\n",
    "brasil_clf_dict['gb'] = test_model(X,y,GradientBoostingClassifier(),gb_candidates,LeaveOneOut())"
   ]
  },
  {
   "cell_type": "markdown",
   "metadata": {},
   "source": [
    "## Perceptron"
   ]
  },
  {
   "cell_type": "code",
   "execution_count": 30,
   "metadata": {},
   "outputs": [
    {
     "name": "stdout",
     "output_type": "stream",
     "text": [
      "Fitting 342 folds for each of 63 candidates, totalling 21546 fits\n"
     ]
    },
    {
     "name": "stderr",
     "output_type": "stream",
     "text": [
      "[Parallel(n_jobs=-1)]: Done  18 tasks      | elapsed:    3.9s\n",
      "[Parallel(n_jobs=-1)]: Done 168 tasks      | elapsed:   25.3s\n",
      "[Parallel(n_jobs=-1)]: Done 418 tasks      | elapsed:   59.6s\n",
      "[Parallel(n_jobs=-1)]: Done 768 tasks      | elapsed:  1.8min\n",
      "[Parallel(n_jobs=-1)]: Done 1218 tasks      | elapsed:  2.8min\n",
      "[Parallel(n_jobs=-1)]: Done 1768 tasks      | elapsed:  4.1min\n",
      "[Parallel(n_jobs=-1)]: Done 2418 tasks      | elapsed:  5.5min\n",
      "[Parallel(n_jobs=-1)]: Done 3168 tasks      | elapsed:  7.2min\n",
      "[Parallel(n_jobs=-1)]: Done 4018 tasks      | elapsed:  9.1min\n",
      "[Parallel(n_jobs=-1)]: Done 4968 tasks      | elapsed: 11.2min\n",
      "[Parallel(n_jobs=-1)]: Done 6018 tasks      | elapsed: 13.5min\n",
      "[Parallel(n_jobs=-1)]: Done 7168 tasks      | elapsed: 16.0min\n",
      "[Parallel(n_jobs=-1)]: Done 8418 tasks      | elapsed: 17.6min\n",
      "[Parallel(n_jobs=-1)]: Done 9768 tasks      | elapsed: 19.3min\n",
      "[Parallel(n_jobs=-1)]: Done 11218 tasks      | elapsed: 21.2min\n",
      "[Parallel(n_jobs=-1)]: Done 12768 tasks      | elapsed: 23.5min\n",
      "[Parallel(n_jobs=-1)]: Done 14418 tasks      | elapsed: 25.9min\n",
      "[Parallel(n_jobs=-1)]: Done 16168 tasks      | elapsed: 26.4min\n",
      "[Parallel(n_jobs=-1)]: Done 18018 tasks      | elapsed: 26.8min\n",
      "[Parallel(n_jobs=-1)]: Done 19968 tasks      | elapsed: 27.3min\n",
      "[Parallel(n_jobs=-1)]: Done 21546 out of 21546 | elapsed: 27.7min finished\n"
     ]
    },
    {
     "name": "stdout",
     "output_type": "stream",
     "text": [
      "\tbest acc = 0.657895\n",
      "\tbest f1 = 0.782625\n"
     ]
    }
   ],
   "source": [
    "from sklearn.neural_network import MLPClassifier\n",
    "\n",
    "mlp_candidates = {\n",
    "    'alpha' : [0.001,0.01] + [i/10.0 for i in range(1,11,3)],\n",
    "    'learning_rate' : ['invscaling', 'adaptive'],\n",
    "    'activation' : ['logistic', 'tanh', 'relu'],\n",
    "    'max_iter' : [1000]\n",
    "}\n",
    "\n",
    "brasil_clf_dict['mlp'] = test_model(X,y,MLPClassifier(),mlp_candidates,LeaveOneOut())"
   ]
  },
  {
   "cell_type": "markdown",
   "metadata": {},
   "source": [
    "## Fanático (chuta tudo como 'WIN')"
   ]
  },
  {
   "cell_type": "code",
   "execution_count": 32,
   "metadata": {},
   "outputs": [
    {
     "name": "stdout",
     "output_type": "stream",
     "text": [
      "Fitting 342 folds for each of 1 candidates, totalling 342 fits\n",
      "\tbest acc = 0.654971\n",
      "\tbest f1 = 0.791519\n"
     ]
    },
    {
     "name": "stderr",
     "output_type": "stream",
     "text": [
      "[Parallel(n_jobs=-1)]: Done 342 out of 342 | elapsed:    0.2s finished\n",
      "/opt/conda/lib/python3.6/site-packages/sklearn/metrics/classification.py:1137: UndefinedMetricWarning: F-score is ill-defined and being set to 0.0 in labels with no true samples.\n",
      "  'recall', 'true', average, warn_for)\n"
     ]
    }
   ],
   "source": [
    "from sklearn.dummy import DummyClassifier\n",
    "\n",
    "dummy_candidates = {'strategy' : ['most_frequent']}\n",
    "\n",
    "brasil_clf_dict['fan'] = test_model(X,y,DummyClassifier(),dummy_candidates,LeaveOneOut())"
   ]
  },
  {
   "cell_type": "markdown",
   "metadata": {},
   "source": [
    "## Summary"
   ]
  },
  {
   "cell_type": "code",
   "execution_count": 49,
   "metadata": {},
   "outputs": [],
   "source": [
    "clf_list= []\n",
    "for key in brasil_clf_dict:\n",
    "     clf_list.append({'classifier' : key , 'acc' : brasil_clf_dict[key]['acc'], 'f1' : brasil_clf_dict[key]['f1']})\n",
    "\n",
    "brasil_clf_df = pd.DataFrame(clf_list)"
   ]
  },
  {
   "cell_type": "code",
   "execution_count": 50,
   "metadata": {},
   "outputs": [
    {
     "data": {
      "image/png": "[encoded data removed]",
      "text/plain": [
       "<matplotlib.figure.Figure at 0x7f3ea128f1d0>"
      ]
     },
     "metadata": {},
     "output_type": "display_data"
    }
   ],
   "source": [
    "ax = sns.regplot(x=brasil_clf_df[\"acc\"], y=brasil_clf_df[\"f1\"],fit_reg=False)\n",
    "\n",
    "def label_point(x, y, val, ax):\n",
    "    a = pd.concat({'x': x, 'y': y, 'val': val}, axis=1)\n",
    "    for i, point in a.iterrows():\n",
    "        ax.text(point['x']+.001, point['y'], str(point['val']),size=14)\n",
    "\n",
    "label_point(brasil_clf_df[\"acc\"], brasil_clf_df[\"f1\"], brasil_clf_df[\"classifier\"], ax) "
   ]
  },
  {
   "cell_type": "markdown",
   "metadata": {},
   "source": [
    "Enquanto o SVM empataca com o classificador Fanático na liderança em F1, o GradientBoosting supera todos em termo de acurácia. Perceba entretanto a escala dos gráficos: a distância entre a acurácia do Fanático e do campeão é de apenas 0.015 pp, ou seja, 5 jogos classificados errados e ambos já seriam equivalentes. Isso indica que nossos dados não são muito bons para prever o desempenho em uma partida. \n",
    "\n",
    "Alguns fatores podem estar contribuindo para isso, em que o mais importante parece ser a baixa quantidade de linhas. E essa é a principal desvantagem de fazermos um Digital Twin de um país apenas: nossos classificadores não tem dados o suficiente para aprender algum padrão."
   ]
  },
  {
   "cell_type": "markdown",
   "metadata": {},
   "source": [
    "# 3. Digital Twin das seleções\n",
    "\n",
    "Como usar somente os dados de uma seleção para prever resultados é muito ruim, vamos utilizar os dados de todas."
   ]
  },
  {
   "cell_type": "code",
   "execution_count": 51,
   "metadata": {},
   "outputs": [
    {
     "data": {
      "text/plain": [
       "(17308, 36)"
      ]
     },
     "execution_count": 51,
     "metadata": {},
     "output_type": "execute_result"
    }
   ],
   "source": [
    "ranking_fifa['AAAA-MM'] = ranking_fifa['rank_date'].str[:7]\n",
    "game_result['AAAA-MM'] = game_result['date'].str[:7]\n",
    "    \n",
    "game_results_hometeam = pd.merge(game_result.drop(['tournament','city','country','neutral'],axis=1), \n",
    "                                 ranking_fifa.drop('country_abrv',axis=1),\n",
    "                        left_on=['home_team','AAAA-MM'],\n",
    "                        right_on = ['country_full','AAAA-MM'],\n",
    "                        how='inner',\n",
    "                       )\n",
    "\n",
    "game_results_rk = pd.merge(game_results_hometeam, ranking_fifa.drop('country_abrv',axis=1),\n",
    "                        left_on=['away_team','AAAA-MM'],\n",
    "                        right_on = ['country_full','AAAA-MM'],\n",
    "                        how='inner',\n",
    "                        suffixes=('','_away')\n",
    "                       )\n",
    "\n",
    "game_results_rk.shape"
   ]
  },
  {
   "cell_type": "code",
   "execution_count": 52,
   "metadata": {},
   "outputs": [],
   "source": [
    "game_results_rk['TARGET'] = construct_target(game_results_rk,'home_score','away_score')"
   ]
  },
  {
   "cell_type": "markdown",
   "metadata": {},
   "source": [
    "Como temos muitos dados, podemos separar um conjunto de testes (20%) e escolher os modelos baseados em um kfold de 5 grupos, refitando o modelo com melhor parametro no conjunto todo de treino ao final."
   ]
  },
  {
   "cell_type": "code",
   "execution_count": 54,
   "metadata": {},
   "outputs": [
    {
     "name": "stdout",
     "output_type": "stream",
     "text": [
      "(13846, 24)\n",
      "(3462, 24)\n",
      "(13846,)\n",
      "(3462,)\n"
     ]
    }
   ],
   "source": [
    "X_train, X_test,y_train,y_test = train_test_split(game_results_rk[variables], game_results_rk['TARGET'],\n",
    "                                                  test_size=0.2)\n",
    "\n",
    "print(X_train.shape)\n",
    "print(X_test.shape)\n",
    "print(y_train.shape)\n",
    "print(y_test.shape)"
   ]
  },
  {
   "cell_type": "code",
   "execution_count": null,
   "metadata": {},
   "outputs": [],
   "source": [
    "all_clf_dict =  {}"
   ]
  },
  {
   "cell_type": "markdown",
   "metadata": {},
   "source": [
    "## Decision Trees"
   ]
  },
  {
   "cell_type": "code",
   "execution_count": 59,
   "metadata": {},
   "outputs": [
    {
     "name": "stdout",
     "output_type": "stream",
     "text": [
      "Fitting 5 folds for each of 19602 candidates, totalling 98010 fits\n"
     ]
    },
    {
     "name": "stderr",
     "output_type": "stream",
     "text": [
      "[Parallel(n_jobs=-1)]: Done  18 tasks      | elapsed:    0.2s\n",
      "[Parallel(n_jobs=-1)]: Done 848 tasks      | elapsed:    3.9s\n",
      "[Parallel(n_jobs=-1)]: Done 2348 tasks      | elapsed:   12.8s\n",
      "[Parallel(n_jobs=-1)]: Done 4448 tasks      | elapsed:   28.8s\n",
      "[Parallel(n_jobs=-1)]: Done 7148 tasks      | elapsed:   51.4s\n",
      "[Parallel(n_jobs=-1)]: Done 10448 tasks      | elapsed:  1.3min\n",
      "[Parallel(n_jobs=-1)]: Done 14348 tasks      | elapsed:  1.9min\n",
      "[Parallel(n_jobs=-1)]: Done 18848 tasks      | elapsed:  2.5min\n",
      "[Parallel(n_jobs=-1)]: Done 23948 tasks      | elapsed:  3.2min\n",
      "[Parallel(n_jobs=-1)]: Done 29648 tasks      | elapsed:  4.0min\n",
      "[Parallel(n_jobs=-1)]: Done 35948 tasks      | elapsed:  4.9min\n",
      "[Parallel(n_jobs=-1)]: Done 42848 tasks      | elapsed:  5.8min\n",
      "[Parallel(n_jobs=-1)]: Done 50348 tasks      | elapsed:  6.8min\n",
      "[Parallel(n_jobs=-1)]: Done 56615 tasks      | elapsed:  7.7min\n",
      "[Parallel(n_jobs=-1)]: Done 60965 tasks      | elapsed:  8.4min\n",
      "[Parallel(n_jobs=-1)]: Done 65615 tasks      | elapsed:  9.1min\n",
      "[Parallel(n_jobs=-1)]: Done 70565 tasks      | elapsed:  9.9min\n",
      "[Parallel(n_jobs=-1)]: Done 75815 tasks      | elapsed: 10.7min\n",
      "[Parallel(n_jobs=-1)]: Done 81365 tasks      | elapsed: 11.6min\n",
      "[Parallel(n_jobs=-1)]: Done 87215 tasks      | elapsed: 12.6min\n",
      "[Parallel(n_jobs=-1)]: Done 93365 tasks      | elapsed: 13.5min\n",
      "[Parallel(n_jobs=-1)]: Done 97979 out of 98010 | elapsed: 14.3min remaining:    0.3s\n",
      "[Parallel(n_jobs=-1)]: Done 98010 out of 98010 | elapsed: 14.3min finished\n"
     ]
    }
   ],
   "source": [
    "dtc_candidates = {\n",
    "    'min_samples_leaf' : list(range(1,100)),\n",
    "    'max_depth' : list(range(2,100)) + [None],\n",
    "    'class_weight' : [None,'balanced']\n",
    "}\n",
    "\n",
    "all_clf_dict['dt'] = test_model(X_train,y_train,DecisionTreeClassifier(),dtc_candidates,5,\n",
    "                                   refit=True,X_test=X_test,y_test=y_test)"
   ]
  },
  {
   "cell_type": "code",
   "execution_count": 60,
   "metadata": {},
   "outputs": [
    {
     "name": "stdout",
     "output_type": "stream",
     "text": [
      "Best score for dt: 0.5749674996388848\n",
      "Best min_samples_leaf: 89\n",
      "Best max_depth: 7\n",
      "Best class_weight: None\n"
     ]
    }
   ],
   "source": [
    "print('Best score for dt:', clf.best_score_) \n",
    "print('Best min_samples_leaf:',clf.best_estimator_.min_samples_leaf) \n",
    "print('Best max_depth:',clf.best_estimator_.max_depth)\n",
    "print('Best class_weight:',clf.best_estimator_.class_weight)"
   ]
  },
  {
   "cell_type": "code",
   "execution_count": 61,
   "metadata": {},
   "outputs": [
    {
     "data": {
      "text/plain": [
       "0.5774119006354709"
      ]
     },
     "execution_count": 61,
     "metadata": {},
     "output_type": "execute_result"
    }
   ],
   "source": [
    "from sklearn.metrics import accuracy_score\n",
    "\n",
    "y_pred = clf.best_estimator_.predict(X_test)\n",
    "\n",
    "test_acc_clf = accuracy_score(y_test,y_pred)\n",
    "test_acc_clf"
   ]
  },
  {
   "cell_type": "code",
   "execution_count": 62,
   "metadata": {},
   "outputs": [
    {
     "data": {
      "text/html": [
       "<div>\n",
       "<style scoped>\n",
       "    .dataframe tbody tr th:only-of-type {\n",
       "        vertical-align: middle;\n",
       "    }\n",
       "\n",
       "    .dataframe tbody tr th {\n",
       "        vertical-align: top;\n",
       "    }\n",
       "\n",
       "    .dataframe thead th {\n",
       "        text-align: right;\n",
       "    }\n",
       "</style>\n",
       "<table border=\"1\" class=\"dataframe\">\n",
       "  <thead>\n",
       "    <tr style=\"text-align: right;\">\n",
       "      <th></th>\n",
       "      <th>classifier</th>\n",
       "      <th>estimator</th>\n",
       "      <th>train_acc</th>\n",
       "      <th>test_acc</th>\n",
       "    </tr>\n",
       "  </thead>\n",
       "  <tbody>\n",
       "    <tr>\n",
       "      <th>0</th>\n",
       "      <td>dt</td>\n",
       "      <td>DecisionTreeClassifier(class_weight=None, crit...</td>\n",
       "      <td>0.574967</td>\n",
       "      <td>0.577412</td>\n",
       "    </tr>\n",
       "  </tbody>\n",
       "</table>\n",
       "</div>"
      ],
      "text/plain": [
       "  classifier                                          estimator  train_acc  \\\n",
       "0         dt  DecisionTreeClassifier(class_weight=None, crit...   0.574967   \n",
       "\n",
       "   test_acc  \n",
       "0  0.577412  "
      ]
     },
     "execution_count": 62,
     "metadata": {},
     "output_type": "execute_result"
    }
   ],
   "source": [
    "all_clf_df = all_clf_df.append({'classifier' : 'dt',\n",
    "                                      'estimator':clf.best_estimator_, \n",
    "                                      'train_acc' : clf.best_score_,\n",
    "                                      'test_acc' : test_acc_clf}, ignore_index=True)\n",
    "all_clf_df.head(5)"
   ]
  },
  {
   "cell_type": "markdown",
   "metadata": {},
   "source": [
    "## Support Vector Machine, as multi-classifier"
   ]
  },
  {
   "cell_type": "code",
   "execution_count": 63,
   "metadata": {},
   "outputs": [
    {
     "name": "stdout",
     "output_type": "stream",
     "text": [
      "Fitting 5 folds for each of 1999 candidates, totalling 9995 fits\n"
     ]
    },
    {
     "name": "stderr",
     "output_type": "stream",
     "text": [
      "[Parallel(n_jobs=-1)]: Done  18 tasks      | elapsed:   47.5s\n",
      "[Parallel(n_jobs=-1)]: Done 168 tasks      | elapsed:  5.0min\n",
      "[Parallel(n_jobs=-1)]: Done 418 tasks      | elapsed: 12.4min\n",
      "[Parallel(n_jobs=-1)]: Done 768 tasks      | elapsed: 22.6min\n",
      "[Parallel(n_jobs=-1)]: Done 1218 tasks      | elapsed: 35.8min\n",
      "[Parallel(n_jobs=-1)]: Done 1768 tasks      | elapsed: 52.4min\n",
      "[Parallel(n_jobs=-1)]: Done 2418 tasks      | elapsed: 71.8min\n",
      "[Parallel(n_jobs=-1)]: Done 3168 tasks      | elapsed: 94.4min\n",
      "[Parallel(n_jobs=-1)]: Done 4018 tasks      | elapsed: 120.3min\n",
      "[Parallel(n_jobs=-1)]: Done 4968 tasks      | elapsed: 149.3min\n",
      "[Parallel(n_jobs=-1)]: Done 6018 tasks      | elapsed: 187.3min\n",
      "[Parallel(n_jobs=-1)]: Done 7168 tasks      | elapsed: 235.1min\n",
      "[Parallel(n_jobs=-1)]: Done 8418 tasks      | elapsed: 294.1min\n",
      "[Parallel(n_jobs=-1)]: Done 9768 tasks      | elapsed: 359.9min\n",
      "[Parallel(n_jobs=-1)]: Done 9995 out of 9995 | elapsed: 370.8min finished\n"
     ]
    }
   ],
   "source": [
    "svc_candidates = {\n",
    "    'C' : [i/1000.0 for i in range(1,2000,1)],\n",
    "}\n",
    "\n",
    "all_clf_dict['svc'] = test_model(X_train,y_train,SVC(),dtc_candidates,5,\n",
    "                                   refit=True,X_test=X_test,y_test=y_test)"
   ]
  },
  {
   "cell_type": "code",
   "execution_count": 64,
   "metadata": {},
   "outputs": [
    {
     "name": "stdout",
     "output_type": "stream",
     "text": [
      "Best score for svcclf: 0.48894987722085803\n",
      "Best C: 0.997\n",
      "Best kernel: rbf\n",
      "Best class_weight: None\n"
     ]
    }
   ],
   "source": [
    "print('Best score for svcclf:', svcclf.best_score_) \n",
    "print('Best C:',svcclf.best_estimator_.C) \n",
    "print('Best kernel:',svcclf.best_estimator_.kernel)\n",
    "print('Best class_weight:',svcclf.best_estimator_.class_weight)"
   ]
  },
  {
   "cell_type": "code",
   "execution_count": 65,
   "metadata": {},
   "outputs": [
    {
     "data": {
      "text/plain": [
       "0.4855574812247256"
      ]
     },
     "execution_count": 65,
     "metadata": {},
     "output_type": "execute_result"
    }
   ],
   "source": [
    "y_pred = svcclf.best_estimator_.predict(X_test)\n",
    "\n",
    "test_acc_svcclf = accuracy_score(y_test,y_pred)\n",
    "test_acc_svcclf"
   ]
  },
  {
   "cell_type": "code",
   "execution_count": 66,
   "metadata": {},
   "outputs": [],
   "source": [
    "all_clf_df = all_clf_df.append({'classifier' : 'svm',\n",
    "                                      'estimator':svcclf.best_estimator_, \n",
    "                                      'train_acc' : svcclf.best_score_,\n",
    "                                      'test_acc' : test_acc_svcclf}, ignore_index=True)"
   ]
  },
  {
   "cell_type": "markdown",
   "metadata": {},
   "source": [
    "## Logistic Regression, One vs Rest"
   ]
  },
  {
   "cell_type": "code",
   "execution_count": 67,
   "metadata": {},
   "outputs": [
    {
     "name": "stdout",
     "output_type": "stream",
     "text": [
      "Fitting 5 folds for each of 840 candidates, totalling 4200 fits\n"
     ]
    },
    {
     "name": "stderr",
     "output_type": "stream",
     "text": [
      "[Parallel(n_jobs=-1)]: Done  18 tasks      | elapsed:    1.7s\n",
      "[Parallel(n_jobs=-1)]: Done 168 tasks      | elapsed:   13.2s\n",
      "[Parallel(n_jobs=-1)]: Done 418 tasks      | elapsed:   32.1s\n",
      "[Parallel(n_jobs=-1)]: Done 768 tasks      | elapsed:   58.5s\n",
      "[Parallel(n_jobs=-1)]: Done 1218 tasks      | elapsed:  1.5min\n",
      "[Parallel(n_jobs=-1)]: Done 1768 tasks      | elapsed:  2.2min\n",
      "[Parallel(n_jobs=-1)]: Done 2418 tasks      | elapsed:  3.1min\n",
      "[Parallel(n_jobs=-1)]: Done 3168 tasks      | elapsed:  4.0min\n",
      "[Parallel(n_jobs=-1)]: Done 4018 tasks      | elapsed:  5.1min\n",
      "[Parallel(n_jobs=-1)]: Done 4200 out of 4200 | elapsed:  5.3min finished\n"
     ]
    }
   ],
   "source": [
    "lr_candidates = {\n",
    "    'penalty' : ['l1','l2'],\n",
    "    'C' : [x/10.0 for x in range(900,1110,1)],\n",
    "    'class_weight' : [None,'balanced'],\n",
    "    'multi_class' : ['ovr']\n",
    "}\n",
    "\n",
    "all_clf_dict['lr'] = test_model(X_train,y_train,LogisticRegression(),lr_candidates,5,\n",
    "                                   refit=True,X_test=X_test,y_test=y_test)"
   ]
  },
  {
   "cell_type": "code",
   "execution_count": 68,
   "metadata": {},
   "outputs": [
    {
     "name": "stdout",
     "output_type": "stream",
     "text": [
      "Best score for lrclf: 0.5899176657518417\n",
      "Best C: 97.4\n",
      "Best penalty: l2\n",
      "Best class_weight: None\n"
     ]
    }
   ],
   "source": [
    "print('Best score for lrclf:', lrclf.best_score_) \n",
    "print('Best C:',lrclf.best_estimator_.C) \n",
    "print('Best penalty:',lrclf.best_estimator_.penalty)\n",
    "print('Best class_weight:',lrclf.best_estimator_.class_weight)"
   ]
  },
  {
   "cell_type": "code",
   "execution_count": 69,
   "metadata": {},
   "outputs": [
    {
     "data": {
      "text/plain": [
       "0.5872328134026574"
      ]
     },
     "execution_count": 69,
     "metadata": {},
     "output_type": "execute_result"
    }
   ],
   "source": [
    "y_pred = lrclf.best_estimator_.predict(X_test)\n",
    "\n",
    "test_acc_lrclf = accuracy_score(y_test,y_pred)\n",
    "test_acc_lrclf"
   ]
  },
  {
   "cell_type": "code",
   "execution_count": 70,
   "metadata": {},
   "outputs": [],
   "source": [
    "all_clf_df = all_clf_df.append({'classifier' : 'lr',\n",
    "                                      'estimator':lrclf.best_estimator_, \n",
    "                                      'train_acc' : lrclf.best_score_,\n",
    "                                      'test_acc' : test_acc_lrclf}, ignore_index=True)"
   ]
  },
  {
   "cell_type": "markdown",
   "metadata": {},
   "source": [
    "## Random Forest"
   ]
  },
  {
   "cell_type": "code",
   "execution_count": 71,
   "metadata": {},
   "outputs": [
    {
     "name": "stdout",
     "output_type": "stream",
     "text": [
      "Fitting 5 folds for each of 1782 candidates, totalling 8910 fits\n"
     ]
    },
    {
     "name": "stderr",
     "output_type": "stream",
     "text": [
      "[Parallel(n_jobs=-1)]: Done  18 tasks      | elapsed:    1.5s\n",
      "[Parallel(n_jobs=-1)]: Done 168 tasks      | elapsed:   13.5s\n",
      "[Parallel(n_jobs=-1)]: Done 418 tasks      | elapsed:   29.1s\n",
      "[Parallel(n_jobs=-1)]: Done 768 tasks      | elapsed:   48.7s\n",
      "[Parallel(n_jobs=-1)]: Done 1218 tasks      | elapsed:  1.2min\n",
      "[Parallel(n_jobs=-1)]: Done 1768 tasks      | elapsed:  1.6min\n",
      "[Parallel(n_jobs=-1)]: Done 2418 tasks      | elapsed:  2.1min\n",
      "[Parallel(n_jobs=-1)]: Done 3168 tasks      | elapsed:  2.7min\n",
      "[Parallel(n_jobs=-1)]: Done 4018 tasks      | elapsed:  3.2min\n",
      "[Parallel(n_jobs=-1)]: Done 4968 tasks      | elapsed:  4.1min\n",
      "[Parallel(n_jobs=-1)]: Done 6018 tasks      | elapsed:  5.0min\n",
      "[Parallel(n_jobs=-1)]: Done 7168 tasks      | elapsed:  5.9min\n",
      "[Parallel(n_jobs=-1)]: Done 8418 tasks      | elapsed:  6.8min\n",
      "[Parallel(n_jobs=-1)]: Done 8910 out of 8910 | elapsed:  7.2min finished\n"
     ]
    }
   ],
   "source": [
    "rf_candidates = {\n",
    "    'min_samples_leaf' : list(range(1,100)),\n",
    "    'max_depth' : [None],\n",
    "    'class_weight' : [None,'balanced'],\n",
    "    'n_estimators' : list(range(10,100,10))\n",
    "}\n",
    "\n",
    "all_clf_dict['rf'] = test_model(X_train,y_train,RandomForestClassifier(),rf_candidates,5,\n",
    "                                   refit=True,X_test=X_test,y_test=y_test)"
   ]
  },
  {
   "cell_type": "code",
   "execution_count": 72,
   "metadata": {},
   "outputs": [
    {
     "name": "stdout",
     "output_type": "stream",
     "text": [
      "Best score for rfclf: 0.589989888776542\n",
      "Best min_samples_leaf: 11\n",
      "Best max_depth: None\n",
      "Best class_weight: None\n",
      "Best n_estimators: 80\n"
     ]
    }
   ],
   "source": [
    "print('Best score for rfclf:', rfclf.best_score_) \n",
    "print('Best min_samples_leaf:',rfclf.best_estimator_.min_samples_leaf) \n",
    "print('Best max_depth:',rfclf.best_estimator_.max_depth)\n",
    "print('Best class_weight:',rfclf.best_estimator_.class_weight)\n",
    "print('Best n_estimators:',rfclf.best_estimator_.n_estimators)"
   ]
  },
  {
   "cell_type": "code",
   "execution_count": 73,
   "metadata": {},
   "outputs": [
    {
     "data": {
      "text/plain": [
       "0.5878105141536684"
      ]
     },
     "execution_count": 73,
     "metadata": {},
     "output_type": "execute_result"
    }
   ],
   "source": [
    "y_pred = rfclf.best_estimator_.predict(X_test)\n",
    "\n",
    "test_acc_rfclf = accuracy_score(y_test,y_pred)\n",
    "test_acc_rfclf"
   ]
  },
  {
   "cell_type": "code",
   "execution_count": 74,
   "metadata": {},
   "outputs": [],
   "source": [
    "all_clf_df = all_clf_df.append({'classifier' : 'rf',\n",
    "                                      'estimator':rfclf.best_estimator_, \n",
    "                                      'train_acc' : rfclf.best_score_,\n",
    "                                      'test_acc' : test_acc_rfclf}, ignore_index=True)"
   ]
  },
  {
   "cell_type": "markdown",
   "metadata": {},
   "source": [
    "## Gradient Boosting"
   ]
  },
  {
   "cell_type": "code",
   "execution_count": 75,
   "metadata": {},
   "outputs": [
    {
     "name": "stdout",
     "output_type": "stream",
     "text": [
      "Fitting 5 folds for each of 4455 candidates, totalling 22275 fits\n"
     ]
    },
    {
     "name": "stderr",
     "output_type": "stream",
     "text": [
      "[Parallel(n_jobs=-1)]: Done  18 tasks      | elapsed:  2.9min\n",
      "[Parallel(n_jobs=-1)]: Done 168 tasks      | elapsed: 34.7min\n",
      "[Parallel(n_jobs=-1)]: Done 418 tasks      | elapsed: 61.2min\n",
      "[Parallel(n_jobs=-1)]: Done 768 tasks      | elapsed: 83.0min\n",
      "[Parallel(n_jobs=-1)]: Done 1218 tasks      | elapsed: 101.9min\n",
      "[Parallel(n_jobs=-1)]: Done 1768 tasks      | elapsed: 118.9min\n",
      "[Parallel(n_jobs=-1)]: Done 2418 tasks      | elapsed: 134.7min\n",
      "[Parallel(n_jobs=-1)]: Done 3168 tasks      | elapsed: 149.4min\n",
      "[Parallel(n_jobs=-1)]: Done 4018 tasks      | elapsed: 163.5min\n",
      "[Parallel(n_jobs=-1)]: Done 4968 tasks      | elapsed: 244.1min\n",
      "[Parallel(n_jobs=-1)]: Done 6018 tasks      | elapsed: 290.8min\n",
      "[Parallel(n_jobs=-1)]: Done 7168 tasks      | elapsed: 319.3min\n",
      "[Parallel(n_jobs=-1)]: Done 8418 tasks      | elapsed: 341.4min\n",
      "[Parallel(n_jobs=-1)]: Done 9768 tasks      | elapsed: 441.8min\n",
      "[Parallel(n_jobs=-1)]: Done 11218 tasks      | elapsed: 492.0min\n",
      "[Parallel(n_jobs=-1)]: Done 12768 tasks      | elapsed: 524.3min\n",
      "[Parallel(n_jobs=-1)]: Done 14418 tasks      | elapsed: 616.1min\n",
      "[Parallel(n_jobs=-1)]: Done 16168 tasks      | elapsed: 679.2min\n",
      "[Parallel(n_jobs=-1)]: Done 18018 tasks      | elapsed: 733.1min\n",
      "[Parallel(n_jobs=-1)]: Done 19968 tasks      | elapsed: 824.8min\n",
      "[Parallel(n_jobs=-1)]: Done 22018 tasks      | elapsed: 873.5min\n",
      "[Parallel(n_jobs=-1)]: Done 22275 out of 22275 | elapsed: 878.4min finished\n"
     ]
    }
   ],
   "source": [
    "from sklearn.ensemble import GradientBoostingClassifier\n",
    "\n",
    "gb_candidates = {\n",
    "    'min_samples_leaf' : list(range(1,100)),\n",
    "    'max_depth' : [None],\n",
    "    'n_estimators' : list(range(10,100,10)),\n",
    "    'learning_rate' : [0.001,0.01,0.1,0.5,1.0]\n",
    "}\n",
    "\n",
    "all_clf_dict['gb'] = test_model(X_train,y_train,GradientBoostingClassifier(),gb_candidates,5,\n",
    "                                   refit=True,X_test=X_test,y_test=y_test)"
   ]
  },
  {
   "cell_type": "code",
   "execution_count": 76,
   "metadata": {},
   "outputs": [
    {
     "name": "stdout",
     "output_type": "stream",
     "text": [
      "Best score for gbclf: 0.5885454282825364\n",
      "Best min_samples_leaf: 93\n",
      "Best max_depth: None\n",
      "Best n_estimators: 20\n"
     ]
    }
   ],
   "source": [
    "print('Best score for gbclf:', gbclf.best_score_) \n",
    "print('Best min_samples_leaf:',gbclf.best_estimator_.min_samples_leaf) \n",
    "print('Best max_depth:',gbclf.best_estimator_.max_depth)\n",
    "print('Best n_estimators:',gbclf.best_estimator_.n_estimators)"
   ]
  },
  {
   "cell_type": "code",
   "execution_count": 77,
   "metadata": {},
   "outputs": [
    {
     "data": {
      "text/plain": [
       "0.5921432697862508"
      ]
     },
     "execution_count": 77,
     "metadata": {},
     "output_type": "execute_result"
    }
   ],
   "source": [
    "y_pred = gbclf.best_estimator_.predict(X_test)\n",
    "\n",
    "test_acc_gbclf = accuracy_score(y_test,y_pred)\n",
    "test_acc_gbclf"
   ]
  },
  {
   "cell_type": "code",
   "execution_count": 78,
   "metadata": {},
   "outputs": [],
   "source": [
    "all_clf_df = all_clf_df.append({'classifier' : 'gb',\n",
    "                                      'estimator':gbclf.best_estimator_, \n",
    "                                      'train_acc' : gbclf.best_score_,\n",
    "                                      'test_acc' : test_acc_gbclf}, ignore_index=True)"
   ]
  },
  {
   "cell_type": "markdown",
   "metadata": {},
   "source": [
    "## Perceptron"
   ]
  },
  {
   "cell_type": "code",
   "execution_count": 79,
   "metadata": {},
   "outputs": [
    {
     "name": "stdout",
     "output_type": "stream",
     "text": [
      "Fitting 5 folds for each of 144 candidates, totalling 720 fits\n"
     ]
    },
    {
     "name": "stderr",
     "output_type": "stream",
     "text": [
      "[Parallel(n_jobs=-1)]: Done  18 tasks      | elapsed:    6.7s\n",
      "[Parallel(n_jobs=-1)]: Done 168 tasks      | elapsed:   44.5s\n",
      "[Parallel(n_jobs=-1)]: Done 418 tasks      | elapsed:  4.7min\n",
      "[Parallel(n_jobs=-1)]: Done 720 out of 720 | elapsed:  8.6min finished\n"
     ]
    }
   ],
   "source": [
    "from sklearn.neural_network import MLPClassifier\n",
    "\n",
    "mlp_candidates = {\n",
    "    'alpha' : [0.001,0.01] + [i/10.0 for i in range(1,11)],\n",
    "    'learning_rate' : ['constant','invscaling', 'adaptive'],\n",
    "    'activation' : ['identity', 'logistic', 'tanh', 'relu'],\n",
    "    'max_iter' : [1000]\n",
    "}\n",
    "\n",
    "all_clf_dict['gb'] = test_model(X_train,y_train,MLPClassifier(),mlp_candidates,5,\n",
    "                                   refit=True,X_test=X_test,y_test=y_test)"
   ]
  },
  {
   "cell_type": "code",
   "execution_count": 80,
   "metadata": {},
   "outputs": [
    {
     "name": "stdout",
     "output_type": "stream",
     "text": [
      "Best score for mlpclf: 0.587895421060234\n",
      "Best alpha: 0.3\n",
      "Best learning_rate: invscaling\n",
      "Best activation: logistic\n"
     ]
    }
   ],
   "source": [
    "print('Best score for mlpclf:', mlpclf.best_score_) \n",
    "print('Best alpha:',mlpclf.best_estimator_.alpha) \n",
    "print('Best learning_rate:',mlpclf.best_estimator_.learning_rate)\n",
    "print('Best activation:',mlpclf.best_estimator_.activation)"
   ]
  },
  {
   "cell_type": "code",
   "execution_count": 81,
   "metadata": {},
   "outputs": [
    {
     "data": {
      "text/plain": [
       "0.58578856152513"
      ]
     },
     "execution_count": 81,
     "metadata": {},
     "output_type": "execute_result"
    }
   ],
   "source": [
    "y_pred = mlpclf.best_estimator_.predict(X_test)\n",
    "\n",
    "test_acc_mlpclf = accuracy_score(y_test,y_pred)\n",
    "test_acc_mlpclf"
   ]
  },
  {
   "cell_type": "code",
   "execution_count": 82,
   "metadata": {},
   "outputs": [],
   "source": [
    "all_clf_df = all_clf_df.append({'classifier' : 'mlp',\n",
    "                                      'estimator':mlpclf.best_estimator_, \n",
    "                                      'train_acc' : mlpclf.best_score_,\n",
    "                                      'test_acc' : test_acc_mlpclf}, ignore_index=True)"
   ]
  },
  {
   "cell_type": "markdown",
   "metadata": {},
   "source": [
    "## Fanático (chuta tudo como 'WIN')"
   ]
  },
  {
   "cell_type": "code",
   "execution_count": 83,
   "metadata": {},
   "outputs": [],
   "source": [
    "from sklearn.dummy import DummyClassifier\n",
    "\n",
    "dummy_candidates = {'strategy' : ['most_frequent']}\n",
    "\n",
    "all_clf_dict['fan'] = test_model(X_train,y_train,DummyClassifier(),dummy_candidates,5,\n",
    "                                   refit=True,X_test=X_test,y_test=y_test)"
   ]
  },
  {
   "cell_type": "code",
   "execution_count": 84,
   "metadata": {},
   "outputs": [
    {
     "data": {
      "text/plain": [
       "0.48454427271414124"
      ]
     },
     "execution_count": 84,
     "metadata": {},
     "output_type": "execute_result"
    }
   ],
   "source": [
    "train_acc_naive= dumclf.score(X_train,y_train)"
   ]
  },
  {
   "cell_type": "code",
   "execution_count": 85,
   "metadata": {},
   "outputs": [
    {
     "data": {
      "text/plain": [
       "0.4855574812247256"
      ]
     },
     "execution_count": 85,
     "metadata": {},
     "output_type": "execute_result"
    }
   ],
   "source": [
    "y_test_pred = dumclf.predict(X_test)\n",
    "test_acc_naive = accuracy_score(y_test,y_test_pred)\n",
    "test_acc_naive"
   ]
  },
  {
   "cell_type": "code",
   "execution_count": 86,
   "metadata": {},
   "outputs": [],
   "source": [
    "all_clf_df = all_clf_df.append({'classifier' : 'naive', \n",
    "                                      'estimator' : dumclf, \n",
    "                                      'train_acc' : train_acc_naive,\n",
    "                                      'test_acc' : test_acc_naive}, ignore_index=True)"
   ]
  },
  {
   "cell_type": "markdown",
   "metadata": {},
   "source": [
    "## Summary"
   ]
  },
  {
   "cell_type": "code",
   "execution_count": 87,
   "metadata": {},
   "outputs": [
    {
     "name": "stderr",
     "output_type": "stream",
     "text": [
      "/opt/conda/lib/python3.6/site-packages/sklearn/metrics/classification.py:1137: UndefinedMetricWarning: F-score is ill-defined and being set to 0.0 in labels with no true samples.\n",
      "  'recall', 'true', average, warn_for)\n"
     ]
    }
   ],
   "source": [
    "all_clf_list= []\n",
    "for key in all_clf_dict:\n",
    "     all_clf_list.append({'classifier' : key, \n",
    "                           'train_acc' : all_clf_dict[key]['acc'], \n",
    "                           'train_f1' : all_clf_dict[key]['f1'],\n",
    "                           'test_acc' : all_clf_dict[key]['test_acc'], \n",
    "                           'test_f1' : all_clf_dict[key]['test_f1']})\n",
    "\n",
    "all_clf_df = pd.DataFrame(all_clf_list)"
   ]
  },
  {
   "cell_type": "code",
   "execution_count": 92,
   "metadata": {},
   "outputs": [
    {
     "data": {
      "image/png": "[encoded data removed]",
      "text/plain": [
       "<matplotlib.figure.Figure at 0x7f80f8bff940>"
      ]
     },
     "metadata": {},
     "output_type": "display_data"
    }
   ],
   "source": [
    "ax = sns.regplot(x=all_clf_df[\"test_acc\"], y=all_clf_df[\"test_f1\"],fit_reg=False)\n",
    "\n",
    "label_point(all_clf_df[\"test_acc\"], all_clf_df[\"test_f1\"], all_clf_df[\"classifier\"], ax) "
   ]
  },
  {
   "cell_type": "markdown",
   "metadata": {},
   "source": [
    "Ao final, parece que nossa simples regressão logítica é a campeão em termos de Acurácia e F1. Mais importante que isso, vários modelos conseguiram ganhos significativos de acurácia em relação fanático, o que mostra ser possível modelar com os dados totais, ao contrário do caso específico do Brasil."
   ]
  },
  {
   "cell_type": "markdown",
   "metadata": {},
   "source": [
    "# Campeão das seleções aplicado ao Brasil"
   ]
  },
  {
   "cell_type": "code",
   "execution_count": 45,
   "metadata": {},
   "outputs": [
    {
     "ename": "NameError",
     "evalue": "name 'all_clf_df' is not defined",
     "output_type": "error",
     "traceback": [
      "\u001b[0;31m---------------------------------------------------------------------------\u001b[0m",
      "\u001b[0;31mNameError\u001b[0m                                 Traceback (most recent call last)",
      "\u001b[0;32m<ipython-input-45-19524cd7b02d>\u001b[0m in \u001b[0;36m<module>\u001b[0;34m()\u001b[0m\n\u001b[0;32m----> 1\u001b[0;31m \u001b[0mall_clf_df\u001b[0m\u001b[0;34m[\u001b[0m\u001b[0;34m'estimator'\u001b[0m\u001b[0;34m]\u001b[0m\u001b[0;34m\u001b[0m\u001b[0m\n\u001b[0m",
      "\u001b[0;31mNameError\u001b[0m: name 'all_clf_df' is not defined"
     ]
    }
   ],
   "source": [
    "dt_selecoes= all_clf_df[all_clf_df['key']='lr']['estimator'][0]\n",
    "\n",
    "y_brasil_pred = dt_selecoes.predict(X)\n",
    "\n",
    "dt_acc = accuracy_score(y_brasil_pred,y,average='weighted')\n",
    "dt_f1 = f1_score(y_brasil_pred,y,average='weighted')"
   ]
  },
  {
   "cell_type": "code",
   "execution_count": null,
   "metadata": {},
   "outputs": [],
   "source": [
    "all_clf_df = all_clf_df.append({'classifier' : 'DT', \n",
    "                                      'estimator' : dt_selecoes, \n",
    "                                      'test_acc' : dt_acc,\n",
    "                                      'test_f1' : dt_f1}, ignore_index=True)"
   ]
  },
  {
   "cell_type": "code",
   "execution_count": null,
   "metadata": {},
   "outputs": [],
   "source": [
    "ax = sns.regplot(x=brasil_clf_df[\"test_acc\"], y=brasil_clf_df[\"test_f1\"],fit_reg=False)\n",
    "\n",
    "label_point(brasil_clf_df[\"test_acc\"], brasil_clf_df[\"test_f1\"], brasil_clf_df[\"classifier\"], ax) "
   ]
  }
 ],
 "metadata": {
  "kernelspec": {
   "display_name": "Python 3",
   "language": "python",
   "name": "python3"
  },
  "language_info": {
   "codemirror_mode": {
    "name": "ipython",
    "version": 3
   },
   "file_extension": ".py",
   "mimetype": "text/x-python",
   "name": "python",
   "nbconvert_exporter": "python",
   "pygments_lexer": "ipython3",
   "version": "3.6.4"
  }
 },
 "nbformat": 4,
 "nbformat_minor": 2
}
