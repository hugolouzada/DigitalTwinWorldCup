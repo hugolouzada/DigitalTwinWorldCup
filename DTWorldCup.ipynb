{
 "cells": [
  {
   "cell_type": "markdown",
   "metadata": {},
   "source": [
    "# A Digital Twin Approach to World Cup Modelling"
   ]
  },
  {
   "cell_type": "markdown",
   "metadata": {},
   "source": [
    "Prever resultados de jogos é um passatempo, e ganha pão, de muitos nerds, sendo a Copa do Mundo o maior troféu. Você consegue achar predições usando uma [grande](http://previsaoesportiva.com.br/campeonatos/copa2018/boxplot.html) [variedade](http://www.chancedegol.com.br/copa18.htm) de [modelos](https://www.kaggle.com/agostontorok/soccer-world-cup-2018-winner/notebook) por aí, mas aqui vamos pensar em algo um pouco diferente. E se tivéssemos um Digital Twin de cada seleção?\n",
    "\n",
    "[Um gêmeo digital é uma cópia digital de uma coisa física](https://en.wikipedia.org/wiki/Digital_twin). Como a cópia é digital, você pode usar ela para prever muitas coisas impraticáveis no mundo físico, como simular urubus entrando no digital twin de uma turbina de avião ou anteceder falhas em turbinas eólicas em locais inacessíveis.\n",
    "\n",
    "É claro que definir esse bixo é muito mais fácil do que construir ele. Muita gente também vai se perguntar se isso não é a mesma coisa que as simulações da engenharia, ou machine learning e otimização. A resposta é: sim e não."
   ]
  },
  {
   "cell_type": "markdown",
   "metadata": {},
   "source": [
    "![Isso tem que ser falado](infelizmente.jpg)"
   ]
  },
  {
   "cell_type": "markdown",
   "metadata": {},
   "source": [
    "Você forma um digital twin com um pouco de tudo isso aí. Um sistema de muitas partículas interagindo, como uma proteína, pode ser simulada através da descrição física de como cada um de seus vários atómos reage de acordo com variáveis do ambiente e interação com outros átomos. Em sistemas mais complicados, como pessoas conversando ou processos mais complexos, não temos o luxo de, partindo das leis da física, prever como uma pessoa vai agir. E daí entra o Machine Learning: aprendemos com o histórico como representar uma certa entidade e, depois, estamos livres para simular ela interagindo com o mundo e outras entidades.\n",
    "\n",
    "No problema da Copa do Mundo temos duas possibilidades: podemos separar os dados de cada seleção e construir um modelo para cada, ou podemos fazer um grande preditor de resultado de jogos, olhando para todos os resultados de todos os jogos e, na hora do uso, alimentarmos essa máquina com somente os jogos de uma seleção para prever os seus resultados. A primeira abordagem é um pouco mais óbvia: jogos e dados do Brasil são usados para prever resultados do Brasil. Entretanto a segunda abordagem, mesmo que mais confusa, é mais rica: ela permite aproveitarmos todos os dados disponíveis e fazer previsões para o Brasil utilizando situações parecidas que ocorreram com outras seleções.\n",
    "\n",
    "Em todo caso, é melhor avançarmos aos poucos. Na Seção 1 descrevo os dados que considerei na modelagem. Na Seção 2 faço um Digital Twin exclusivo com dados do Brasil e, na Seção 3, generalizo para construção de um Digital Twin de seleções."
   ]
  },
  {
   "cell_type": "markdown",
   "metadata": {},
   "source": [
    "# 1. Dados que eu peguei de outra pessoa"
   ]
  },
  {
   "cell_type": "markdown",
   "metadata": {},
   "source": [
    "O usuário do Kaggle Agostonkorok já nos fez o grande favor de coletar os [principais dados](https://www.kaggle.com/agostontorok/soccer-world-cup-2018-winner/notebook) utilizados na previsão de jogos de seleções. Temos três conjuntos.\n",
    "\n",
    "O primeiro é o ranking da Fifa, que contém a posição de cada país com uma precisão absurda (mensal):"
   ]
  },
  {
   "cell_type": "code",
   "execution_count": 1,
   "metadata": {},
   "outputs": [
    {
     "name": "stdout",
     "output_type": "stream",
     "text": [
      "(57793, 16)\n"
     ]
    },
    {
     "data": {
      "text/html": [
       "<div>\n",
       "<style>\n",
       "    .dataframe thead tr:only-child th {\n",
       "        text-align: right;\n",
       "    }\n",
       "\n",
       "    .dataframe thead th {\n",
       "        text-align: left;\n",
       "    }\n",
       "\n",
       "    .dataframe tbody tr th {\n",
       "        vertical-align: top;\n",
       "    }\n",
       "</style>\n",
       "<table border=\"1\" class=\"dataframe\">\n",
       "  <thead>\n",
       "    <tr style=\"text-align: right;\">\n",
       "      <th></th>\n",
       "      <th>rank</th>\n",
       "      <th>country_full</th>\n",
       "      <th>country_abrv</th>\n",
       "      <th>total_points</th>\n",
       "      <th>previous_points</th>\n",
       "      <th>rank_change</th>\n",
       "      <th>cur_year_avg</th>\n",
       "      <th>cur_year_avg_weighted</th>\n",
       "      <th>last_year_avg</th>\n",
       "      <th>last_year_avg_weighted</th>\n",
       "      <th>two_year_ago_avg</th>\n",
       "      <th>two_year_ago_weighted</th>\n",
       "      <th>three_year_ago_avg</th>\n",
       "      <th>three_year_ago_weighted</th>\n",
       "      <th>confederation</th>\n",
       "      <th>rank_date</th>\n",
       "    </tr>\n",
       "  </thead>\n",
       "  <tbody>\n",
       "    <tr>\n",
       "      <th>0</th>\n",
       "      <td>1</td>\n",
       "      <td>Germany</td>\n",
       "      <td>GER</td>\n",
       "      <td>0.00</td>\n",
       "      <td>57</td>\n",
       "      <td>0</td>\n",
       "      <td>0.00</td>\n",
       "      <td>0.00</td>\n",
       "      <td>0.00</td>\n",
       "      <td>0.00</td>\n",
       "      <td>0.00</td>\n",
       "      <td>0.00</td>\n",
       "      <td>0.00</td>\n",
       "      <td>0.00</td>\n",
       "      <td>UEFA</td>\n",
       "      <td>1993-08-08</td>\n",
       "    </tr>\n",
       "    <tr>\n",
       "      <th>1</th>\n",
       "      <td>2</td>\n",
       "      <td>Italy</td>\n",
       "      <td>ITA</td>\n",
       "      <td>0.00</td>\n",
       "      <td>57</td>\n",
       "      <td>0</td>\n",
       "      <td>0.00</td>\n",
       "      <td>0.00</td>\n",
       "      <td>0.00</td>\n",
       "      <td>0.00</td>\n",
       "      <td>0.00</td>\n",
       "      <td>0.00</td>\n",
       "      <td>0.00</td>\n",
       "      <td>0.00</td>\n",
       "      <td>UEFA</td>\n",
       "      <td>1993-08-08</td>\n",
       "    </tr>\n",
       "    <tr>\n",
       "      <th>2</th>\n",
       "      <td>3</td>\n",
       "      <td>Switzerland</td>\n",
       "      <td>SUI</td>\n",
       "      <td>0.00</td>\n",
       "      <td>50</td>\n",
       "      <td>9</td>\n",
       "      <td>0.00</td>\n",
       "      <td>0.00</td>\n",
       "      <td>0.00</td>\n",
       "      <td>0.00</td>\n",
       "      <td>0.00</td>\n",
       "      <td>0.00</td>\n",
       "      <td>0.00</td>\n",
       "      <td>0.00</td>\n",
       "      <td>UEFA</td>\n",
       "      <td>1993-08-08</td>\n",
       "    </tr>\n",
       "    <tr>\n",
       "      <th>3</th>\n",
       "      <td>4</td>\n",
       "      <td>Sweden</td>\n",
       "      <td>SWE</td>\n",
       "      <td>0.00</td>\n",
       "      <td>55</td>\n",
       "      <td>0</td>\n",
       "      <td>0.00</td>\n",
       "      <td>0.00</td>\n",
       "      <td>0.00</td>\n",
       "      <td>0.00</td>\n",
       "      <td>0.00</td>\n",
       "      <td>0.00</td>\n",
       "      <td>0.00</td>\n",
       "      <td>0.00</td>\n",
       "      <td>UEFA</td>\n",
       "      <td>1993-08-08</td>\n",
       "    </tr>\n",
       "    <tr>\n",
       "      <th>4</th>\n",
       "      <td>5</td>\n",
       "      <td>Argentina</td>\n",
       "      <td>ARG</td>\n",
       "      <td>0.00</td>\n",
       "      <td>51</td>\n",
       "      <td>5</td>\n",
       "      <td>0.00</td>\n",
       "      <td>0.00</td>\n",
       "      <td>0.00</td>\n",
       "      <td>0.00</td>\n",
       "      <td>0.00</td>\n",
       "      <td>0.00</td>\n",
       "      <td>0.00</td>\n",
       "      <td>0.00</td>\n",
       "      <td>CONMEBOL</td>\n",
       "      <td>1993-08-08</td>\n",
       "    </tr>\n",
       "    <tr>\n",
       "      <th>5</th>\n",
       "      <td>6</td>\n",
       "      <td>Republic of Ireland</td>\n",
       "      <td>IRL</td>\n",
       "      <td>0.00</td>\n",
       "      <td>54</td>\n",
       "      <td>0</td>\n",
       "      <td>0.00</td>\n",
       "      <td>0.00</td>\n",
       "      <td>0.00</td>\n",
       "      <td>0.00</td>\n",
       "      <td>0.00</td>\n",
       "      <td>0.00</td>\n",
       "      <td>0.00</td>\n",
       "      <td>0.00</td>\n",
       "      <td>UEFA</td>\n",
       "      <td>1993-08-08</td>\n",
       "    </tr>\n",
       "    <tr>\n",
       "      <th>6</th>\n",
       "      <td>7</td>\n",
       "      <td>Russia</td>\n",
       "      <td>RUS</td>\n",
       "      <td>0.00</td>\n",
       "      <td>52</td>\n",
       "      <td>1</td>\n",
       "      <td>0.00</td>\n",
       "      <td>0.00</td>\n",
       "      <td>0.00</td>\n",
       "      <td>0.00</td>\n",
       "      <td>0.00</td>\n",
       "      <td>0.00</td>\n",
       "      <td>0.00</td>\n",
       "      <td>0.00</td>\n",
       "      <td>UEFA</td>\n",
       "      <td>1993-08-08</td>\n",
       "    </tr>\n",
       "    <tr>\n",
       "      <th>7</th>\n",
       "      <td>8</td>\n",
       "      <td>Brazil</td>\n",
       "      <td>BRA</td>\n",
       "      <td>0.00</td>\n",
       "      <td>55</td>\n",
       "      <td>-5</td>\n",
       "      <td>0.00</td>\n",
       "      <td>0.00</td>\n",
       "      <td>0.00</td>\n",
       "      <td>0.00</td>\n",
       "      <td>0.00</td>\n",
       "      <td>0.00</td>\n",
       "      <td>0.00</td>\n",
       "      <td>0.00</td>\n",
       "      <td>CONMEBOL</td>\n",
       "      <td>1993-08-08</td>\n",
       "    </tr>\n",
       "    <tr>\n",
       "      <th>8</th>\n",
       "      <td>9</td>\n",
       "      <td>Norway</td>\n",
       "      <td>NOR</td>\n",
       "      <td>0.00</td>\n",
       "      <td>49</td>\n",
       "      <td>5</td>\n",
       "      <td>0.00</td>\n",
       "      <td>0.00</td>\n",
       "      <td>0.00</td>\n",
       "      <td>0.00</td>\n",
       "      <td>0.00</td>\n",
       "      <td>0.00</td>\n",
       "      <td>0.00</td>\n",
       "      <td>0.00</td>\n",
       "      <td>UEFA</td>\n",
       "      <td>1993-08-08</td>\n",
       "    </tr>\n",
       "    <tr>\n",
       "      <th>9</th>\n",
       "      <td>10</td>\n",
       "      <td>Denmark</td>\n",
       "      <td>DEN</td>\n",
       "      <td>0.00</td>\n",
       "      <td>51</td>\n",
       "      <td>-1</td>\n",
       "      <td>0.00</td>\n",
       "      <td>0.00</td>\n",
       "      <td>0.00</td>\n",
       "      <td>0.00</td>\n",
       "      <td>0.00</td>\n",
       "      <td>0.00</td>\n",
       "      <td>0.00</td>\n",
       "      <td>0.00</td>\n",
       "      <td>UEFA</td>\n",
       "      <td>1993-08-08</td>\n",
       "    </tr>\n",
       "    <tr>\n",
       "      <th>10</th>\n",
       "      <td>11</td>\n",
       "      <td>England</td>\n",
       "      <td>ENG</td>\n",
       "      <td>0.00</td>\n",
       "      <td>55</td>\n",
       "      <td>-6</td>\n",
       "      <td>0.00</td>\n",
       "      <td>0.00</td>\n",
       "      <td>0.00</td>\n",
       "      <td>0.00</td>\n",
       "      <td>0.00</td>\n",
       "      <td>0.00</td>\n",
       "      <td>0.00</td>\n",
       "      <td>0.00</td>\n",
       "      <td>UEFA</td>\n",
       "      <td>1993-08-08</td>\n",
       "    </tr>\n",
       "    <tr>\n",
       "      <th>11</th>\n",
       "      <td>12</td>\n",
       "      <td>France</td>\n",
       "      <td>FRA</td>\n",
       "      <td>0.00</td>\n",
       "      <td>45</td>\n",
       "      <td>7</td>\n",
       "      <td>0.00</td>\n",
       "      <td>0.00</td>\n",
       "      <td>0.00</td>\n",
       "      <td>0.00</td>\n",
       "      <td>0.00</td>\n",
       "      <td>0.00</td>\n",
       "      <td>0.00</td>\n",
       "      <td>0.00</td>\n",
       "      <td>UEFA</td>\n",
       "      <td>1993-08-08</td>\n",
       "    </tr>\n",
       "    <tr>\n",
       "      <th>12</th>\n",
       "      <td>13</td>\n",
       "      <td>Spain</td>\n",
       "      <td>ESP</td>\n",
       "      <td>0.00</td>\n",
       "      <td>49</td>\n",
       "      <td>2</td>\n",
       "      <td>0.00</td>\n",
       "      <td>0.00</td>\n",
       "      <td>0.00</td>\n",
       "      <td>0.00</td>\n",
       "      <td>0.00</td>\n",
       "      <td>0.00</td>\n",
       "      <td>0.00</td>\n",
       "      <td>0.00</td>\n",
       "      <td>UEFA</td>\n",
       "      <td>1993-08-08</td>\n",
       "    </tr>\n",
       "    <tr>\n",
       "      <th>13</th>\n",
       "      <td>14</td>\n",
       "      <td>Mexico</td>\n",
       "      <td>MEX</td>\n",
       "      <td>0.00</td>\n",
       "      <td>42</td>\n",
       "      <td>11</td>\n",
       "      <td>0.00</td>\n",
       "      <td>0.00</td>\n",
       "      <td>0.00</td>\n",
       "      <td>0.00</td>\n",
       "      <td>0.00</td>\n",
       "      <td>0.00</td>\n",
       "      <td>0.00</td>\n",
       "      <td>0.00</td>\n",
       "      <td>CONCACAF</td>\n",
       "      <td>1993-08-08</td>\n",
       "    </tr>\n",
       "    <tr>\n",
       "      <th>14</th>\n",
       "      <td>15</td>\n",
       "      <td>RCS</td>\n",
       "      <td>TCH</td>\n",
       "      <td>0.00</td>\n",
       "      <td>47</td>\n",
       "      <td>3</td>\n",
       "      <td>0.00</td>\n",
       "      <td>0.00</td>\n",
       "      <td>0.00</td>\n",
       "      <td>0.00</td>\n",
       "      <td>0.00</td>\n",
       "      <td>0.00</td>\n",
       "      <td>0.00</td>\n",
       "      <td>0.00</td>\n",
       "      <td>UEFA</td>\n",
       "      <td>1993-08-08</td>\n",
       "    </tr>\n",
       "    <tr>\n",
       "      <th>15</th>\n",
       "      <td>16</td>\n",
       "      <td>Netherlands</td>\n",
       "      <td>NED</td>\n",
       "      <td>0.00</td>\n",
       "      <td>53</td>\n",
       "      <td>-9</td>\n",
       "      <td>0.00</td>\n",
       "      <td>0.00</td>\n",
       "      <td>0.00</td>\n",
       "      <td>0.00</td>\n",
       "      <td>0.00</td>\n",
       "      <td>0.00</td>\n",
       "      <td>0.00</td>\n",
       "      <td>0.00</td>\n",
       "      <td>UEFA</td>\n",
       "      <td>1993-08-08</td>\n",
       "    </tr>\n",
       "    <tr>\n",
       "      <th>16</th>\n",
       "      <td>17</td>\n",
       "      <td>Nigeria</td>\n",
       "      <td>NGA</td>\n",
       "      <td>0.00</td>\n",
       "      <td>49</td>\n",
       "      <td>-4</td>\n",
       "      <td>0.00</td>\n",
       "      <td>0.00</td>\n",
       "      <td>0.00</td>\n",
       "      <td>0.00</td>\n",
       "      <td>0.00</td>\n",
       "      <td>0.00</td>\n",
       "      <td>0.00</td>\n",
       "      <td>0.00</td>\n",
       "      <td>CAF</td>\n",
       "      <td>1993-08-08</td>\n",
       "    </tr>\n",
       "    <tr>\n",
       "      <th>17</th>\n",
       "      <td>18</td>\n",
       "      <td>Belgium</td>\n",
       "      <td>BEL</td>\n",
       "      <td>0.00</td>\n",
       "      <td>47</td>\n",
       "      <td>-1</td>\n",
       "      <td>0.00</td>\n",
       "      <td>0.00</td>\n",
       "      <td>0.00</td>\n",
       "      <td>0.00</td>\n",
       "      <td>0.00</td>\n",
       "      <td>0.00</td>\n",
       "      <td>0.00</td>\n",
       "      <td>0.00</td>\n",
       "      <td>UEFA</td>\n",
       "      <td>1993-08-08</td>\n",
       "    </tr>\n",
       "    <tr>\n",
       "      <th>18</th>\n",
       "      <td>19</td>\n",
       "      <td>Colombia</td>\n",
       "      <td>COL</td>\n",
       "      <td>0.00</td>\n",
       "      <td>36</td>\n",
       "      <td>16</td>\n",
       "      <td>0.00</td>\n",
       "      <td>0.00</td>\n",
       "      <td>0.00</td>\n",
       "      <td>0.00</td>\n",
       "      <td>0.00</td>\n",
       "      <td>0.00</td>\n",
       "      <td>0.00</td>\n",
       "      <td>0.00</td>\n",
       "      <td>CONMEBOL</td>\n",
       "      <td>1993-08-08</td>\n",
       "    </tr>\n",
       "    <tr>\n",
       "      <th>19</th>\n",
       "      <td>20</td>\n",
       "      <td>Poland</td>\n",
       "      <td>POL</td>\n",
       "      <td>0.00</td>\n",
       "      <td>45</td>\n",
       "      <td>0</td>\n",
       "      <td>0.00</td>\n",
       "      <td>0.00</td>\n",
       "      <td>0.00</td>\n",
       "      <td>0.00</td>\n",
       "      <td>0.00</td>\n",
       "      <td>0.00</td>\n",
       "      <td>0.00</td>\n",
       "      <td>0.00</td>\n",
       "      <td>UEFA</td>\n",
       "      <td>1993-08-08</td>\n",
       "    </tr>\n",
       "    <tr>\n",
       "      <th>20</th>\n",
       "      <td>21</td>\n",
       "      <td>Romania</td>\n",
       "      <td>ROU</td>\n",
       "      <td>0.00</td>\n",
       "      <td>51</td>\n",
       "      <td>-10</td>\n",
       "      <td>0.00</td>\n",
       "      <td>0.00</td>\n",
       "      <td>0.00</td>\n",
       "      <td>0.00</td>\n",
       "      <td>0.00</td>\n",
       "      <td>0.00</td>\n",
       "      <td>0.00</td>\n",
       "      <td>0.00</td>\n",
       "      <td>UEFA</td>\n",
       "      <td>1993-08-08</td>\n",
       "    </tr>\n",
       "    <tr>\n",
       "      <th>21</th>\n",
       "      <td>22</td>\n",
       "      <td>Uruguay</td>\n",
       "      <td>URU</td>\n",
       "      <td>0.00</td>\n",
       "      <td>47</td>\n",
       "      <td>-6</td>\n",
       "      <td>0.00</td>\n",
       "      <td>0.00</td>\n",
       "      <td>0.00</td>\n",
       "      <td>0.00</td>\n",
       "      <td>0.00</td>\n",
       "      <td>0.00</td>\n",
       "      <td>0.00</td>\n",
       "      <td>0.00</td>\n",
       "      <td>CONMEBOL</td>\n",
       "      <td>1993-08-08</td>\n",
       "    </tr>\n",
       "    <tr>\n",
       "      <th>22</th>\n",
       "      <td>23</td>\n",
       "      <td>Portugal</td>\n",
       "      <td>POR</td>\n",
       "      <td>0.00</td>\n",
       "      <td>38</td>\n",
       "      <td>10</td>\n",
       "      <td>0.00</td>\n",
       "      <td>0.00</td>\n",
       "      <td>0.00</td>\n",
       "      <td>0.00</td>\n",
       "      <td>0.00</td>\n",
       "      <td>0.00</td>\n",
       "      <td>0.00</td>\n",
       "      <td>0.00</td>\n",
       "      <td>UEFA</td>\n",
       "      <td>1993-08-08</td>\n",
       "    </tr>\n",
       "    <tr>\n",
       "      <th>23</th>\n",
       "      <td>24</td>\n",
       "      <td>Cameroon</td>\n",
       "      <td>CMR</td>\n",
       "      <td>0.00</td>\n",
       "      <td>43</td>\n",
       "      <td>-2</td>\n",
       "      <td>0.00</td>\n",
       "      <td>0.00</td>\n",
       "      <td>0.00</td>\n",
       "      <td>0.00</td>\n",
       "      <td>0.00</td>\n",
       "      <td>0.00</td>\n",
       "      <td>0.00</td>\n",
       "      <td>0.00</td>\n",
       "      <td>CAF</td>\n",
       "      <td>1993-08-08</td>\n",
       "    </tr>\n",
       "    <tr>\n",
       "      <th>24</th>\n",
       "      <td>25</td>\n",
       "      <td>Zambia</td>\n",
       "      <td>ZAM</td>\n",
       "      <td>0.00</td>\n",
       "      <td>38</td>\n",
       "      <td>7</td>\n",
       "      <td>0.00</td>\n",
       "      <td>0.00</td>\n",
       "      <td>0.00</td>\n",
       "      <td>0.00</td>\n",
       "      <td>0.00</td>\n",
       "      <td>0.00</td>\n",
       "      <td>0.00</td>\n",
       "      <td>0.00</td>\n",
       "      <td>CAF</td>\n",
       "      <td>1993-08-08</td>\n",
       "    </tr>\n",
       "    <tr>\n",
       "      <th>25</th>\n",
       "      <td>26</td>\n",
       "      <td>Egypt</td>\n",
       "      <td>EGY</td>\n",
       "      <td>0.00</td>\n",
       "      <td>44</td>\n",
       "      <td>-5</td>\n",
       "      <td>0.00</td>\n",
       "      <td>0.00</td>\n",
       "      <td>0.00</td>\n",
       "      <td>0.00</td>\n",
       "      <td>0.00</td>\n",
       "      <td>0.00</td>\n",
       "      <td>0.00</td>\n",
       "      <td>0.00</td>\n",
       "      <td>CAF</td>\n",
       "      <td>1993-08-08</td>\n",
       "    </tr>\n",
       "    <tr>\n",
       "      <th>26</th>\n",
       "      <td>27</td>\n",
       "      <td>Wales</td>\n",
       "      <td>WAL</td>\n",
       "      <td>0.00</td>\n",
       "      <td>40</td>\n",
       "      <td>1</td>\n",
       "      <td>0.00</td>\n",
       "      <td>0.00</td>\n",
       "      <td>0.00</td>\n",
       "      <td>0.00</td>\n",
       "      <td>0.00</td>\n",
       "      <td>0.00</td>\n",
       "      <td>0.00</td>\n",
       "      <td>0.00</td>\n",
       "      <td>UEFA</td>\n",
       "      <td>1993-08-08</td>\n",
       "    </tr>\n",
       "    <tr>\n",
       "      <th>27</th>\n",
       "      <td>28</td>\n",
       "      <td>USA</td>\n",
       "      <td>USA</td>\n",
       "      <td>0.00</td>\n",
       "      <td>43</td>\n",
       "      <td>-4</td>\n",
       "      <td>0.00</td>\n",
       "      <td>0.00</td>\n",
       "      <td>0.00</td>\n",
       "      <td>0.00</td>\n",
       "      <td>0.00</td>\n",
       "      <td>0.00</td>\n",
       "      <td>0.00</td>\n",
       "      <td>0.00</td>\n",
       "      <td>CONCACAF</td>\n",
       "      <td>1993-08-08</td>\n",
       "    </tr>\n",
       "    <tr>\n",
       "      <th>28</th>\n",
       "      <td>29</td>\n",
       "      <td>Côte d'Ivoire</td>\n",
       "      <td>CIV</td>\n",
       "      <td>0.00</td>\n",
       "      <td>41</td>\n",
       "      <td>-2</td>\n",
       "      <td>0.00</td>\n",
       "      <td>0.00</td>\n",
       "      <td>0.00</td>\n",
       "      <td>0.00</td>\n",
       "      <td>0.00</td>\n",
       "      <td>0.00</td>\n",
       "      <td>0.00</td>\n",
       "      <td>0.00</td>\n",
       "      <td>CAF</td>\n",
       "      <td>1993-08-08</td>\n",
       "    </tr>\n",
       "    <tr>\n",
       "      <th>29</th>\n",
       "      <td>30</td>\n",
       "      <td>Scotland</td>\n",
       "      <td>SCO</td>\n",
       "      <td>0.00</td>\n",
       "      <td>43</td>\n",
       "      <td>-7</td>\n",
       "      <td>0.00</td>\n",
       "      <td>0.00</td>\n",
       "      <td>0.00</td>\n",
       "      <td>0.00</td>\n",
       "      <td>0.00</td>\n",
       "      <td>0.00</td>\n",
       "      <td>0.00</td>\n",
       "      <td>0.00</td>\n",
       "      <td>UEFA</td>\n",
       "      <td>1993-08-08</td>\n",
       "    </tr>\n",
       "    <tr>\n",
       "      <th>...</th>\n",
       "      <td>...</td>\n",
       "      <td>...</td>\n",
       "      <td>...</td>\n",
       "      <td>...</td>\n",
       "      <td>...</td>\n",
       "      <td>...</td>\n",
       "      <td>...</td>\n",
       "      <td>...</td>\n",
       "      <td>...</td>\n",
       "      <td>...</td>\n",
       "      <td>...</td>\n",
       "      <td>...</td>\n",
       "      <td>...</td>\n",
       "      <td>...</td>\n",
       "      <td>...</td>\n",
       "      <td>...</td>\n",
       "    </tr>\n",
       "    <tr>\n",
       "      <th>57763</th>\n",
       "      <td>182</td>\n",
       "      <td>Guyana</td>\n",
       "      <td>GUY</td>\n",
       "      <td>73.41</td>\n",
       "      <td>111</td>\n",
       "      <td>-18</td>\n",
       "      <td>0.00</td>\n",
       "      <td>0.00</td>\n",
       "      <td>0.00</td>\n",
       "      <td>0.00</td>\n",
       "      <td>208.25</td>\n",
       "      <td>62.48</td>\n",
       "      <td>54.68</td>\n",
       "      <td>10.94</td>\n",
       "      <td>CONCACAF</td>\n",
       "      <td>2018-06-07</td>\n",
       "    </tr>\n",
       "    <tr>\n",
       "      <th>57764</th>\n",
       "      <td>183</td>\n",
       "      <td>Bhutan</td>\n",
       "      <td>BHU</td>\n",
       "      <td>68.00</td>\n",
       "      <td>68</td>\n",
       "      <td>1</td>\n",
       "      <td>0.00</td>\n",
       "      <td>0.00</td>\n",
       "      <td>85.00</td>\n",
       "      <td>42.50</td>\n",
       "      <td>0.00</td>\n",
       "      <td>0.00</td>\n",
       "      <td>127.50</td>\n",
       "      <td>25.50</td>\n",
       "      <td>AFC</td>\n",
       "      <td>2018-06-07</td>\n",
       "    </tr>\n",
       "    <tr>\n",
       "      <th>57765</th>\n",
       "      <td>184</td>\n",
       "      <td>Malta</td>\n",
       "      <td>MLT</td>\n",
       "      <td>65.11</td>\n",
       "      <td>62</td>\n",
       "      <td>1</td>\n",
       "      <td>29.90</td>\n",
       "      <td>29.90</td>\n",
       "      <td>11.74</td>\n",
       "      <td>5.87</td>\n",
       "      <td>64.57</td>\n",
       "      <td>19.37</td>\n",
       "      <td>49.85</td>\n",
       "      <td>9.97</td>\n",
       "      <td>UEFA</td>\n",
       "      <td>2018-06-07</td>\n",
       "    </tr>\n",
       "    <tr>\n",
       "      <th>57766</th>\n",
       "      <td>185</td>\n",
       "      <td>Macau</td>\n",
       "      <td>MAC</td>\n",
       "      <td>60.11</td>\n",
       "      <td>60</td>\n",
       "      <td>1</td>\n",
       "      <td>18.21</td>\n",
       "      <td>18.21</td>\n",
       "      <td>53.13</td>\n",
       "      <td>26.56</td>\n",
       "      <td>8.50</td>\n",
       "      <td>2.55</td>\n",
       "      <td>63.92</td>\n",
       "      <td>12.78</td>\n",
       "      <td>AFC</td>\n",
       "      <td>2018-06-07</td>\n",
       "    </tr>\n",
       "    <tr>\n",
       "      <th>57767</th>\n",
       "      <td>186</td>\n",
       "      <td>Mongolia</td>\n",
       "      <td>MNG</td>\n",
       "      <td>51.00</td>\n",
       "      <td>51</td>\n",
       "      <td>2</td>\n",
       "      <td>8.50</td>\n",
       "      <td>8.50</td>\n",
       "      <td>34.00</td>\n",
       "      <td>17.00</td>\n",
       "      <td>0.00</td>\n",
       "      <td>0.00</td>\n",
       "      <td>127.50</td>\n",
       "      <td>25.50</td>\n",
       "      <td>AFC</td>\n",
       "      <td>2018-06-07</td>\n",
       "    </tr>\n",
       "    <tr>\n",
       "      <th>57768</th>\n",
       "      <td>186</td>\n",
       "      <td>São Tomé e Príncipe</td>\n",
       "      <td>STP</td>\n",
       "      <td>50.54</td>\n",
       "      <td>59</td>\n",
       "      <td>1</td>\n",
       "      <td>0.00</td>\n",
       "      <td>0.00</td>\n",
       "      <td>0.00</td>\n",
       "      <td>0.00</td>\n",
       "      <td>168.48</td>\n",
       "      <td>50.54</td>\n",
       "      <td>0.00</td>\n",
       "      <td>0.00</td>\n",
       "      <td>CAF</td>\n",
       "      <td>2018-06-07</td>\n",
       "    </tr>\n",
       "    <tr>\n",
       "      <th>57769</th>\n",
       "      <td>188</td>\n",
       "      <td>Seychelles</td>\n",
       "      <td>SEY</td>\n",
       "      <td>48.47</td>\n",
       "      <td>37</td>\n",
       "      <td>6</td>\n",
       "      <td>22.42</td>\n",
       "      <td>22.42</td>\n",
       "      <td>7.08</td>\n",
       "      <td>3.54</td>\n",
       "      <td>58.32</td>\n",
       "      <td>17.50</td>\n",
       "      <td>25.08</td>\n",
       "      <td>5.02</td>\n",
       "      <td>CAF</td>\n",
       "      <td>2018-06-07</td>\n",
       "    </tr>\n",
       "    <tr>\n",
       "      <th>57770</th>\n",
       "      <td>188</td>\n",
       "      <td>Aruba</td>\n",
       "      <td>ARU</td>\n",
       "      <td>48.45</td>\n",
       "      <td>75</td>\n",
       "      <td>-6</td>\n",
       "      <td>0.00</td>\n",
       "      <td>0.00</td>\n",
       "      <td>0.00</td>\n",
       "      <td>0.00</td>\n",
       "      <td>161.50</td>\n",
       "      <td>48.45</td>\n",
       "      <td>0.00</td>\n",
       "      <td>0.00</td>\n",
       "      <td>CONCACAF</td>\n",
       "      <td>2018-06-07</td>\n",
       "    </tr>\n",
       "    <tr>\n",
       "      <th>57771</th>\n",
       "      <td>190</td>\n",
       "      <td>Guam</td>\n",
       "      <td>GUM</td>\n",
       "      <td>44.96</td>\n",
       "      <td>45</td>\n",
       "      <td>-1</td>\n",
       "      <td>0.00</td>\n",
       "      <td>0.00</td>\n",
       "      <td>0.00</td>\n",
       "      <td>0.00</td>\n",
       "      <td>113.42</td>\n",
       "      <td>34.03</td>\n",
       "      <td>54.64</td>\n",
       "      <td>10.93</td>\n",
       "      <td>AFC</td>\n",
       "      <td>2018-06-07</td>\n",
       "    </tr>\n",
       "    <tr>\n",
       "      <th>57772</th>\n",
       "      <td>190</td>\n",
       "      <td>Timor-Leste</td>\n",
       "      <td>TLS</td>\n",
       "      <td>44.86</td>\n",
       "      <td>44</td>\n",
       "      <td>0</td>\n",
       "      <td>41.82</td>\n",
       "      <td>41.82</td>\n",
       "      <td>6.07</td>\n",
       "      <td>3.04</td>\n",
       "      <td>0.00</td>\n",
       "      <td>0.00</td>\n",
       "      <td>0.00</td>\n",
       "      <td>0.00</td>\n",
       "      <td>AFC</td>\n",
       "      <td>2018-06-07</td>\n",
       "    </tr>\n",
       "    <tr>\n",
       "      <th>57773</th>\n",
       "      <td>192</td>\n",
       "      <td>American Samoa</td>\n",
       "      <td>ASA</td>\n",
       "      <td>38.25</td>\n",
       "      <td>38</td>\n",
       "      <td>-1</td>\n",
       "      <td>0.00</td>\n",
       "      <td>0.00</td>\n",
       "      <td>0.00</td>\n",
       "      <td>0.00</td>\n",
       "      <td>127.50</td>\n",
       "      <td>38.25</td>\n",
       "      <td>0.00</td>\n",
       "      <td>0.00</td>\n",
       "      <td>OFC</td>\n",
       "      <td>2018-06-07</td>\n",
       "    </tr>\n",
       "    <tr>\n",
       "      <th>57774</th>\n",
       "      <td>192</td>\n",
       "      <td>Cook Islands</td>\n",
       "      <td>COK</td>\n",
       "      <td>38.25</td>\n",
       "      <td>38</td>\n",
       "      <td>-1</td>\n",
       "      <td>0.00</td>\n",
       "      <td>0.00</td>\n",
       "      <td>0.00</td>\n",
       "      <td>0.00</td>\n",
       "      <td>127.50</td>\n",
       "      <td>38.25</td>\n",
       "      <td>0.00</td>\n",
       "      <td>0.00</td>\n",
       "      <td>OFC</td>\n",
       "      <td>2018-06-07</td>\n",
       "    </tr>\n",
       "    <tr>\n",
       "      <th>57775</th>\n",
       "      <td>194</td>\n",
       "      <td>Bangladesh</td>\n",
       "      <td>BAN</td>\n",
       "      <td>34.76</td>\n",
       "      <td>33</td>\n",
       "      <td>3</td>\n",
       "      <td>0.00</td>\n",
       "      <td>0.00</td>\n",
       "      <td>21.25</td>\n",
       "      <td>10.63</td>\n",
       "      <td>35.13</td>\n",
       "      <td>10.54</td>\n",
       "      <td>68.00</td>\n",
       "      <td>13.60</td>\n",
       "      <td>AFC</td>\n",
       "      <td>2018-06-07</td>\n",
       "    </tr>\n",
       "    <tr>\n",
       "      <th>57776</th>\n",
       "      <td>195</td>\n",
       "      <td>Gibraltar</td>\n",
       "      <td>GIB</td>\n",
       "      <td>34.16</td>\n",
       "      <td>34</td>\n",
       "      <td>1</td>\n",
       "      <td>34.16</td>\n",
       "      <td>34.16</td>\n",
       "      <td>0.00</td>\n",
       "      <td>0.00</td>\n",
       "      <td>0.00</td>\n",
       "      <td>0.00</td>\n",
       "      <td>0.00</td>\n",
       "      <td>0.00</td>\n",
       "      <td>UEFA</td>\n",
       "      <td>2018-06-07</td>\n",
       "    </tr>\n",
       "    <tr>\n",
       "      <th>57777</th>\n",
       "      <td>195</td>\n",
       "      <td>Brunei Darussalam</td>\n",
       "      <td>BRU</td>\n",
       "      <td>34.00</td>\n",
       "      <td>36</td>\n",
       "      <td>0</td>\n",
       "      <td>0.00</td>\n",
       "      <td>0.00</td>\n",
       "      <td>42.50</td>\n",
       "      <td>21.25</td>\n",
       "      <td>0.00</td>\n",
       "      <td>0.00</td>\n",
       "      <td>63.75</td>\n",
       "      <td>12.75</td>\n",
       "      <td>AFC</td>\n",
       "      <td>2018-06-07</td>\n",
       "    </tr>\n",
       "    <tr>\n",
       "      <th>57778</th>\n",
       "      <td>197</td>\n",
       "      <td>Djibouti</td>\n",
       "      <td>DJI</td>\n",
       "      <td>31.88</td>\n",
       "      <td>27</td>\n",
       "      <td>1</td>\n",
       "      <td>0.00</td>\n",
       "      <td>0.00</td>\n",
       "      <td>63.75</td>\n",
       "      <td>31.88</td>\n",
       "      <td>0.00</td>\n",
       "      <td>0.00</td>\n",
       "      <td>0.00</td>\n",
       "      <td>0.00</td>\n",
       "      <td>CAF</td>\n",
       "      <td>2018-06-07</td>\n",
       "    </tr>\n",
       "    <tr>\n",
       "      <th>57779</th>\n",
       "      <td>197</td>\n",
       "      <td>Samoa</td>\n",
       "      <td>SAM</td>\n",
       "      <td>31.88</td>\n",
       "      <td>38</td>\n",
       "      <td>-6</td>\n",
       "      <td>0.00</td>\n",
       "      <td>0.00</td>\n",
       "      <td>0.00</td>\n",
       "      <td>0.00</td>\n",
       "      <td>106.25</td>\n",
       "      <td>31.88</td>\n",
       "      <td>0.00</td>\n",
       "      <td>0.00</td>\n",
       "      <td>OFC</td>\n",
       "      <td>2018-06-07</td>\n",
       "    </tr>\n",
       "    <tr>\n",
       "      <th>57780</th>\n",
       "      <td>199</td>\n",
       "      <td>US Virgin Islands</td>\n",
       "      <td>VIR</td>\n",
       "      <td>17.60</td>\n",
       "      <td>18</td>\n",
       "      <td>0</td>\n",
       "      <td>0.00</td>\n",
       "      <td>0.00</td>\n",
       "      <td>0.00</td>\n",
       "      <td>0.00</td>\n",
       "      <td>0.00</td>\n",
       "      <td>0.00</td>\n",
       "      <td>87.98</td>\n",
       "      <td>17.60</td>\n",
       "      <td>CONCACAF</td>\n",
       "      <td>2018-06-07</td>\n",
       "    </tr>\n",
       "    <tr>\n",
       "      <th>57781</th>\n",
       "      <td>200</td>\n",
       "      <td>Sri Lanka</td>\n",
       "      <td>SRI</td>\n",
       "      <td>16.76</td>\n",
       "      <td>17</td>\n",
       "      <td>0</td>\n",
       "      <td>0.00</td>\n",
       "      <td>0.00</td>\n",
       "      <td>8.50</td>\n",
       "      <td>4.25</td>\n",
       "      <td>25.50</td>\n",
       "      <td>7.65</td>\n",
       "      <td>24.29</td>\n",
       "      <td>4.86</td>\n",
       "      <td>AFC</td>\n",
       "      <td>2018-06-07</td>\n",
       "    </tr>\n",
       "    <tr>\n",
       "      <th>57782</th>\n",
       "      <td>201</td>\n",
       "      <td>Pakistan</td>\n",
       "      <td>PAK</td>\n",
       "      <td>10.17</td>\n",
       "      <td>10</td>\n",
       "      <td>2</td>\n",
       "      <td>0.00</td>\n",
       "      <td>0.00</td>\n",
       "      <td>0.00</td>\n",
       "      <td>0.00</td>\n",
       "      <td>0.00</td>\n",
       "      <td>0.00</td>\n",
       "      <td>50.83</td>\n",
       "      <td>10.17</td>\n",
       "      <td>AFC</td>\n",
       "      <td>2018-06-07</td>\n",
       "    </tr>\n",
       "    <tr>\n",
       "      <th>57783</th>\n",
       "      <td>202</td>\n",
       "      <td>Cayman Islands</td>\n",
       "      <td>CAY</td>\n",
       "      <td>8.50</td>\n",
       "      <td>9</td>\n",
       "      <td>2</td>\n",
       "      <td>0.00</td>\n",
       "      <td>0.00</td>\n",
       "      <td>0.00</td>\n",
       "      <td>0.00</td>\n",
       "      <td>0.00</td>\n",
       "      <td>0.00</td>\n",
       "      <td>42.50</td>\n",
       "      <td>8.50</td>\n",
       "      <td>CONCACAF</td>\n",
       "      <td>2018-06-07</td>\n",
       "    </tr>\n",
       "    <tr>\n",
       "      <th>57784</th>\n",
       "      <td>203</td>\n",
       "      <td>San Marino</td>\n",
       "      <td>SMR</td>\n",
       "      <td>7.92</td>\n",
       "      <td>8</td>\n",
       "      <td>2</td>\n",
       "      <td>0.00</td>\n",
       "      <td>0.00</td>\n",
       "      <td>0.00</td>\n",
       "      <td>0.00</td>\n",
       "      <td>0.00</td>\n",
       "      <td>0.00</td>\n",
       "      <td>39.60</td>\n",
       "      <td>7.92</td>\n",
       "      <td>UEFA</td>\n",
       "      <td>2018-06-07</td>\n",
       "    </tr>\n",
       "    <tr>\n",
       "      <th>57785</th>\n",
       "      <td>204</td>\n",
       "      <td>British Virgin Islands</td>\n",
       "      <td>VGB</td>\n",
       "      <td>4.25</td>\n",
       "      <td>4</td>\n",
       "      <td>2</td>\n",
       "      <td>0.00</td>\n",
       "      <td>0.00</td>\n",
       "      <td>0.00</td>\n",
       "      <td>0.00</td>\n",
       "      <td>0.00</td>\n",
       "      <td>0.00</td>\n",
       "      <td>21.25</td>\n",
       "      <td>4.25</td>\n",
       "      <td>CONCACAF</td>\n",
       "      <td>2018-06-07</td>\n",
       "    </tr>\n",
       "    <tr>\n",
       "      <th>57786</th>\n",
       "      <td>204</td>\n",
       "      <td>Montserrat</td>\n",
       "      <td>MSR</td>\n",
       "      <td>4.25</td>\n",
       "      <td>17</td>\n",
       "      <td>-4</td>\n",
       "      <td>0.00</td>\n",
       "      <td>0.00</td>\n",
       "      <td>0.00</td>\n",
       "      <td>0.00</td>\n",
       "      <td>0.00</td>\n",
       "      <td>0.00</td>\n",
       "      <td>21.25</td>\n",
       "      <td>4.25</td>\n",
       "      <td>CONCACAF</td>\n",
       "      <td>2018-06-07</td>\n",
       "    </tr>\n",
       "    <tr>\n",
       "      <th>57787</th>\n",
       "      <td>206</td>\n",
       "      <td>Turks and Caicos Islands</td>\n",
       "      <td>TCA</td>\n",
       "      <td>0.00</td>\n",
       "      <td>13</td>\n",
       "      <td>-4</td>\n",
       "      <td>0.00</td>\n",
       "      <td>0.00</td>\n",
       "      <td>0.00</td>\n",
       "      <td>0.00</td>\n",
       "      <td>0.00</td>\n",
       "      <td>0.00</td>\n",
       "      <td>0.00</td>\n",
       "      <td>0.00</td>\n",
       "      <td>CONCACAF</td>\n",
       "      <td>2018-06-07</td>\n",
       "    </tr>\n",
       "    <tr>\n",
       "      <th>57788</th>\n",
       "      <td>206</td>\n",
       "      <td>Anguilla</td>\n",
       "      <td>AIA</td>\n",
       "      <td>0.00</td>\n",
       "      <td>0</td>\n",
       "      <td>1</td>\n",
       "      <td>0.00</td>\n",
       "      <td>0.00</td>\n",
       "      <td>0.00</td>\n",
       "      <td>0.00</td>\n",
       "      <td>0.00</td>\n",
       "      <td>0.00</td>\n",
       "      <td>0.00</td>\n",
       "      <td>0.00</td>\n",
       "      <td>CONCACAF</td>\n",
       "      <td>2018-06-07</td>\n",
       "    </tr>\n",
       "    <tr>\n",
       "      <th>57789</th>\n",
       "      <td>206</td>\n",
       "      <td>Bahamas</td>\n",
       "      <td>BAH</td>\n",
       "      <td>0.00</td>\n",
       "      <td>0</td>\n",
       "      <td>1</td>\n",
       "      <td>0.00</td>\n",
       "      <td>0.00</td>\n",
       "      <td>0.00</td>\n",
       "      <td>0.00</td>\n",
       "      <td>0.00</td>\n",
       "      <td>0.00</td>\n",
       "      <td>0.00</td>\n",
       "      <td>0.00</td>\n",
       "      <td>CONCACAF</td>\n",
       "      <td>2018-06-07</td>\n",
       "    </tr>\n",
       "    <tr>\n",
       "      <th>57790</th>\n",
       "      <td>206</td>\n",
       "      <td>Eritrea</td>\n",
       "      <td>ERI</td>\n",
       "      <td>0.00</td>\n",
       "      <td>0</td>\n",
       "      <td>1</td>\n",
       "      <td>0.00</td>\n",
       "      <td>0.00</td>\n",
       "      <td>0.00</td>\n",
       "      <td>0.00</td>\n",
       "      <td>0.00</td>\n",
       "      <td>0.00</td>\n",
       "      <td>0.00</td>\n",
       "      <td>0.00</td>\n",
       "      <td>CAF</td>\n",
       "      <td>2018-06-07</td>\n",
       "    </tr>\n",
       "    <tr>\n",
       "      <th>57791</th>\n",
       "      <td>206</td>\n",
       "      <td>Somalia</td>\n",
       "      <td>SOM</td>\n",
       "      <td>0.00</td>\n",
       "      <td>0</td>\n",
       "      <td>1</td>\n",
       "      <td>0.00</td>\n",
       "      <td>0.00</td>\n",
       "      <td>0.00</td>\n",
       "      <td>0.00</td>\n",
       "      <td>0.00</td>\n",
       "      <td>0.00</td>\n",
       "      <td>0.00</td>\n",
       "      <td>0.00</td>\n",
       "      <td>CAF</td>\n",
       "      <td>2018-06-07</td>\n",
       "    </tr>\n",
       "    <tr>\n",
       "      <th>57792</th>\n",
       "      <td>206</td>\n",
       "      <td>Tonga</td>\n",
       "      <td>TGA</td>\n",
       "      <td>0.00</td>\n",
       "      <td>0</td>\n",
       "      <td>1</td>\n",
       "      <td>0.00</td>\n",
       "      <td>0.00</td>\n",
       "      <td>0.00</td>\n",
       "      <td>0.00</td>\n",
       "      <td>0.00</td>\n",
       "      <td>0.00</td>\n",
       "      <td>0.00</td>\n",
       "      <td>0.00</td>\n",
       "      <td>OFC</td>\n",
       "      <td>2018-06-07</td>\n",
       "    </tr>\n",
       "  </tbody>\n",
       "</table>\n",
       "<p>57793 rows × 16 columns</p>\n",
       "</div>"
      ],
      "text/plain": [
       "       rank              country_full country_abrv  total_points  \\\n",
       "0         1                   Germany          GER          0.00   \n",
       "1         2                     Italy          ITA          0.00   \n",
       "2         3               Switzerland          SUI          0.00   \n",
       "3         4                    Sweden          SWE          0.00   \n",
       "4         5                 Argentina          ARG          0.00   \n",
       "5         6       Republic of Ireland          IRL          0.00   \n",
       "6         7                    Russia          RUS          0.00   \n",
       "7         8                    Brazil          BRA          0.00   \n",
       "8         9                    Norway          NOR          0.00   \n",
       "9        10                   Denmark          DEN          0.00   \n",
       "10       11                   England          ENG          0.00   \n",
       "11       12                    France          FRA          0.00   \n",
       "12       13                     Spain          ESP          0.00   \n",
       "13       14                    Mexico          MEX          0.00   \n",
       "14       15                       RCS          TCH          0.00   \n",
       "15       16               Netherlands          NED          0.00   \n",
       "16       17                   Nigeria          NGA          0.00   \n",
       "17       18                   Belgium          BEL          0.00   \n",
       "18       19                  Colombia          COL          0.00   \n",
       "19       20                    Poland          POL          0.00   \n",
       "20       21                   Romania          ROU          0.00   \n",
       "21       22                   Uruguay          URU          0.00   \n",
       "22       23                  Portugal          POR          0.00   \n",
       "23       24                  Cameroon          CMR          0.00   \n",
       "24       25                    Zambia          ZAM          0.00   \n",
       "25       26                     Egypt          EGY          0.00   \n",
       "26       27                     Wales          WAL          0.00   \n",
       "27       28                       USA          USA          0.00   \n",
       "28       29             Côte d'Ivoire          CIV          0.00   \n",
       "29       30                  Scotland          SCO          0.00   \n",
       "...     ...                       ...          ...           ...   \n",
       "57763   182                    Guyana          GUY         73.41   \n",
       "57764   183                    Bhutan          BHU         68.00   \n",
       "57765   184                     Malta          MLT         65.11   \n",
       "57766   185                     Macau          MAC         60.11   \n",
       "57767   186                  Mongolia          MNG         51.00   \n",
       "57768   186       São Tomé e Príncipe          STP         50.54   \n",
       "57769   188                Seychelles          SEY         48.47   \n",
       "57770   188                     Aruba          ARU         48.45   \n",
       "57771   190                      Guam          GUM         44.96   \n",
       "57772   190               Timor-Leste          TLS         44.86   \n",
       "57773   192            American Samoa          ASA         38.25   \n",
       "57774   192              Cook Islands          COK         38.25   \n",
       "57775   194                Bangladesh          BAN         34.76   \n",
       "57776   195                 Gibraltar          GIB         34.16   \n",
       "57777   195         Brunei Darussalam          BRU         34.00   \n",
       "57778   197                  Djibouti          DJI         31.88   \n",
       "57779   197                     Samoa          SAM         31.88   \n",
       "57780   199         US Virgin Islands          VIR         17.60   \n",
       "57781   200                 Sri Lanka          SRI         16.76   \n",
       "57782   201                  Pakistan          PAK         10.17   \n",
       "57783   202            Cayman Islands          CAY          8.50   \n",
       "57784   203                San Marino          SMR          7.92   \n",
       "57785   204    British Virgin Islands          VGB          4.25   \n",
       "57786   204                Montserrat          MSR          4.25   \n",
       "57787   206  Turks and Caicos Islands          TCA          0.00   \n",
       "57788   206                  Anguilla          AIA          0.00   \n",
       "57789   206                   Bahamas          BAH          0.00   \n",
       "57790   206                   Eritrea          ERI          0.00   \n",
       "57791   206                   Somalia          SOM          0.00   \n",
       "57792   206                     Tonga          TGA          0.00   \n",
       "\n",
       "       previous_points  rank_change  cur_year_avg  cur_year_avg_weighted  \\\n",
       "0                   57            0          0.00                   0.00   \n",
       "1                   57            0          0.00                   0.00   \n",
       "2                   50            9          0.00                   0.00   \n",
       "3                   55            0          0.00                   0.00   \n",
       "4                   51            5          0.00                   0.00   \n",
       "5                   54            0          0.00                   0.00   \n",
       "6                   52            1          0.00                   0.00   \n",
       "7                   55           -5          0.00                   0.00   \n",
       "8                   49            5          0.00                   0.00   \n",
       "9                   51           -1          0.00                   0.00   \n",
       "10                  55           -6          0.00                   0.00   \n",
       "11                  45            7          0.00                   0.00   \n",
       "12                  49            2          0.00                   0.00   \n",
       "13                  42           11          0.00                   0.00   \n",
       "14                  47            3          0.00                   0.00   \n",
       "15                  53           -9          0.00                   0.00   \n",
       "16                  49           -4          0.00                   0.00   \n",
       "17                  47           -1          0.00                   0.00   \n",
       "18                  36           16          0.00                   0.00   \n",
       "19                  45            0          0.00                   0.00   \n",
       "20                  51          -10          0.00                   0.00   \n",
       "21                  47           -6          0.00                   0.00   \n",
       "22                  38           10          0.00                   0.00   \n",
       "23                  43           -2          0.00                   0.00   \n",
       "24                  38            7          0.00                   0.00   \n",
       "25                  44           -5          0.00                   0.00   \n",
       "26                  40            1          0.00                   0.00   \n",
       "27                  43           -4          0.00                   0.00   \n",
       "28                  41           -2          0.00                   0.00   \n",
       "29                  43           -7          0.00                   0.00   \n",
       "...                ...          ...           ...                    ...   \n",
       "57763              111          -18          0.00                   0.00   \n",
       "57764               68            1          0.00                   0.00   \n",
       "57765               62            1         29.90                  29.90   \n",
       "57766               60            1         18.21                  18.21   \n",
       "57767               51            2          8.50                   8.50   \n",
       "57768               59            1          0.00                   0.00   \n",
       "57769               37            6         22.42                  22.42   \n",
       "57770               75           -6          0.00                   0.00   \n",
       "57771               45           -1          0.00                   0.00   \n",
       "57772               44            0         41.82                  41.82   \n",
       "57773               38           -1          0.00                   0.00   \n",
       "57774               38           -1          0.00                   0.00   \n",
       "57775               33            3          0.00                   0.00   \n",
       "57776               34            1         34.16                  34.16   \n",
       "57777               36            0          0.00                   0.00   \n",
       "57778               27            1          0.00                   0.00   \n",
       "57779               38           -6          0.00                   0.00   \n",
       "57780               18            0          0.00                   0.00   \n",
       "57781               17            0          0.00                   0.00   \n",
       "57782               10            2          0.00                   0.00   \n",
       "57783                9            2          0.00                   0.00   \n",
       "57784                8            2          0.00                   0.00   \n",
       "57785                4            2          0.00                   0.00   \n",
       "57786               17           -4          0.00                   0.00   \n",
       "57787               13           -4          0.00                   0.00   \n",
       "57788                0            1          0.00                   0.00   \n",
       "57789                0            1          0.00                   0.00   \n",
       "57790                0            1          0.00                   0.00   \n",
       "57791                0            1          0.00                   0.00   \n",
       "57792                0            1          0.00                   0.00   \n",
       "\n",
       "       last_year_avg  last_year_avg_weighted  two_year_ago_avg  \\\n",
       "0               0.00                    0.00              0.00   \n",
       "1               0.00                    0.00              0.00   \n",
       "2               0.00                    0.00              0.00   \n",
       "3               0.00                    0.00              0.00   \n",
       "4               0.00                    0.00              0.00   \n",
       "5               0.00                    0.00              0.00   \n",
       "6               0.00                    0.00              0.00   \n",
       "7               0.00                    0.00              0.00   \n",
       "8               0.00                    0.00              0.00   \n",
       "9               0.00                    0.00              0.00   \n",
       "10              0.00                    0.00              0.00   \n",
       "11              0.00                    0.00              0.00   \n",
       "12              0.00                    0.00              0.00   \n",
       "13              0.00                    0.00              0.00   \n",
       "14              0.00                    0.00              0.00   \n",
       "15              0.00                    0.00              0.00   \n",
       "16              0.00                    0.00              0.00   \n",
       "17              0.00                    0.00              0.00   \n",
       "18              0.00                    0.00              0.00   \n",
       "19              0.00                    0.00              0.00   \n",
       "20              0.00                    0.00              0.00   \n",
       "21              0.00                    0.00              0.00   \n",
       "22              0.00                    0.00              0.00   \n",
       "23              0.00                    0.00              0.00   \n",
       "24              0.00                    0.00              0.00   \n",
       "25              0.00                    0.00              0.00   \n",
       "26              0.00                    0.00              0.00   \n",
       "27              0.00                    0.00              0.00   \n",
       "28              0.00                    0.00              0.00   \n",
       "29              0.00                    0.00              0.00   \n",
       "...              ...                     ...               ...   \n",
       "57763           0.00                    0.00            208.25   \n",
       "57764          85.00                   42.50              0.00   \n",
       "57765          11.74                    5.87             64.57   \n",
       "57766          53.13                   26.56              8.50   \n",
       "57767          34.00                   17.00              0.00   \n",
       "57768           0.00                    0.00            168.48   \n",
       "57769           7.08                    3.54             58.32   \n",
       "57770           0.00                    0.00            161.50   \n",
       "57771           0.00                    0.00            113.42   \n",
       "57772           6.07                    3.04              0.00   \n",
       "57773           0.00                    0.00            127.50   \n",
       "57774           0.00                    0.00            127.50   \n",
       "57775          21.25                   10.63             35.13   \n",
       "57776           0.00                    0.00              0.00   \n",
       "57777          42.50                   21.25              0.00   \n",
       "57778          63.75                   31.88              0.00   \n",
       "57779           0.00                    0.00            106.25   \n",
       "57780           0.00                    0.00              0.00   \n",
       "57781           8.50                    4.25             25.50   \n",
       "57782           0.00                    0.00              0.00   \n",
       "57783           0.00                    0.00              0.00   \n",
       "57784           0.00                    0.00              0.00   \n",
       "57785           0.00                    0.00              0.00   \n",
       "57786           0.00                    0.00              0.00   \n",
       "57787           0.00                    0.00              0.00   \n",
       "57788           0.00                    0.00              0.00   \n",
       "57789           0.00                    0.00              0.00   \n",
       "57790           0.00                    0.00              0.00   \n",
       "57791           0.00                    0.00              0.00   \n",
       "57792           0.00                    0.00              0.00   \n",
       "\n",
       "       two_year_ago_weighted  three_year_ago_avg  three_year_ago_weighted  \\\n",
       "0                       0.00                0.00                     0.00   \n",
       "1                       0.00                0.00                     0.00   \n",
       "2                       0.00                0.00                     0.00   \n",
       "3                       0.00                0.00                     0.00   \n",
       "4                       0.00                0.00                     0.00   \n",
       "5                       0.00                0.00                     0.00   \n",
       "6                       0.00                0.00                     0.00   \n",
       "7                       0.00                0.00                     0.00   \n",
       "8                       0.00                0.00                     0.00   \n",
       "9                       0.00                0.00                     0.00   \n",
       "10                      0.00                0.00                     0.00   \n",
       "11                      0.00                0.00                     0.00   \n",
       "12                      0.00                0.00                     0.00   \n",
       "13                      0.00                0.00                     0.00   \n",
       "14                      0.00                0.00                     0.00   \n",
       "15                      0.00                0.00                     0.00   \n",
       "16                      0.00                0.00                     0.00   \n",
       "17                      0.00                0.00                     0.00   \n",
       "18                      0.00                0.00                     0.00   \n",
       "19                      0.00                0.00                     0.00   \n",
       "20                      0.00                0.00                     0.00   \n",
       "21                      0.00                0.00                     0.00   \n",
       "22                      0.00                0.00                     0.00   \n",
       "23                      0.00                0.00                     0.00   \n",
       "24                      0.00                0.00                     0.00   \n",
       "25                      0.00                0.00                     0.00   \n",
       "26                      0.00                0.00                     0.00   \n",
       "27                      0.00                0.00                     0.00   \n",
       "28                      0.00                0.00                     0.00   \n",
       "29                      0.00                0.00                     0.00   \n",
       "...                      ...                 ...                      ...   \n",
       "57763                  62.48               54.68                    10.94   \n",
       "57764                   0.00              127.50                    25.50   \n",
       "57765                  19.37               49.85                     9.97   \n",
       "57766                   2.55               63.92                    12.78   \n",
       "57767                   0.00              127.50                    25.50   \n",
       "57768                  50.54                0.00                     0.00   \n",
       "57769                  17.50               25.08                     5.02   \n",
       "57770                  48.45                0.00                     0.00   \n",
       "57771                  34.03               54.64                    10.93   \n",
       "57772                   0.00                0.00                     0.00   \n",
       "57773                  38.25                0.00                     0.00   \n",
       "57774                  38.25                0.00                     0.00   \n",
       "57775                  10.54               68.00                    13.60   \n",
       "57776                   0.00                0.00                     0.00   \n",
       "57777                   0.00               63.75                    12.75   \n",
       "57778                   0.00                0.00                     0.00   \n",
       "57779                  31.88                0.00                     0.00   \n",
       "57780                   0.00               87.98                    17.60   \n",
       "57781                   7.65               24.29                     4.86   \n",
       "57782                   0.00               50.83                    10.17   \n",
       "57783                   0.00               42.50                     8.50   \n",
       "57784                   0.00               39.60                     7.92   \n",
       "57785                   0.00               21.25                     4.25   \n",
       "57786                   0.00               21.25                     4.25   \n",
       "57787                   0.00                0.00                     0.00   \n",
       "57788                   0.00                0.00                     0.00   \n",
       "57789                   0.00                0.00                     0.00   \n",
       "57790                   0.00                0.00                     0.00   \n",
       "57791                   0.00                0.00                     0.00   \n",
       "57792                   0.00                0.00                     0.00   \n",
       "\n",
       "      confederation   rank_date  \n",
       "0              UEFA  1993-08-08  \n",
       "1              UEFA  1993-08-08  \n",
       "2              UEFA  1993-08-08  \n",
       "3              UEFA  1993-08-08  \n",
       "4          CONMEBOL  1993-08-08  \n",
       "5              UEFA  1993-08-08  \n",
       "6              UEFA  1993-08-08  \n",
       "7          CONMEBOL  1993-08-08  \n",
       "8              UEFA  1993-08-08  \n",
       "9              UEFA  1993-08-08  \n",
       "10             UEFA  1993-08-08  \n",
       "11             UEFA  1993-08-08  \n",
       "12             UEFA  1993-08-08  \n",
       "13         CONCACAF  1993-08-08  \n",
       "14             UEFA  1993-08-08  \n",
       "15             UEFA  1993-08-08  \n",
       "16              CAF  1993-08-08  \n",
       "17             UEFA  1993-08-08  \n",
       "18         CONMEBOL  1993-08-08  \n",
       "19             UEFA  1993-08-08  \n",
       "20             UEFA  1993-08-08  \n",
       "21         CONMEBOL  1993-08-08  \n",
       "22             UEFA  1993-08-08  \n",
       "23              CAF  1993-08-08  \n",
       "24              CAF  1993-08-08  \n",
       "25              CAF  1993-08-08  \n",
       "26             UEFA  1993-08-08  \n",
       "27         CONCACAF  1993-08-08  \n",
       "28              CAF  1993-08-08  \n",
       "29             UEFA  1993-08-08  \n",
       "...             ...         ...  \n",
       "57763      CONCACAF  2018-06-07  \n",
       "57764           AFC  2018-06-07  \n",
       "57765          UEFA  2018-06-07  \n",
       "57766           AFC  2018-06-07  \n",
       "57767           AFC  2018-06-07  \n",
       "57768           CAF  2018-06-07  \n",
       "57769           CAF  2018-06-07  \n",
       "57770      CONCACAF  2018-06-07  \n",
       "57771           AFC  2018-06-07  \n",
       "57772           AFC  2018-06-07  \n",
       "57773           OFC  2018-06-07  \n",
       "57774           OFC  2018-06-07  \n",
       "57775           AFC  2018-06-07  \n",
       "57776          UEFA  2018-06-07  \n",
       "57777           AFC  2018-06-07  \n",
       "57778           CAF  2018-06-07  \n",
       "57779           OFC  2018-06-07  \n",
       "57780      CONCACAF  2018-06-07  \n",
       "57781           AFC  2018-06-07  \n",
       "57782           AFC  2018-06-07  \n",
       "57783      CONCACAF  2018-06-07  \n",
       "57784          UEFA  2018-06-07  \n",
       "57785      CONCACAF  2018-06-07  \n",
       "57786      CONCACAF  2018-06-07  \n",
       "57787      CONCACAF  2018-06-07  \n",
       "57788      CONCACAF  2018-06-07  \n",
       "57789      CONCACAF  2018-06-07  \n",
       "57790           CAF  2018-06-07  \n",
       "57791           CAF  2018-06-07  \n",
       "57792           OFC  2018-06-07  \n",
       "\n",
       "[57793 rows x 16 columns]"
      ]
     },
     "execution_count": 1,
     "metadata": {},
     "output_type": "execute_result"
    }
   ],
   "source": [
    "import pandas as pd\n",
    "\n",
    "ranking_fifa = pd.read_csv(\"Data/fifa_ranking.csv\")\n",
    "print(ranking_fifa.shape)\n",
    "ranking_fifa"
   ]
  },
  {
   "cell_type": "markdown",
   "metadata": {},
   "source": [
    "Tab. 1. Ranking da Fifa. Tem informação aí desde 1993, melhor que muito dado público que se vê por aí. "
   ]
  },
  {
   "cell_type": "markdown",
   "metadata": {},
   "source": [
    "O segundo é uma mistura de dados históricos sobre as seleções da copa atual e informações sobre os jogos da primeira fase:"
   ]
  },
  {
   "cell_type": "code",
   "execution_count": 2,
   "metadata": {},
   "outputs": [
    {
     "name": "stdout",
     "output_type": "stream",
     "text": [
      "(33, 20)\n"
     ]
    },
    {
     "data": {
      "text/html": [
       "<div>\n",
       "<style>\n",
       "    .dataframe thead tr:only-child th {\n",
       "        text-align: right;\n",
       "    }\n",
       "\n",
       "    .dataframe thead th {\n",
       "        text-align: left;\n",
       "    }\n",
       "\n",
       "    .dataframe tbody tr th {\n",
       "        vertical-align: top;\n",
       "    }\n",
       "</style>\n",
       "<table border=\"1\" class=\"dataframe\">\n",
       "  <thead>\n",
       "    <tr style=\"text-align: right;\">\n",
       "      <th></th>\n",
       "      <th>Team</th>\n",
       "      <th>Group</th>\n",
       "      <th>Previous \n",
       "appearances</th>\n",
       "      <th>Previous \n",
       "titles</th>\n",
       "      <th>Previous\n",
       " finals</th>\n",
       "      <th>Previous\n",
       " semifinals</th>\n",
       "      <th>Current \n",
       "FIFA rank</th>\n",
       "      <th>First match \n",
       "against</th>\n",
       "      <th>Match index</th>\n",
       "      <th>history with \n",
       "first opponent\n",
       " W-L</th>\n",
       "      <th>history with\n",
       " first opponent\n",
       " goals</th>\n",
       "      <th>Second match\n",
       " against</th>\n",
       "      <th>Match index.1</th>\n",
       "      <th>history with\n",
       " second opponent\n",
       " W-L</th>\n",
       "      <th>history with\n",
       " second opponent\n",
       " goals</th>\n",
       "      <th>Third match\n",
       " against</th>\n",
       "      <th>Match index.2</th>\n",
       "      <th>history with\n",
       " third opponent\n",
       " W-L</th>\n",
       "      <th>history with\n",
       " third opponent\n",
       " goals</th>\n",
       "      <th>Unnamed: 19</th>\n",
       "    </tr>\n",
       "  </thead>\n",
       "  <tbody>\n",
       "    <tr>\n",
       "      <th>0</th>\n",
       "      <td>Russia</td>\n",
       "      <td>A</td>\n",
       "      <td>10.0</td>\n",
       "      <td>0.0</td>\n",
       "      <td>0.0</td>\n",
       "      <td>1.0</td>\n",
       "      <td>65.0</td>\n",
       "      <td>Saudi Arabia</td>\n",
       "      <td>1.0</td>\n",
       "      <td>-1.0</td>\n",
       "      <td>-2.0</td>\n",
       "      <td>Egypt</td>\n",
       "      <td>17.0</td>\n",
       "      <td>NaN</td>\n",
       "      <td>NaN</td>\n",
       "      <td>Uruguay</td>\n",
       "      <td>33.0</td>\n",
       "      <td>0.0</td>\n",
       "      <td>0.0</td>\n",
       "      <td>NaN</td>\n",
       "    </tr>\n",
       "    <tr>\n",
       "      <th>1</th>\n",
       "      <td>Saudi Arabia</td>\n",
       "      <td>A</td>\n",
       "      <td>4.0</td>\n",
       "      <td>0.0</td>\n",
       "      <td>0.0</td>\n",
       "      <td>0.0</td>\n",
       "      <td>63.0</td>\n",
       "      <td>Russia</td>\n",
       "      <td>1.0</td>\n",
       "      <td>1.0</td>\n",
       "      <td>2.0</td>\n",
       "      <td>Uruguay</td>\n",
       "      <td>18.0</td>\n",
       "      <td>1.0</td>\n",
       "      <td>1.0</td>\n",
       "      <td>Egypt</td>\n",
       "      <td>34.0</td>\n",
       "      <td>-5.0</td>\n",
       "      <td>-5.0</td>\n",
       "      <td>NaN</td>\n",
       "    </tr>\n",
       "    <tr>\n",
       "      <th>2</th>\n",
       "      <td>Egypt</td>\n",
       "      <td>A</td>\n",
       "      <td>2.0</td>\n",
       "      <td>0.0</td>\n",
       "      <td>0.0</td>\n",
       "      <td>0.0</td>\n",
       "      <td>31.0</td>\n",
       "      <td>Uruguay</td>\n",
       "      <td>2.0</td>\n",
       "      <td>-1.0</td>\n",
       "      <td>-2.0</td>\n",
       "      <td>Russia</td>\n",
       "      <td>17.0</td>\n",
       "      <td>NaN</td>\n",
       "      <td>NaN</td>\n",
       "      <td>Saudi Arabia</td>\n",
       "      <td>34.0</td>\n",
       "      <td>5.0</td>\n",
       "      <td>5.0</td>\n",
       "      <td>NaN</td>\n",
       "    </tr>\n",
       "    <tr>\n",
       "      <th>3</th>\n",
       "      <td>Uruguay</td>\n",
       "      <td>A</td>\n",
       "      <td>12.0</td>\n",
       "      <td>2.0</td>\n",
       "      <td>2.0</td>\n",
       "      <td>5.0</td>\n",
       "      <td>21.0</td>\n",
       "      <td>Egypt</td>\n",
       "      <td>2.0</td>\n",
       "      <td>1.0</td>\n",
       "      <td>2.0</td>\n",
       "      <td>Saudi Arabia</td>\n",
       "      <td>18.0</td>\n",
       "      <td>-1.0</td>\n",
       "      <td>-1.0</td>\n",
       "      <td>Russia</td>\n",
       "      <td>33.0</td>\n",
       "      <td>0.0</td>\n",
       "      <td>0.0</td>\n",
       "      <td>NaN</td>\n",
       "    </tr>\n",
       "    <tr>\n",
       "      <th>4</th>\n",
       "      <td>Porugal</td>\n",
       "      <td>B</td>\n",
       "      <td>6.0</td>\n",
       "      <td>0.0</td>\n",
       "      <td>0.0</td>\n",
       "      <td>2.0</td>\n",
       "      <td>3.0</td>\n",
       "      <td>Spain</td>\n",
       "      <td>3.0</td>\n",
       "      <td>-12.0</td>\n",
       "      <td>-31.0</td>\n",
       "      <td>Morocco</td>\n",
       "      <td>19.0</td>\n",
       "      <td>-1.0</td>\n",
       "      <td>-2.0</td>\n",
       "      <td>Iran</td>\n",
       "      <td>35.0</td>\n",
       "      <td>2.0</td>\n",
       "      <td>5.0</td>\n",
       "      <td>NaN</td>\n",
       "    </tr>\n",
       "  </tbody>\n",
       "</table>\n",
       "</div>"
      ],
      "text/plain": [
       "           Team Group  Previous \\nappearances  Previous \\ntitles  \\\n",
       "0        Russia     A                    10.0                0.0   \n",
       "1  Saudi Arabia     A                     4.0                0.0   \n",
       "2         Egypt     A                     2.0                0.0   \n",
       "3       Uruguay     A                    12.0                2.0   \n",
       "4       Porugal     B                     6.0                0.0   \n",
       "\n",
       "   Previous\\n finals  Previous\\n semifinals  Current \\nFIFA rank  \\\n",
       "0                0.0                    1.0                 65.0   \n",
       "1                0.0                    0.0                 63.0   \n",
       "2                0.0                    0.0                 31.0   \n",
       "3                2.0                    5.0                 21.0   \n",
       "4                0.0                    2.0                  3.0   \n",
       "\n",
       "  First match \\nagainst  Match index  history with \\nfirst opponent\\n W-L  \\\n",
       "0          Saudi Arabia          1.0                                 -1.0   \n",
       "1                Russia          1.0                                  1.0   \n",
       "2               Uruguay          2.0                                 -1.0   \n",
       "3                 Egypt          2.0                                  1.0   \n",
       "4                 Spain          3.0                                -12.0   \n",
       "\n",
       "   history with\\n first opponent\\n goals Second match\\n against  \\\n",
       "0                                   -2.0                  Egypt   \n",
       "1                                    2.0                Uruguay   \n",
       "2                                   -2.0                 Russia   \n",
       "3                                    2.0           Saudi Arabia   \n",
       "4                                  -31.0                Morocco   \n",
       "\n",
       "   Match index.1  history with\\n second opponent\\n W-L  \\\n",
       "0           17.0                                   NaN   \n",
       "1           18.0                                   1.0   \n",
       "2           17.0                                   NaN   \n",
       "3           18.0                                  -1.0   \n",
       "4           19.0                                  -1.0   \n",
       "\n",
       "   history with\\n second opponent\\n goals Third match\\n against  \\\n",
       "0                                     NaN               Uruguay   \n",
       "1                                     1.0                 Egypt   \n",
       "2                                     NaN          Saudi Arabia   \n",
       "3                                    -1.0                Russia   \n",
       "4                                    -2.0                  Iran   \n",
       "\n",
       "   Match index.2  history with\\n third opponent\\n W-L  \\\n",
       "0           33.0                                  0.0   \n",
       "1           34.0                                 -5.0   \n",
       "2           34.0                                  5.0   \n",
       "3           33.0                                  0.0   \n",
       "4           35.0                                  2.0   \n",
       "\n",
       "   history with\\n third opponent\\n goals  Unnamed: 19  \n",
       "0                                    0.0          NaN  \n",
       "1                                   -5.0          NaN  \n",
       "2                                    5.0          NaN  \n",
       "3                                    0.0          NaN  \n",
       "4                                    5.0          NaN  "
      ]
     },
     "execution_count": 2,
     "metadata": {},
     "output_type": "execute_result"
    }
   ],
   "source": [
    "world_cup = pd.read_csv(\"Data/World Cup 2018 Dataset.csv\")\n",
    "print(world_cup.shape)\n",
    "world_cup.head(5)"
   ]
  },
  {
   "cell_type": "markdown",
   "metadata": {},
   "source": [
    "Tab. 2: Resumo sobre as seleções da copa. Mas que excelente ideia colocar informações passadas e futuras na mesma tabela."
   ]
  },
  {
   "cell_type": "markdown",
   "metadata": {},
   "source": [
    "Por último, e mais importante, um resumo do resultado de todos os jogos entre seleções da história"
   ]
  },
  {
   "cell_type": "code",
   "execution_count": 3,
   "metadata": {},
   "outputs": [
    {
     "name": "stdout",
     "output_type": "stream",
     "text": [
      "(39045, 9)\n"
     ]
    },
    {
     "data": {
      "text/html": [
       "<div>\n",
       "<style>\n",
       "    .dataframe thead tr:only-child th {\n",
       "        text-align: right;\n",
       "    }\n",
       "\n",
       "    .dataframe thead th {\n",
       "        text-align: left;\n",
       "    }\n",
       "\n",
       "    .dataframe tbody tr th {\n",
       "        vertical-align: top;\n",
       "    }\n",
       "</style>\n",
       "<table border=\"1\" class=\"dataframe\">\n",
       "  <thead>\n",
       "    <tr style=\"text-align: right;\">\n",
       "      <th></th>\n",
       "      <th>date</th>\n",
       "      <th>home_team</th>\n",
       "      <th>away_team</th>\n",
       "      <th>home_score</th>\n",
       "      <th>away_score</th>\n",
       "      <th>tournament</th>\n",
       "      <th>city</th>\n",
       "      <th>country</th>\n",
       "      <th>neutral</th>\n",
       "    </tr>\n",
       "  </thead>\n",
       "  <tbody>\n",
       "    <tr>\n",
       "      <th>0</th>\n",
       "      <td>1872-11-30</td>\n",
       "      <td>Scotland</td>\n",
       "      <td>England</td>\n",
       "      <td>0</td>\n",
       "      <td>0</td>\n",
       "      <td>Friendly</td>\n",
       "      <td>Glasgow</td>\n",
       "      <td>Scotland</td>\n",
       "      <td>False</td>\n",
       "    </tr>\n",
       "    <tr>\n",
       "      <th>1</th>\n",
       "      <td>1873-03-08</td>\n",
       "      <td>England</td>\n",
       "      <td>Scotland</td>\n",
       "      <td>4</td>\n",
       "      <td>2</td>\n",
       "      <td>Friendly</td>\n",
       "      <td>London</td>\n",
       "      <td>England</td>\n",
       "      <td>False</td>\n",
       "    </tr>\n",
       "    <tr>\n",
       "      <th>2</th>\n",
       "      <td>1874-03-07</td>\n",
       "      <td>Scotland</td>\n",
       "      <td>England</td>\n",
       "      <td>2</td>\n",
       "      <td>1</td>\n",
       "      <td>Friendly</td>\n",
       "      <td>Glasgow</td>\n",
       "      <td>Scotland</td>\n",
       "      <td>False</td>\n",
       "    </tr>\n",
       "    <tr>\n",
       "      <th>3</th>\n",
       "      <td>1875-03-06</td>\n",
       "      <td>England</td>\n",
       "      <td>Scotland</td>\n",
       "      <td>2</td>\n",
       "      <td>2</td>\n",
       "      <td>Friendly</td>\n",
       "      <td>London</td>\n",
       "      <td>England</td>\n",
       "      <td>False</td>\n",
       "    </tr>\n",
       "    <tr>\n",
       "      <th>4</th>\n",
       "      <td>1876-03-04</td>\n",
       "      <td>Scotland</td>\n",
       "      <td>England</td>\n",
       "      <td>3</td>\n",
       "      <td>0</td>\n",
       "      <td>Friendly</td>\n",
       "      <td>Glasgow</td>\n",
       "      <td>Scotland</td>\n",
       "      <td>False</td>\n",
       "    </tr>\n",
       "  </tbody>\n",
       "</table>\n",
       "</div>"
      ],
      "text/plain": [
       "         date home_team away_team  home_score  away_score tournament     city  \\\n",
       "0  1872-11-30  Scotland   England           0           0   Friendly  Glasgow   \n",
       "1  1873-03-08   England  Scotland           4           2   Friendly   London   \n",
       "2  1874-03-07  Scotland   England           2           1   Friendly  Glasgow   \n",
       "3  1875-03-06   England  Scotland           2           2   Friendly   London   \n",
       "4  1876-03-04  Scotland   England           3           0   Friendly  Glasgow   \n",
       "\n",
       "    country  neutral  \n",
       "0  Scotland    False  \n",
       "1   England    False  \n",
       "2  Scotland    False  \n",
       "3   England    False  \n",
       "4  Scotland    False  "
      ]
     },
     "execution_count": 3,
     "metadata": {},
     "output_type": "execute_result"
    }
   ],
   "source": [
    "game_result = pd.read_csv(\"Data/results.csv\")\n",
    "print(game_result.shape)\n",
    "game_result.head(5)"
   ]
  },
  {
   "cell_type": "markdown",
   "metadata": {},
   "source": [
    "Tab. 3. Todos os jogos da história. Nessa tabela o Palmeiras também não tem mundial."
   ]
  },
  {
   "cell_type": "markdown",
   "metadata": {},
   "source": [
    "Nossos dados contém dois tipos de informação. As tabelas ranking_fifa e world_cup contém dados sobre o perfil da seleção, enquanto a tabela game_result contém uma espécie de linha do tempo de uma seleção. Essa distinção será muito importante para um Digital Twin, já que o queremos prever é uma continuação dessa linha do tempo."
   ]
  },
  {
   "cell_type": "markdown",
   "metadata": {},
   "source": [
    "# 2. Digital Twin do Brasil\n",
    "\n",
    "Vamos filtrar os dados para considerar somente os jogos do Brasil no histórico. Vou desconsiderar informações de mandante de campo porque é difícil considerar isso em uma copa do mundo."
   ]
  },
  {
   "cell_type": "code",
   "execution_count": 4,
   "metadata": {},
   "outputs": [
    {
     "name": "stdout",
     "output_type": "stream",
     "text": [
      "(548, 9)\n",
      "(403, 9)\n",
      "(951, 6)\n"
     ]
    },
    {
     "data": {
      "text/html": [
       "<div>\n",
       "<style>\n",
       "    .dataframe thead tr:only-child th {\n",
       "        text-align: right;\n",
       "    }\n",
       "\n",
       "    .dataframe thead th {\n",
       "        text-align: left;\n",
       "    }\n",
       "\n",
       "    .dataframe tbody tr th {\n",
       "        vertical-align: top;\n",
       "    }\n",
       "</style>\n",
       "<table border=\"1\" class=\"dataframe\">\n",
       "  <thead>\n",
       "    <tr style=\"text-align: right;\">\n",
       "      <th></th>\n",
       "      <th>date</th>\n",
       "      <th>team1</th>\n",
       "      <th>team1_score</th>\n",
       "      <th>team2</th>\n",
       "      <th>team2_score</th>\n",
       "      <th>AAAA-MM</th>\n",
       "    </tr>\n",
       "  </thead>\n",
       "  <tbody>\n",
       "    <tr>\n",
       "      <th>398</th>\n",
       "      <td>1914-09-20</td>\n",
       "      <td>Brazil</td>\n",
       "      <td>0</td>\n",
       "      <td>Argentina</td>\n",
       "      <td>3</td>\n",
       "      <td>1914-09</td>\n",
       "    </tr>\n",
       "    <tr>\n",
       "      <th>399</th>\n",
       "      <td>1914-09-27</td>\n",
       "      <td>Brazil</td>\n",
       "      <td>1</td>\n",
       "      <td>Argentina</td>\n",
       "      <td>0</td>\n",
       "      <td>1914-09</td>\n",
       "    </tr>\n",
       "    <tr>\n",
       "      <th>424</th>\n",
       "      <td>1916-07-10</td>\n",
       "      <td>Brazil</td>\n",
       "      <td>1</td>\n",
       "      <td>Argentina</td>\n",
       "      <td>1</td>\n",
       "      <td>1916-07</td>\n",
       "    </tr>\n",
       "    <tr>\n",
       "      <th>429</th>\n",
       "      <td>1916-07-18</td>\n",
       "      <td>Brazil</td>\n",
       "      <td>1</td>\n",
       "      <td>Uruguay</td>\n",
       "      <td>0</td>\n",
       "      <td>1916-07</td>\n",
       "    </tr>\n",
       "    <tr>\n",
       "      <th>454</th>\n",
       "      <td>1917-10-03</td>\n",
       "      <td>Brazil</td>\n",
       "      <td>2</td>\n",
       "      <td>Argentina</td>\n",
       "      <td>4</td>\n",
       "      <td>1917-10</td>\n",
       "    </tr>\n",
       "  </tbody>\n",
       "</table>\n",
       "</div>"
      ],
      "text/plain": [
       "           date   team1  team1_score      team2  team2_score  AAAA-MM\n",
       "398  1914-09-20  Brazil            0  Argentina            3  1914-09\n",
       "399  1914-09-27  Brazil            1  Argentina            0  1914-09\n",
       "424  1916-07-10  Brazil            1  Argentina            1  1916-07\n",
       "429  1916-07-18  Brazil            1    Uruguay            0  1916-07\n",
       "454  1917-10-03  Brazil            2  Argentina            4  1917-10"
      ]
     },
     "execution_count": 4,
     "metadata": {},
     "output_type": "execute_result"
    }
   ],
   "source": [
    "game_result_brasil_home = game_result[game_result['home_team'] == 'Brazil']\n",
    "print(game_result_brasil_home.shape)\n",
    "\n",
    "game_result_brasil_away = game_result[game_result['away_team'] == 'Brazil']\n",
    "print(game_result_brasil_away.shape)\n",
    "\n",
    "def vconcat_home_away_results(away_df,home_df):    \n",
    "    \n",
    "    results = pd.concat([away_df.rename(columns={'home_team' : 'team2','away_team':'team1',\n",
    "                    'home_score': 'team2_score','away_score':'team1_score'}),\\\n",
    "                         home_df.rename(columns={'home_team' : 'team1','away_team':'team2',\n",
    "                    'home_score': 'team1_score','away_score':'team2_score'})])\n",
    "    \n",
    "    results['AAAA-MM'] = results['date'].str[:7]\n",
    "    \n",
    "    return results.drop(['tournament','city','country','neutral'],axis=1)\n",
    "\n",
    "game_results_brasil = vconcat_home_away_results(game_result_brasil_away,game_result_brasil_home)\n",
    "print(game_results_brasil.shape)\n",
    "game_results_brasil.head(5)"
   ]
  },
  {
   "cell_type": "code",
   "execution_count": 5,
   "metadata": {},
   "outputs": [
    {
     "data": {
      "text/plain": [
       "<matplotlib.text.Text at 0x7efca475f2b0>"
      ]
     },
     "execution_count": 5,
     "metadata": {},
     "output_type": "execute_result"
    },
    {
     "data": {
      "image/png": "[encoded data removed]",
      "text/plain": [
       "<matplotlib.figure.Figure at 0x7efcac4fe8d0>"
      ]
     },
     "metadata": {},
     "output_type": "display_data"
    }
   ],
   "source": [
    "%matplotlib inline\n",
    "import seaborn as sns\n",
    "\n",
    "sns.set(rc={'figure.figsize':(15.7,4)})\n",
    "sns.set_style(\"whitegrid\")\n",
    "\n",
    "ax = sns.boxplot(y=game_results_brasil['team1_score'], \n",
    "                 x=game_results_brasil['AAAA-MM'].str[:3])\n",
    "ax.set_xlabel('Décadas')\n",
    "ax.set_ylabel('Gols')"
   ]
  },
  {
   "cell_type": "markdown",
   "metadata": {},
   "source": [
    "Tab. 4. Gols do Brasil ao longo das décadas. As coisas foram animadas mesmo nos anos 40."
   ]
  },
  {
   "cell_type": "markdown",
   "metadata": {},
   "source": [
    "Preciso de informações do ranking do Brasil (team1) e do adversário (team2) no momento do jogo. Essas são as informações de \"perfil\" dos nossos times, enquanto os jogos representam a linha do tempo da seleção.\n",
    "\n",
    "Filtrar com a tabela de rankings da Fifa também ajuda a manter somente informações de jogos mais recentes."
   ]
  },
  {
   "cell_type": "code",
   "execution_count": 6,
   "metadata": {},
   "outputs": [
    {
     "data": {
      "text/plain": [
       "(342, 36)"
      ]
     },
     "execution_count": 6,
     "metadata": {},
     "output_type": "execute_result"
    }
   ],
   "source": [
    "ranking_fifa['AAAA-MM'] = ranking_fifa['rank_date'].str[:7]\n",
    "\n",
    "game_results_rkteam1 = pd.merge(game_results_brasil, ranking_fifa.drop('country_abrv',axis=1),\n",
    "                        left_on=['team1','AAAA-MM'],\n",
    "                        right_on = ['country_full','AAAA-MM'],\n",
    "                        how='inner',\n",
    "                       )\n",
    "\n",
    "game_results_rk_brasil = pd.merge(game_results_rkteam1, ranking_fifa.drop('country_abrv',axis=1),\n",
    "                        left_on=['team2','AAAA-MM'],\n",
    "                        right_on = ['country_full','AAAA-MM'],\n",
    "                        how='inner',\n",
    "                        suffixes=('','_team2')\n",
    "                       )\n",
    "\n",
    "game_results_rk_brasil.shape"
   ]
  },
  {
   "cell_type": "code",
   "execution_count": 7,
   "metadata": {},
   "outputs": [
    {
     "data": {
      "image/png": "[encoded data removed]",
      "text/plain": [
       "<matplotlib.figure.Figure at 0x7efcb8c36d68>"
      ]
     },
     "metadata": {},
     "output_type": "display_data"
    }
   ],
   "source": [
    "ax = sns.boxplot(y=game_results_rk_brasil['team1_score'], \n",
    "                 x=game_results_rk_brasil['AAAA-MM'].str[:4])"
   ]
  },
  {
   "cell_type": "markdown",
   "metadata": {},
   "source": [
    "Com a tabela game_results_rk_brasil podemos começar a modelar. Aqui team1 representa o Brasil e team2 o adversário. Como temos poucos jogos, vamos tentar prever somente se houve vitória, derrota ou empate do Brasil."
   ]
  },
  {
   "cell_type": "code",
   "execution_count": 16,
   "metadata": {},
   "outputs": [
    {
     "data": {
      "text/html": [
       "<div>\n",
       "<style>\n",
       "    .dataframe thead tr:only-child th {\n",
       "        text-align: right;\n",
       "    }\n",
       "\n",
       "    .dataframe thead th {\n",
       "        text-align: left;\n",
       "    }\n",
       "\n",
       "    .dataframe tbody tr th {\n",
       "        vertical-align: top;\n",
       "    }\n",
       "</style>\n",
       "<table border=\"1\" class=\"dataframe\">\n",
       "  <thead>\n",
       "    <tr style=\"text-align: right;\">\n",
       "      <th></th>\n",
       "      <th>team1_score</th>\n",
       "      <th>team2_score</th>\n",
       "      <th>TARGET</th>\n",
       "    </tr>\n",
       "  </thead>\n",
       "  <tbody>\n",
       "    <tr>\n",
       "      <th>0</th>\n",
       "      <td>5</td>\n",
       "      <td>1</td>\n",
       "      <td>WIN</td>\n",
       "    </tr>\n",
       "    <tr>\n",
       "      <th>1</th>\n",
       "      <td>1</td>\n",
       "      <td>1</td>\n",
       "      <td>DRW</td>\n",
       "    </tr>\n",
       "    <tr>\n",
       "      <th>2</th>\n",
       "      <td>1</td>\n",
       "      <td>1</td>\n",
       "      <td>DRW</td>\n",
       "    </tr>\n",
       "    <tr>\n",
       "      <th>3</th>\n",
       "      <td>2</td>\n",
       "      <td>0</td>\n",
       "      <td>WIN</td>\n",
       "    </tr>\n",
       "    <tr>\n",
       "      <th>4</th>\n",
       "      <td>6</td>\n",
       "      <td>0</td>\n",
       "      <td>WIN</td>\n",
       "    </tr>\n",
       "  </tbody>\n",
       "</table>\n",
       "</div>"
      ],
      "text/plain": [
       "   team1_score  team2_score TARGET\n",
       "0            5            1    WIN\n",
       "1            1            1    DRW\n",
       "2            1            1    DRW\n",
       "3            2            0    WIN\n",
       "4            6            0    WIN"
      ]
     },
     "execution_count": 16,
     "metadata": {},
     "output_type": "execute_result"
    }
   ],
   "source": [
    "def construct_target(df,team1_score_feature,team2_score_feature):    \n",
    "    return df.apply(lambda row : 'WIN' if row[team1_score_feature] > row[team2_score_feature]\n",
    "                                       else 'LOS' if row[team2_score_feature] > row[team1_score_feature]\n",
    "                                       else 'DRW',axis=1)\n",
    "\n",
    "game_results_rk_brasil['TARGET'] = construct_target(game_results_rk_brasil,'team1_score','team2_score')\n",
    "game_results_rk_brasil[['team1_score','team2_score','TARGET']].head(5)"
   ]
  },
  {
   "cell_type": "code",
   "execution_count": 9,
   "metadata": {},
   "outputs": [
    {
     "data": {
      "text/plain": [
       "TARGET\n",
       "DRW     70\n",
       "LOS     48\n",
       "WIN    224\n",
       "Name: date, dtype: int64"
      ]
     },
     "execution_count": 9,
     "metadata": {},
     "output_type": "execute_result"
    }
   ],
   "source": [
    "game_results_rk_brasil.groupby(by='TARGET').count()['date']"
   ]
  },
  {
   "cell_type": "markdown",
   "metadata": {},
   "source": [
    "Essas são as colunas úteis para modelarmos:"
   ]
  },
  {
   "cell_type": "code",
   "execution_count": 10,
   "metadata": {
    "collapsed": true
   },
   "outputs": [],
   "source": [
    "variables = ['rank', 'total_points', 'previous_points', 'rank_change', 'cur_year_avg', 'cur_year_avg_weighted', 'last_year_avg',\n",
    "'last_year_avg_weighted', 'two_year_ago_avg', 'two_year_ago_weighted', 'three_year_ago_avg', 'three_year_ago_weighted'] +\\\n",
    "['rank_team2', 'total_points_team2', 'previous_points_team2', 'rank_change_team2', 'cur_year_avg_team2',\n",
    "'cur_year_avg_weighted_team2', 'last_year_avg_team2','last_year_avg_weighted_team2', 'two_year_ago_avg_team2','two_year_ago_weighted_team2', 'three_year_ago_avg_team2',\n",
    "'three_year_ago_weighted_team2']\n"
   ]
  },
  {
   "cell_type": "markdown",
   "metadata": {},
   "source": [
    "Como o futebol é uma caixinha de surpresas, vou separar 20% da amostra para teste, enquanto o restante vou escolher os principais parâmetros por grid-search-cross-validation de 3-folds:"
   ]
  },
  {
   "cell_type": "code",
   "execution_count": 11,
   "metadata": {},
   "outputs": [
    {
     "name": "stdout",
     "output_type": "stream",
     "text": [
      "(273, 24)\n",
      "(69, 24)\n",
      "(273,)\n",
      "(69,)\n"
     ]
    }
   ],
   "source": [
    "from sklearn.model_selection import train_test_split\n",
    "\n",
    "X_train, X_test,y_train,y_test = train_test_split(game_results_rk_brasil[variables], game_results_rk_brasil['TARGET'],\n",
    "                                                  test_size=0.2)\n",
    "\n",
    "print(X_train.shape)\n",
    "print(X_test.shape)\n",
    "print(y_train.shape)\n",
    "print(y_test.shape)"
   ]
  },
  {
   "cell_type": "markdown",
   "metadata": {},
   "source": [
    "Vamos testar agora alguns classificadores:"
   ]
  },
  {
   "cell_type": "code",
   "execution_count": 136,
   "metadata": {
    "collapsed": true
   },
   "outputs": [],
   "source": [
    "brasil_clf_df = pd.DataFrame(columns=['classifier','estimator','train_acc','test_acc'])"
   ]
  },
  {
   "cell_type": "markdown",
   "metadata": {},
   "source": [
    "## Decision Trees"
   ]
  },
  {
   "cell_type": "code",
   "execution_count": 22,
   "metadata": {},
   "outputs": [
    {
     "name": "stdout",
     "output_type": "stream",
     "text": [
      "Fitting 3 folds for each of 19602 candidates, totalling 58806 fits\n"
     ]
    },
    {
     "name": "stderr",
     "output_type": "stream",
     "text": [
      "[Parallel(n_jobs=-1)]: Done  18 tasks      | elapsed:    0.2s\n",
      "[Parallel(n_jobs=-1)]: Done 4656 tasks      | elapsed:    1.8s\n",
      "[Parallel(n_jobs=-1)]: Done 13156 tasks      | elapsed:    4.2s\n",
      "[Parallel(n_jobs=-1)]: Done 25056 tasks      | elapsed:    7.6s\n",
      "[Parallel(n_jobs=-1)]: Done 40356 tasks      | elapsed:   12.1s\n",
      "[Parallel(n_jobs=-1)]: Done 58806 out of 58806 | elapsed:   17.6s finished\n"
     ]
    },
    {
     "data": {
      "text/plain": [
       "GridSearchCV(cv=3, error_score='raise',\n",
       "       estimator=DecisionTreeClassifier(class_weight=None, criterion='gini', max_depth=None,\n",
       "            max_features=None, max_leaf_nodes=None,\n",
       "            min_impurity_decrease=0.0, min_impurity_split=None,\n",
       "            min_samples_leaf=1, min_samples_split=2,\n",
       "            min_weight_fraction_leaf=0.0, presort=False, random_state=None,\n",
       "            splitter='best'),\n",
       "       fit_params=None, iid=True, n_jobs=-1,\n",
       "       param_grid={'min_samples_leaf': [1, 2, 3, 4, 5, 6, 7, 8, 9, 10, 11, 12, 13, 14, 15, 16, 17, 18, 19, 20, 21, 22, 23, 24, 25, 26, 27, 28, 29, 30, 31, 32, 33, 34, 35, 36, 37, 38, 39, 40, 41, 42, 43, 44, 45, 46, 47, 48, 49, 50, 51, 52, 53, 54, 55, 56, 57, 58, 59, 60, 61, 62, 63, 64, 65, 66, 67, 68, 69, ..., 86, 87, 88, 89, 90, 91, 92, 93, 94, 95, 96, 97, 98, 99, None], 'class_weight': [None, 'balanced']},\n",
       "       pre_dispatch='2*n_jobs', refit=True, return_train_score='warn',\n",
       "       scoring=None, verbose=True)"
      ]
     },
     "execution_count": 22,
     "metadata": {},
     "output_type": "execute_result"
    }
   ],
   "source": [
    "from sklearn.model_selection import GridSearchCV\n",
    "from sklearn.tree import DecisionTreeClassifier \n",
    "\n",
    "\n",
    "dtc_candidates = {\n",
    "    'min_samples_leaf' : list(range(1,100)),\n",
    "    'max_depth' : list(range(2,100)) + [None],\n",
    "    'class_weight' : [None,'balanced']\n",
    "}\n",
    "\n",
    "clf = GridSearchCV(estimator=DecisionTreeClassifier(), param_grid=dtc_candidates, n_jobs=-1, cv= 3, verbose = True)\n",
    "\n",
    "cv = clf.fit(X_train,y_train)"
   ]
  },
  {
   "cell_type": "code",
   "execution_count": 23,
   "metadata": {},
   "outputs": [
    {
     "name": "stdout",
     "output_type": "stream",
     "text": [
      "Best score for dt: 0.6703296703296703\n",
      "Best min_samples_leaf: 30\n",
      "Best max_depth: 2\n",
      "Best class_weight: None\n"
     ]
    }
   ],
   "source": [
    "print('Best score for dt:', clf.best_score_) \n",
    "print('Best min_samples_leaf:',clf.best_estimator_.min_samples_leaf) \n",
    "print('Best max_depth:',clf.best_estimator_.max_depth)\n",
    "print('Best class_weight:',clf.best_estimator_.class_weight)"
   ]
  },
  {
   "cell_type": "code",
   "execution_count": 87,
   "metadata": {},
   "outputs": [
    {
     "data": {
      "text/plain": [
       "0.5507246376811594"
      ]
     },
     "execution_count": 87,
     "metadata": {},
     "output_type": "execute_result"
    }
   ],
   "source": [
    "from sklearn.metrics import accuracy_score\n",
    "\n",
    "y_pred = clf.best_estimator_.predict(X_test)\n",
    "\n",
    "test_acc_clf = accuracy_score(y_test,y_pred)\n",
    "test_acc_clf"
   ]
  },
  {
   "cell_type": "code",
   "execution_count": 137,
   "metadata": {},
   "outputs": [
    {
     "data": {
      "text/html": [
       "<div>\n",
       "<style scoped>\n",
       "    .dataframe tbody tr th:only-of-type {\n",
       "        vertical-align: middle;\n",
       "    }\n",
       "\n",
       "    .dataframe tbody tr th {\n",
       "        vertical-align: top;\n",
       "    }\n",
       "\n",
       "    .dataframe thead th {\n",
       "        text-align: right;\n",
       "    }\n",
       "</style>\n",
       "<table border=\"1\" class=\"dataframe\">\n",
       "  <thead>\n",
       "    <tr style=\"text-align: right;\">\n",
       "      <th></th>\n",
       "      <th>classifier</th>\n",
       "      <th>estimator</th>\n",
       "      <th>train_acc</th>\n",
       "      <th>test_acc</th>\n",
       "    </tr>\n",
       "  </thead>\n",
       "  <tbody>\n",
       "    <tr>\n",
       "      <th>0</th>\n",
       "      <td>dt</td>\n",
       "      <td>DecisionTreeClassifier(class_weight=None, crit...</td>\n",
       "      <td>0.67033</td>\n",
       "      <td>0.550725</td>\n",
       "    </tr>\n",
       "  </tbody>\n",
       "</table>\n",
       "</div>"
      ],
      "text/plain": [
       "  classifier                                          estimator  train_acc  \\\n",
       "0         dt  DecisionTreeClassifier(class_weight=None, crit...    0.67033   \n",
       "\n",
       "   test_acc  \n",
       "0  0.550725  "
      ]
     },
     "execution_count": 137,
     "metadata": {},
     "output_type": "execute_result"
    }
   ],
   "source": [
    "brasil_clf_df = brasil_clf_df.append({'classifier' : 'dt',\n",
    "                                      'estimator':clf.best_estimator_, \n",
    "                                      'train_acc' : clf.best_score_,\n",
    "                                      'test_acc' : test_acc_clf}, ignore_index=True)\n",
    "brasil_clf_df.head(5)"
   ]
  },
  {
   "cell_type": "markdown",
   "metadata": {},
   "source": [
    "## Support Vector Machine, as multi-classifier"
   ]
  },
  {
   "cell_type": "code",
   "execution_count": 59,
   "metadata": {},
   "outputs": [
    {
     "name": "stdout",
     "output_type": "stream",
     "text": [
      "Fitting 3 folds for each of 1999 candidates, totalling 5997 fits\n"
     ]
    },
    {
     "name": "stderr",
     "output_type": "stream",
     "text": [
      "[Parallel(n_jobs=-1)]: Done  18 tasks      | elapsed:    0.2s\n",
      "[Parallel(n_jobs=-1)]: Done 2208 tasks      | elapsed:    2.7s\n",
      "[Parallel(n_jobs=-1)]: Done 5997 out of 5997 | elapsed:    6.5s finished\n"
     ]
    },
    {
     "data": {
      "text/plain": [
       "GridSearchCV(cv=3, error_score='raise',\n",
       "       estimator=SVC(C=1.0, cache_size=200, class_weight=None, coef0=0.0,\n",
       "  decision_function_shape='ovr', degree=3, gamma='auto', kernel='rbf',\n",
       "  max_iter=-1, probability=False, random_state=None, shrinking=True,\n",
       "  tol=0.001, verbose=False),\n",
       "       fit_params=None, iid=True, n_jobs=-1,\n",
       "       param_grid={'C': [0.001, 0.002, 0.003, 0.004, 0.005, 0.006, 0.007, 0.008, 0.009, 0.01, 0.011, 0.012, 0.013, 0.014, 0.015, 0.016, 0.017, 0.018, 0.019, 0.02, 0.021, 0.022, 0.023, 0.024, 0.025, 0.026, 0.027, 0.028, 0.029, 0.03, 0.031, 0.032, 0.033, 0.034, 0.035, 0.036, 0.037, 0.038, 0.039, 0.04, 0.041,...5, 1.986, 1.987, 1.988, 1.989, 1.99, 1.991, 1.992, 1.993, 1.994, 1.995, 1.996, 1.997, 1.998, 1.999]},\n",
       "       pre_dispatch='2*n_jobs', refit=True, return_train_score='warn',\n",
       "       scoring=None, verbose=True)"
      ]
     },
     "execution_count": 59,
     "metadata": {},
     "output_type": "execute_result"
    }
   ],
   "source": [
    "from sklearn.svm import SVC\n",
    "\n",
    "svc_candidates = {\n",
    "    'C' : [i/1000.0 for i in range(1,2000,1)],\n",
    "}\n",
    "\n",
    "svcclf = GridSearchCV(estimator=SVC(), param_grid=svc_candidates, n_jobs=-1, cv= 3, verbose = True)\n",
    "\n",
    "cv = svcclf.fit(X_train,y_train)"
   ]
  },
  {
   "cell_type": "code",
   "execution_count": 60,
   "metadata": {},
   "outputs": [
    {
     "name": "stdout",
     "output_type": "stream",
     "text": [
      "Best score for svcclf: 0.673992673992674\n",
      "Best C: 0.93\n",
      "Best kernel: rbf\n",
      "Best class_weight: None\n"
     ]
    }
   ],
   "source": [
    "print('Best score for svcclf:', svcclf.best_score_) \n",
    "print('Best C:',svcclf.best_estimator_.C) \n",
    "print('Best kernel:',svcclf.best_estimator_.kernel)\n",
    "print('Best class_weight:',svcclf.best_estimator_.class_weight)"
   ]
  },
  {
   "cell_type": "code",
   "execution_count": 89,
   "metadata": {},
   "outputs": [
    {
     "data": {
      "text/plain": [
       "0.5942028985507246"
      ]
     },
     "execution_count": 89,
     "metadata": {},
     "output_type": "execute_result"
    }
   ],
   "source": [
    "y_pred = svcclf.best_estimator_.predict(X_test)\n",
    "\n",
    "test_acc_svcclf = accuracy_score(y_test,y_pred)\n",
    "test_acc_svcclf"
   ]
  },
  {
   "cell_type": "code",
   "execution_count": 138,
   "metadata": {
    "collapsed": true
   },
   "outputs": [],
   "source": [
    "brasil_clf_df = brasil_clf_df.append({'classifier' : 'svm',\n",
    "                                      'estimator':svcclf.best_estimator_, \n",
    "                                      'train_acc' : svcclf.best_score_,\n",
    "                                      'test_acc' : test_acc_svcclf}, ignore_index=True)"
   ]
  },
  {
   "cell_type": "markdown",
   "metadata": {},
   "source": [
    "## Logistic Regression, One vs Rest"
   ]
  },
  {
   "cell_type": "code",
   "execution_count": 40,
   "metadata": {},
   "outputs": [
    {
     "name": "stdout",
     "output_type": "stream",
     "text": [
      "Fitting 3 folds for each of 840 candidates, totalling 2520 fits\n"
     ]
    },
    {
     "name": "stderr",
     "output_type": "stream",
     "text": [
      "[Parallel(n_jobs=-1)]: Done  18 tasks      | elapsed:    0.1s\n",
      "[Parallel(n_jobs=-1)]: Done 2520 out of 2520 | elapsed:    2.1s finished\n"
     ]
    },
    {
     "data": {
      "text/plain": [
       "GridSearchCV(cv=3, error_score='raise',\n",
       "       estimator=LogisticRegression(C=1.0, class_weight=None, dual=False, fit_intercept=True,\n",
       "          intercept_scaling=1, max_iter=100, multi_class='ovr', n_jobs=1,\n",
       "          penalty='l2', random_state=None, solver='liblinear', tol=0.0001,\n",
       "          verbose=0, warm_start=False),\n",
       "       fit_params=None, iid=True, n_jobs=-1,\n",
       "       param_grid={'penalty': ['l1', 'l2'], 'C': [90.0, 90.1, 90.2, 90.3, 90.4, 90.5, 90.6, 90.7, 90.8, 90.9, 91.0, 91.1, 91.2, 91.3, 91.4, 91.5, 91.6, 91.7, 91.8, 91.9, 92.0, 92.1, 92.2, 92.3, 92.4, 92.5, 92.6, 92.7, 92.8, 92.9, 93.0, 93.1, 93.2, 93.3, 93.4, 93.5, 93.6, 93.7, 93.8, 93.9, 94.0, 94.1, 94.2,... 110.1, 110.2, 110.3, 110.4, 110.5, 110.6, 110.7, 110.8, 110.9], 'class_weight': [None, 'balanced']},\n",
       "       pre_dispatch='2*n_jobs', refit=True, return_train_score='warn',\n",
       "       scoring=None, verbose=True)"
      ]
     },
     "execution_count": 40,
     "metadata": {},
     "output_type": "execute_result"
    }
   ],
   "source": [
    "from sklearn.linear_model import LogisticRegression\n",
    "\n",
    "lr_candidates = {\n",
    "    'penalty' : ['l1','l2'],\n",
    "    'C' : [x/10.0 for x in range(900,1110,1)],\n",
    "    'class_weight' : [None,'balanced'],\n",
    "    'multiclass' : ['ovr', 'multinomial']\n",
    "}\n",
    "\n",
    "lrclf = GridSearchCV(estimator=LogisticRegression(), param_grid=lr_candidates, n_jobs=-1, cv= 3, verbose = True)\n",
    "\n",
    "cv = lrclf.fit(X_train,y_train)"
   ]
  },
  {
   "cell_type": "code",
   "execution_count": 41,
   "metadata": {},
   "outputs": [
    {
     "name": "stdout",
     "output_type": "stream",
     "text": [
      "Best score for lrclf: 0.673992673992674\n",
      "Best C: 90.4\n",
      "Best penalty: l2\n",
      "Best class_weight: None\n"
     ]
    }
   ],
   "source": [
    "print('Best score for lrclf:', lrclf.best_score_) \n",
    "print('Best C:',lrclf.best_estimator_.C) \n",
    "print('Best penalty:',lrclf.best_estimator_.penalty)\n",
    "print('Best class_weight:',lrclf.best_estimator_.class_weight)\n",
    "print('Best multiclass:',lrclf.best_estimator_.multiclass)"
   ]
  },
  {
   "cell_type": "code",
   "execution_count": 91,
   "metadata": {},
   "outputs": [
    {
     "data": {
      "text/plain": [
       "0.4782608695652174"
      ]
     },
     "execution_count": 91,
     "metadata": {},
     "output_type": "execute_result"
    }
   ],
   "source": [
    "y_pred = lrclf.best_estimator_.predict(X_test)\n",
    "\n",
    "test_acc_lrclf = accuracy_score(y_test,y_pred)\n",
    "test_acc_lrclf"
   ]
  },
  {
   "cell_type": "code",
   "execution_count": 139,
   "metadata": {
    "collapsed": true
   },
   "outputs": [],
   "source": [
    "brasil_clf_df = brasil_clf_df.append({'classifier' : 'lr',\n",
    "                                      'estimator':lrclf.best_estimator_, \n",
    "                                      'train_acc' : lrclf.best_score_,\n",
    "                                      'test_acc' : test_acc_lrclf}, ignore_index=True)"
   ]
  },
  {
   "cell_type": "markdown",
   "metadata": {},
   "source": [
    "## Random Forest"
   ]
  },
  {
   "cell_type": "code",
   "execution_count": 34,
   "metadata": {},
   "outputs": [
    {
     "name": "stdout",
     "output_type": "stream",
     "text": [
      "Fitting 3 folds for each of 1782 candidates, totalling 5346 fits\n"
     ]
    },
    {
     "name": "stderr",
     "output_type": "stream",
     "text": [
      "[Parallel(n_jobs=-1)]: Done  18 tasks      | elapsed:    0.2s\n",
      "[Parallel(n_jobs=-1)]: Done 1392 tasks      | elapsed:    6.9s\n",
      "[Parallel(n_jobs=-1)]: Done 3892 tasks      | elapsed:   18.6s\n",
      "[Parallel(n_jobs=-1)]: Done 5346 out of 5346 | elapsed:   25.1s finished\n"
     ]
    },
    {
     "data": {
      "text/plain": [
       "GridSearchCV(cv=3, error_score='raise',\n",
       "       estimator=RandomForestClassifier(bootstrap=True, class_weight=None, criterion='gini',\n",
       "            max_depth=None, max_features='auto', max_leaf_nodes=None,\n",
       "            min_impurity_decrease=0.0, min_impurity_split=None,\n",
       "            min_samples_leaf=1, min_samples_split=2,\n",
       "            min_weight_fraction_leaf=0.0, n_estimators=10, n_jobs=1,\n",
       "            oob_score=False, random_state=None, verbose=0,\n",
       "            warm_start=False),\n",
       "       fit_params=None, iid=True, n_jobs=-1,\n",
       "       param_grid={'min_samples_leaf': [1, 2, 3, 4, 5, 6, 7, 8, 9, 10, 11, 12, 13, 14, 15, 16, 17, 18, 19, 20, 21, 22, 23, 24, 25, 26, 27, 28, 29, 30, 31, 32, 33, 34, 35, 36, 37, 38, 39, 40, 41, 42, 43, 44, 45, 46, 47, 48, 49, 50, 51, 52, 53, 54, 55, 56, 57, 58, 59, 60, 61, 62, 63, 64, 65, 66, 67, 68, 69, ...': [None], 'class_weight': [None, 'balanced'], 'n_estimators': [10, 20, 30, 40, 50, 60, 70, 80, 90]},\n",
       "       pre_dispatch='2*n_jobs', refit=True, return_train_score='warn',\n",
       "       scoring=None, verbose=True)"
      ]
     },
     "execution_count": 34,
     "metadata": {},
     "output_type": "execute_result"
    }
   ],
   "source": [
    "from sklearn.ensemble import RandomForestClassifier\n",
    "\n",
    "rf_candidates = {\n",
    "    'min_samples_leaf' : list(range(1,100)),\n",
    "    'max_depth' : [None],\n",
    "    'class_weight' : [None,'balanced'],\n",
    "    'n_estimators' : list(range(10,100,10))\n",
    "}\n",
    "\n",
    "rfclf = GridSearchCV(estimator=RandomForestClassifier(), param_grid=rf_candidates, n_jobs=-1, cv= 3, verbose = True)\n",
    "\n",
    "cv = rfclf.fit(X_train,y_train)"
   ]
  },
  {
   "cell_type": "code",
   "execution_count": 35,
   "metadata": {},
   "outputs": [
    {
     "name": "stdout",
     "output_type": "stream",
     "text": [
      "Best score for rfclf: 0.6813186813186813\n",
      "Best min_samples_leaf: 4\n",
      "Best max_depth: None\n",
      "Best class_weight: None\n",
      "Best n_estimators: 60\n"
     ]
    }
   ],
   "source": [
    "print('Best score for rfclf:', rfclf.best_score_) \n",
    "print('Best min_samples_leaf:',rfclf.best_estimator_.min_samples_leaf) \n",
    "print('Best max_depth:',rfclf.best_estimator_.max_depth)\n",
    "print('Best class_weight:',rfclf.best_estimator_.class_weight)\n",
    "print('Best n_estimators:',rfclf.best_estimator_.n_estimators)"
   ]
  },
  {
   "cell_type": "code",
   "execution_count": 93,
   "metadata": {},
   "outputs": [
    {
     "data": {
      "text/plain": [
       "0.5362318840579711"
      ]
     },
     "execution_count": 93,
     "metadata": {},
     "output_type": "execute_result"
    }
   ],
   "source": [
    "y_pred = rfclf.best_estimator_.predict(X_test)\n",
    "\n",
    "test_acc_rfclf = accuracy_score(y_test,y_pred)\n",
    "test_acc_rfclf"
   ]
  },
  {
   "cell_type": "code",
   "execution_count": 140,
   "metadata": {
    "collapsed": true
   },
   "outputs": [],
   "source": [
    "brasil_clf_df = brasil_clf_df.append({'classifier' : 'rf',\n",
    "                                      'estimator':rfclf.best_estimator_, \n",
    "                                      'train_acc' : rfclf.best_score_,\n",
    "                                      'test_acc' : test_acc_rfclf}, ignore_index=True)"
   ]
  },
  {
   "cell_type": "markdown",
   "metadata": {},
   "source": [
    "## Gradient Boosting"
   ]
  },
  {
   "cell_type": "code",
   "execution_count": 66,
   "metadata": {},
   "outputs": [
    {
     "name": "stdout",
     "output_type": "stream",
     "text": [
      "Fitting 3 folds for each of 4455 candidates, totalling 13365 fits\n"
     ]
    },
    {
     "name": "stderr",
     "output_type": "stream",
     "text": [
      "[Parallel(n_jobs=-1)]: Done  18 tasks      | elapsed:    0.9s\n",
      "[Parallel(n_jobs=-1)]: Done 224 tasks      | elapsed:    6.3s\n",
      "[Parallel(n_jobs=-1)]: Done 474 tasks      | elapsed:    9.9s\n",
      "[Parallel(n_jobs=-1)]: Done 824 tasks      | elapsed:   13.6s\n",
      "[Parallel(n_jobs=-1)]: Done 1274 tasks      | elapsed:   17.6s\n",
      "[Parallel(n_jobs=-1)]: Done 2033 tasks      | elapsed:   23.2s\n",
      "[Parallel(n_jobs=-1)]: Done 3058 tasks      | elapsed:   36.1s\n",
      "[Parallel(n_jobs=-1)]: Done 3808 tasks      | elapsed:   43.8s\n",
      "[Parallel(n_jobs=-1)]: Done 5019 tasks      | elapsed:   52.7s\n",
      "[Parallel(n_jobs=-1)]: Done 6189 tasks      | elapsed:  1.1min\n",
      "[Parallel(n_jobs=-1)]: Done 7362 tasks      | elapsed:  1.3min\n",
      "[Parallel(n_jobs=-1)]: Done 10094 tasks      | elapsed:  1.7min\n",
      "[Parallel(n_jobs=-1)]: Done 12594 tasks      | elapsed:  2.1min\n",
      "[Parallel(n_jobs=-1)]: Done 13334 out of 13365 | elapsed:  2.2min remaining:    0.3s\n",
      "[Parallel(n_jobs=-1)]: Done 13365 out of 13365 | elapsed:  2.2min finished\n"
     ]
    },
    {
     "data": {
      "text/plain": [
       "GridSearchCV(cv=3, error_score='raise',\n",
       "       estimator=GradientBoostingClassifier(criterion='friedman_mse', init=None,\n",
       "              learning_rate=0.1, loss='deviance', max_depth=3,\n",
       "              max_features=None, max_leaf_nodes=None,\n",
       "              min_impurity_decrease=0.0, min_impurity_split=None,\n",
       "              min_samples_leaf=1, min_samples_split=2,\n",
       "              min_weight_fraction_leaf=0.0, n_estimators=100,\n",
       "              presort='auto', random_state=None, subsample=1.0, verbose=0,\n",
       "              warm_start=False),\n",
       "       fit_params=None, iid=True, n_jobs=-1,\n",
       "       param_grid={'min_samples_leaf': [1, 2, 3, 4, 5, 6, 7, 8, 9, 10, 11, 12, 13, 14, 15, 16, 17, 18, 19, 20, 21, 22, 23, 24, 25, 26, 27, 28, 29, 30, 31, 32, 33, 34, 35, 36, 37, 38, 39, 40, 41, 42, 43, 44, 45, 46, 47, 48, 49, 50, 51, 52, 53, 54, 55, 56, 57, 58, 59, 60, 61, 62, 63, 64, 65, 66, 67, 68, 69, ...'n_estimators': [10, 20, 30, 40, 50, 60, 70, 80, 90], 'learning_rate': [0.001, 0.01, 0.1, 0.5, 1.0]},\n",
       "       pre_dispatch='2*n_jobs', refit=True, return_train_score='warn',\n",
       "       scoring=None, verbose=True)"
      ]
     },
     "execution_count": 66,
     "metadata": {},
     "output_type": "execute_result"
    }
   ],
   "source": [
    "from sklearn.ensemble import GradientBoostingClassifier\n",
    "\n",
    "gb_candidates = {\n",
    "    'min_samples_leaf' : list(range(1,100)),\n",
    "    'max_depth' : [None],\n",
    "    'n_estimators' : list(range(10,100,10)),\n",
    "    'learning_rate' : [0.001,0.01,0.1,0.5,1.0]\n",
    "}\n",
    "\n",
    "gbclf = GridSearchCV(estimator=GradientBoostingClassifier(), param_grid=gb_candidates, n_jobs=-1, cv= 3, verbose = True)\n",
    "\n",
    "cv = gbclf.fit(X_train,y_train)"
   ]
  },
  {
   "cell_type": "code",
   "execution_count": 67,
   "metadata": {},
   "outputs": [
    {
     "name": "stdout",
     "output_type": "stream",
     "text": [
      "Best score for gbclf: 0.6959706959706959\n",
      "Best min_samples_leaf: 38\n",
      "Best max_depth: None\n",
      "Best n_estimators: 30\n"
     ]
    }
   ],
   "source": [
    "print('Best score for gbclf:', gbclf.best_score_) \n",
    "print('Best min_samples_leaf:',gbclf.best_estimator_.min_samples_leaf) \n",
    "print('Best max_depth:',gbclf.best_estimator_.max_depth)\n",
    "print('Best n_estimators:',gbclf.best_estimator_.n_estimators)"
   ]
  },
  {
   "cell_type": "code",
   "execution_count": 95,
   "metadata": {},
   "outputs": [
    {
     "data": {
      "text/plain": [
       "0.5507246376811594"
      ]
     },
     "execution_count": 95,
     "metadata": {},
     "output_type": "execute_result"
    }
   ],
   "source": [
    "y_pred = gbclf.best_estimator_.predict(X_test)\n",
    "\n",
    "test_acc_gbclf = accuracy_score(y_test,y_pred)\n",
    "test_acc_gbclf"
   ]
  },
  {
   "cell_type": "code",
   "execution_count": 152,
   "metadata": {
    "collapsed": true
   },
   "outputs": [],
   "source": [
    "brasil_clf_df = brasil_clf_df.append({'classifier' : 'gb',\n",
    "                                      'estimator':gbclf.best_estimator_, \n",
    "                                      'train_acc' : gbclf.best_score_,\n",
    "                                      'test_acc' : test_acc_gbclf}, ignore_index=True)"
   ]
  },
  {
   "cell_type": "markdown",
   "metadata": {},
   "source": [
    "## Perceptron"
   ]
  },
  {
   "cell_type": "code",
   "execution_count": 110,
   "metadata": {},
   "outputs": [
    {
     "name": "stdout",
     "output_type": "stream",
     "text": [
      "Fitting 3 folds for each of 144 candidates, totalling 432 fits\n"
     ]
    },
    {
     "name": "stderr",
     "output_type": "stream",
     "text": [
      "[Parallel(n_jobs=-1)]: Done  18 tasks      | elapsed:    0.4s\n",
      "[Parallel(n_jobs=-1)]: Done 240 tasks      | elapsed:   25.1s\n",
      "[Parallel(n_jobs=-1)]: Done 432 out of 432 | elapsed:   34.2s finished\n"
     ]
    },
    {
     "data": {
      "text/plain": [
       "GridSearchCV(cv=3, error_score='raise',\n",
       "       estimator=MLPClassifier(activation='relu', alpha=0.0001, batch_size='auto', beta_1=0.9,\n",
       "       beta_2=0.999, early_stopping=False, epsilon=1e-08,\n",
       "       hidden_layer_sizes=(100,), learning_rate='constant',\n",
       "       learning_rate_init=0.001, max_iter=200, momentum=0.9,\n",
       "       nesterovs_momentum=True, power_t=0.5, random_state=None,\n",
       "       shuffle=True, solver='adam', tol=0.0001, validation_fraction=0.1,\n",
       "       verbose=False, warm_start=False),\n",
       "       fit_params=None, iid=True, n_jobs=-1,\n",
       "       param_grid={'alpha': [0.001, 0.01, 0.1, 0.2, 0.3, 0.4, 0.5, 0.6, 0.7, 0.8, 0.9, 1.0], 'learning_rate': ['constant', 'invscaling', 'adaptive'], 'activation': ['identity', 'logistic', 'tanh', 'relu'], 'max_iter': [1000]},\n",
       "       pre_dispatch='2*n_jobs', refit=True, return_train_score='warn',\n",
       "       scoring=None, verbose=True)"
      ]
     },
     "execution_count": 110,
     "metadata": {},
     "output_type": "execute_result"
    }
   ],
   "source": [
    "from sklearn.neural_network import MLPClassifier\n",
    "\n",
    "mlp_candidates = {\n",
    "    'alpha' : [0.001,0.01] + [i/10.0 for i in range(1,11)],\n",
    "    'learning_rate' : ['constant','invscaling', 'adaptive'],\n",
    "    'activation' : ['identity', 'logistic', 'tanh', 'relu'],\n",
    "    'max_iter' : [1000]\n",
    "}\n",
    "\n",
    "mlpclf = GridSearchCV(estimator=MLPClassifier(), param_grid=mlp_candidates, n_jobs=-1, cv= 3, verbose = True)\n",
    "\n",
    "cv = mlpclf.fit(X_train,y_train)"
   ]
  },
  {
   "cell_type": "code",
   "execution_count": 111,
   "metadata": {},
   "outputs": [
    {
     "name": "stdout",
     "output_type": "stream",
     "text": [
      "Best score for mlpclf: 0.6886446886446886\n",
      "Best alpha: 0.001\n",
      "Best learning_rate: adaptive\n",
      "Best activation: logistic\n"
     ]
    }
   ],
   "source": [
    "print('Best score for mlpclf:', mlpclf.best_score_) \n",
    "print('Best alpha:',mlpclf.best_estimator_.alpha) \n",
    "print('Best learning_rate:',mlpclf.best_estimator_.learning_rate)\n",
    "print('Best activation:',mlpclf.best_estimator_.activation)"
   ]
  },
  {
   "cell_type": "code",
   "execution_count": 112,
   "metadata": {},
   "outputs": [
    {
     "data": {
      "text/plain": [
       "0.5652173913043478"
      ]
     },
     "execution_count": 112,
     "metadata": {},
     "output_type": "execute_result"
    }
   ],
   "source": [
    "y_pred = mlpclf.best_estimator_.predict(X_test)\n",
    "\n",
    "test_acc_mlpclf = accuracy_score(y_test,y_pred)\n",
    "test_acc_mlpclf"
   ]
  },
  {
   "cell_type": "code",
   "execution_count": 142,
   "metadata": {
    "collapsed": true
   },
   "outputs": [],
   "source": [
    "brasil_clf_df = brasil_clf_df.append({'classifier' : 'mlp',\n",
    "                                      'estimator':mlpclf.best_estimator_, \n",
    "                                      'train_acc' : mlpclf.best_score_,\n",
    "                                      'test_acc' : test_acc_mlpclf}, ignore_index=True)"
   ]
  },
  {
   "cell_type": "markdown",
   "metadata": {},
   "source": [
    "## Naive (chuta tudo como 'WIN')"
   ]
  },
  {
   "cell_type": "code",
   "execution_count": 128,
   "metadata": {},
   "outputs": [
    {
     "data": {
      "text/plain": [
       "DummyClassifier(constant=None, random_state=None, strategy='most_frequent')"
      ]
     },
     "execution_count": 128,
     "metadata": {},
     "output_type": "execute_result"
    }
   ],
   "source": [
    "from sklearn.dummy import DummyClassifier\n",
    "\n",
    "dumclf = DummyClassifier(strategy='most_frequent')\n",
    "cv = dumclf.fit(X_train,y_train)"
   ]
  },
  {
   "cell_type": "code",
   "execution_count": 133,
   "metadata": {},
   "outputs": [
    {
     "data": {
      "text/plain": [
       "0.6703296703296703"
      ]
     },
     "execution_count": 133,
     "metadata": {},
     "output_type": "execute_result"
    }
   ],
   "source": [
    "dumclf.score(X_train,y_train)"
   ]
  },
  {
   "cell_type": "code",
   "execution_count": 135,
   "metadata": {},
   "outputs": [
    {
     "data": {
      "text/plain": [
       "0.5942028985507246"
      ]
     },
     "execution_count": 135,
     "metadata": {},
     "output_type": "execute_result"
    }
   ],
   "source": [
    "y_test_pred = dumclf.predict(X_test)\n",
    "test_acc_naive = accuracy_score(y_test,y_test_pred)\n",
    "test_acc_naive"
   ]
  },
  {
   "cell_type": "code",
   "execution_count": 143,
   "metadata": {
    "collapsed": true
   },
   "outputs": [],
   "source": [
    "brasil_clf_df = brasil_clf_df.append({'classifier' : 'naive', \n",
    "                                      'estimator' : dumclf, \n",
    "                                      'train_acc' : train_acc_naive,\n",
    "                                      'test_acc' : test_acc_naive}, ignore_index=True)"
   ]
  },
  {
   "cell_type": "markdown",
   "metadata": {},
   "source": [
    "## Summary"
   ]
  },
  {
   "cell_type": "code",
   "execution_count": 160,
   "metadata": {},
   "outputs": [
    {
     "name": "stderr",
     "output_type": "stream",
     "text": [
      "/opt/conda/lib/python3.6/site-packages/sklearn/metrics/classification.py:1137: UndefinedMetricWarning: F-score is ill-defined and being set to 0.0 in labels with no true samples.\n",
      "  'recall', 'true', average, warn_for)\n"
     ]
    }
   ],
   "source": [
    "from sklearn.metrics import f1_score\n",
    "\n",
    "brasil_clf_df['train_f1'] = brasil_clf_df.apply(lambda row: f1_score(row['estimator'].predict(X_train),y_train,average='weighted')\n",
    "                                                ,axis=1)\n",
    "\n",
    "brasil_clf_df['test_f1'] = brasil_clf_df.apply(lambda row: f1_score(row['estimator'].predict(X_test),y_test,average='weighted')\n",
    "                                                ,axis=1)"
   ]
  },
  {
   "cell_type": "code",
   "execution_count": 127,
   "metadata": {},
   "outputs": [
    {
     "data": {
      "image/png": "[encoded data removed]",
      "text/plain": [
       "<matplotlib.figure.Figure at 0x7f9bdcab45c0>"
      ]
     },
     "metadata": {},
     "output_type": "display_data"
    }
   ],
   "source": [
    "ax = sns.regplot(x=brasil_clf_df[\"train_acc\"], y=brasil_clf_df[\"test_acc\"],fit_reg=False,label=\"log da pnad\")\n",
    "\n",
    "ax.set(xlim=(0.66,0.71))\n",
    "ax.set(ylim=(0.46,0.6))\n",
    "\n",
    "\n",
    "def label_point(x, y, val, ax):\n",
    "    a = pd.concat({'x': x, 'y': y, 'val': val}, axis=1)\n",
    "    for i, point in a.iterrows():\n",
    "        ax.text(point['x']+.001, point['y'], str(point['val']),size=14)\n",
    "\n",
    "label_point(brasil_clf_df[\"train_acc\"], brasil_clf_df[\"test_acc\"], brasil_clf_df[\"classifier\"], ax) "
   ]
  },
  {
   "cell_type": "code",
   "execution_count": 161,
   "metadata": {
    "scrolled": false
   },
   "outputs": [
    {
     "data": {
      "image/png": "[encoded data removed]",
      "text/plain": [
       "<matplotlib.figure.Figure at 0x7f9bdda72e80>"
      ]
     },
     "metadata": {},
     "output_type": "display_data"
    }
   ],
   "source": [
    "ax = sns.regplot(x=brasil_clf_df[\"train_f1\"], y=brasil_clf_df[\"test_f1\"],fit_reg=False,label=\"log da pnad\")\n",
    "label_point(brasil_clf_df[\"train_f1\"], brasil_clf_df[\"test_f1\"], brasil_clf_df[\"classifier\"], ax) "
   ]
  },
  {
   "cell_type": "markdown",
   "metadata": {},
   "source": [
    "Nosso SVM parece então ser o melhor classificador na amostra de teste, mas é bem interessante como ele não consegue superar o classificador \"torcedor fanático\" (chuta sempre que vai ganhar, o naive), tanto em acurácia quanto em F1. Isso indica que nossos dados não são muito bons para prever o desempenho em uma partida. \n",
    "\n",
    "Alguns fatores podem estar contribuindo para isso, em que o mais importante parece ser a baixa quantidade de linhas. E essa é a principal desvantagem de fazermos um Digital Twin de um país apenas: nossos classificadores não tem dados o suficiente para aprender algum padrão nos dados."
   ]
  },
  {
   "cell_type": "markdown",
   "metadata": {},
   "source": [
    "# 3. Digital Twin das seleções\n",
    "\n",
    "Como usar somente os dados de uma seleção para prever resultados é muito ruim, vamos utilizar os dados de todas."
   ]
  },
  {
   "cell_type": "code",
   "execution_count": 20,
   "metadata": {},
   "outputs": [
    {
     "data": {
      "text/plain": [
       "(17308, 36)"
      ]
     },
     "execution_count": 20,
     "metadata": {},
     "output_type": "execute_result"
    }
   ],
   "source": [
    "ranking_fifa['AAAA-MM'] = ranking_fifa['rank_date'].str[:7]\n",
    "game_result['AAAA-MM'] = game_result['date'].str[:7]\n",
    "    \n",
    "game_results_hometeam = pd.merge(game_result.drop(['tournament','city','country','neutral'],axis=1), \n",
    "                                 ranking_fifa.drop('country_abrv',axis=1),\n",
    "                        left_on=['home_team','AAAA-MM'],\n",
    "                        right_on = ['country_full','AAAA-MM'],\n",
    "                        how='inner',\n",
    "                       )\n",
    "\n",
    "game_results_rk = pd.merge(game_results_hometeam, ranking_fifa.drop('country_abrv',axis=1),\n",
    "                        left_on=['away_team','AAAA-MM'],\n",
    "                        right_on = ['country_full','AAAA-MM'],\n",
    "                        how='inner',\n",
    "                        suffixes=('','_away')\n",
    "                       )\n",
    "\n",
    "game_results_rk.shape"
   ]
  },
  {
   "cell_type": "code",
   "execution_count": 24,
   "metadata": {},
   "outputs": [],
   "source": [
    "game_results_rk['TARGET'] = construct_target(game_results_rk,'home_score','away_score')"
   ]
  },
  {
   "cell_type": "code",
   "execution_count": 26,
   "metadata": {
    "collapsed": true
   },
   "outputs": [],
   "source": [
    "variables = ['rank', 'total_points', 'previous_points', 'rank_change', 'cur_year_avg', 'cur_year_avg_weighted', 'last_year_avg',\n",
    "'last_year_avg_weighted', 'two_year_ago_avg', 'two_year_ago_weighted', 'three_year_ago_avg', 'three_year_ago_weighted']\n",
    "\n",
    "variables = variables + [x+'_away' for x in variables]"
   ]
  },
  {
   "cell_type": "code",
   "execution_count": 27,
   "metadata": {},
   "outputs": [
    {
     "name": "stdout",
     "output_type": "stream",
     "text": [
      "(13846, 24)\n",
      "(3462, 24)\n",
      "(13846,)\n",
      "(3462,)\n"
     ]
    }
   ],
   "source": [
    "X_train, X_test,y_train,y_test = train_test_split(game_results_rk[variables], game_results_rk['TARGET'],\n",
    "                                                  test_size=0.2)\n",
    "\n",
    "print(X_train.shape)\n",
    "print(X_test.shape)\n",
    "print(y_train.shape)\n",
    "print(y_test.shape)"
   ]
  },
  {
   "cell_type": "code",
   "execution_count": null,
   "metadata": {
    "collapsed": true
   },
   "outputs": [],
   "source": [
    "all_clf_df = all_clf_df.append({'classifier' : 'lr',\n",
    "                                      'estimator':lrclf.best_estimator_, \n",
    "                                      'train_acc' : lrclf.best_score_,\n",
    "                                      'test_acc' : test_acc_lrclf}, ignore_index=True)"
   ]
  },
  {
   "cell_type": "markdown",
   "metadata": {},
   "source": [
    "## Decision Trees"
   ]
  },
  {
   "cell_type": "code",
   "execution_count": null,
   "metadata": {},
   "outputs": [],
   "source": [
    "dtc_candidates = {\n",
    "    'min_samples_leaf' : list(range(1,100)),\n",
    "    'max_depth' : list(range(2,100)) + [None],\n",
    "    'class_weight' : [None,'balanced']\n",
    "}\n",
    "\n",
    "clf = GridSearchCV(estimator=DecisionTreeClassifier(), param_grid=dtc_candidates, n_jobs=-1, cv= 5, verbose = True)\n",
    "\n",
    "cv = clf.fit(X_train,y_train)"
   ]
  },
  {
   "cell_type": "code",
   "execution_count": null,
   "metadata": {},
   "outputs": [],
   "source": [
    "print('Best score for dt:', clf.best_score_) \n",
    "print('Best min_samples_leaf:',clf.best_estimator_.min_samples_leaf) \n",
    "print('Best max_depth:',clf.best_estimator_.max_depth)\n",
    "print('Best class_weight:',clf.best_estimator_.class_weight)"
   ]
  },
  {
   "cell_type": "code",
   "execution_count": null,
   "metadata": {},
   "outputs": [],
   "source": [
    "from sklearn.metrics import accuracy_score\n",
    "\n",
    "y_pred = clf.best_estimator_.predict(X_test)\n",
    "\n",
    "test_acc_clf = accuracy_score(y_test,y_pred)\n",
    "test_acc_clf"
   ]
  },
  {
   "cell_type": "code",
   "execution_count": null,
   "metadata": {},
   "outputs": [],
   "source": [
    "all_clf_df = all_clf_df.append({'classifier' : 'dt',\n",
    "                                      'estimator':clf.best_estimator_, \n",
    "                                      'train_acc' : clf.best_score_,\n",
    "                                      'test_acc' : test_acc_clf}, ignore_index=True)\n",
    "all_clf_df.head(5)"
   ]
  },
  {
   "cell_type": "markdown",
   "metadata": {},
   "source": [
    "## Support Vector Machine, as multi-classifier"
   ]
  },
  {
   "cell_type": "code",
   "execution_count": null,
   "metadata": {},
   "outputs": [],
   "source": [
    "svc_candidates = {\n",
    "    'C' : [i/1000.0 for i in range(1,2000,1)],\n",
    "}\n",
    "\n",
    "svcclf = GridSearchCV(estimator=SVC(), param_grid=svc_candidates, n_jobs=-1, cv= 5, verbose = True)\n",
    "\n",
    "cv = svcclf.fit(X_train,y_train)"
   ]
  },
  {
   "cell_type": "code",
   "execution_count": null,
   "metadata": {},
   "outputs": [],
   "source": [
    "print('Best score for svcclf:', svcclf.best_score_) \n",
    "print('Best C:',svcclf.best_estimator_.C) \n",
    "print('Best kernel:',svcclf.best_estimator_.kernel)\n",
    "print('Best class_weight:',svcclf.best_estimator_.class_weight)"
   ]
  },
  {
   "cell_type": "code",
   "execution_count": null,
   "metadata": {},
   "outputs": [],
   "source": [
    "y_pred = svcclf.best_estimator_.predict(X_test)\n",
    "\n",
    "test_acc_svcclf = accuracy_score(y_test,y_pred)\n",
    "test_acc_svcclf"
   ]
  },
  {
   "cell_type": "code",
   "execution_count": null,
   "metadata": {
    "collapsed": true
   },
   "outputs": [],
   "source": [
    "all_clf_df = all_clf_df.append({'classifier' : 'svm',\n",
    "                                      'estimator':svcclf.best_estimator_, \n",
    "                                      'train_acc' : svcclf.best_score_,\n",
    "                                      'test_acc' : test_acc_svcclf}, ignore_index=True)"
   ]
  },
  {
   "cell_type": "markdown",
   "metadata": {},
   "source": [
    "## Logistic Regression, One vs Rest"
   ]
  },
  {
   "cell_type": "code",
   "execution_count": null,
   "metadata": {},
   "outputs": [],
   "source": [
    "lr_candidates = {\n",
    "    'penalty' : ['l1','l2'],\n",
    "    'C' : [x/10.0 for x in range(900,1110,1)],\n",
    "    'class_weight' : [None,'balanced'],\n",
    "    'multiclass' : ['ovr', 'multinomial']\n",
    "}\n",
    "\n",
    "lrclf = GridSearchCV(estimator=LogisticRegression(), param_grid=lr_candidates, n_jobs=-1, cv= 5, verbose = True)\n",
    "\n",
    "cv = lrclf.fit(X_train,y_train)"
   ]
  },
  {
   "cell_type": "code",
   "execution_count": null,
   "metadata": {},
   "outputs": [],
   "source": [
    "print('Best score for lrclf:', lrclf.best_score_) \n",
    "print('Best C:',lrclf.best_estimator_.C) \n",
    "print('Best penalty:',lrclf.best_estimator_.penalty)\n",
    "print('Best class_weight:',lrclf.best_estimator_.class_weight)\n",
    "print('Best multiclass:',lrclf.best_estimator_.multiclass)"
   ]
  },
  {
   "cell_type": "code",
   "execution_count": null,
   "metadata": {},
   "outputs": [],
   "source": [
    "y_pred = lrclf.best_estimator_.predict(X_test)\n",
    "\n",
    "test_acc_lrclf = accuracy_score(y_test,y_pred)\n",
    "test_acc_lrclf"
   ]
  },
  {
   "cell_type": "code",
   "execution_count": null,
   "metadata": {
    "collapsed": true
   },
   "outputs": [],
   "source": [
    "all_clf_df = all_clf_df.append({'classifier' : 'lr',\n",
    "                                      'estimator':lrclf.best_estimator_, \n",
    "                                      'train_acc' : lrclf.best_score_,\n",
    "                                      'test_acc' : test_acc_lrclf}, ignore_index=True)"
   ]
  },
  {
   "cell_type": "markdown",
   "metadata": {},
   "source": [
    "## Random Forest"
   ]
  },
  {
   "cell_type": "code",
   "execution_count": null,
   "metadata": {
    "collapsed": true
   },
   "outputs": [],
   "source": [
    "from sklearn.ensemble import RandomForestClassifier\n",
    "\n",
    "rf_candidates = {\n",
    "    'min_samples_leaf' : list(range(1,100)),\n",
    "    'max_depth' : [None],\n",
    "    'class_weight' : [None,'balanced'],\n",
    "    'n_estimators' : list(range(10,100,10))\n",
    "}\n",
    "\n",
    "rfclf = GridSearchCV(estimator=RandomForestClassifier(), param_grid=rf_candidates, n_jobs=-1, cv= 5, verbose = True)\n",
    "\n",
    "cv = rfclf.fit(X_train,y_train)"
   ]
  },
  {
   "cell_type": "code",
   "execution_count": null,
   "metadata": {
    "collapsed": true
   },
   "outputs": [],
   "source": [
    "print('Best score for rfclf:', rfclf.best_score_) \n",
    "print('Best min_samples_leaf:',rfclf.best_estimator_.min_samples_leaf) \n",
    "print('Best max_depth:',rfclf.best_estimator_.max_depth)\n",
    "print('Best class_weight:',rfclf.best_estimator_.class_weight)\n",
    "print('Best n_estimators:',rfclf.best_estimator_.n_estimators)"
   ]
  },
  {
   "cell_type": "code",
   "execution_count": null,
   "metadata": {
    "collapsed": true
   },
   "outputs": [],
   "source": [
    "y_pred = rfclf.best_estimator_.predict(X_test)\n",
    "\n",
    "test_acc_rfclf = accuracy_score(y_test,y_pred)\n",
    "test_acc_rfclf"
   ]
  },
  {
   "cell_type": "code",
   "execution_count": null,
   "metadata": {
    "collapsed": true
   },
   "outputs": [],
   "source": [
    "all_clf_df = all_clf_df.append({'classifier' : 'rf',\n",
    "                                      'estimator':rfclf.best_estimator_, \n",
    "                                      'train_acc' : rfclf.best_score_,\n",
    "                                      'test_acc' : test_acc_rfclf}, ignore_index=True)"
   ]
  },
  {
   "cell_type": "markdown",
   "metadata": {},
   "source": [
    "## Gradient Boosting"
   ]
  },
  {
   "cell_type": "code",
   "execution_count": null,
   "metadata": {
    "collapsed": true
   },
   "outputs": [],
   "source": [
    "from sklearn.ensemble import GradientBoostingClassifier\n",
    "\n",
    "gb_candidates = {\n",
    "    'min_samples_leaf' : list(range(1,100)),\n",
    "    'max_depth' : [None],\n",
    "    'n_estimators' : list(range(10,100,10)),\n",
    "    'learning_rate' : [0.001,0.01,0.1,0.5,1.0]\n",
    "}\n",
    "\n",
    "gbclf = GridSearchCV(estimator=GradientBoostingClassifier(), param_grid=gb_candidates, n_jobs=-1, cv= 5, verbose = True)\n",
    "\n",
    "cv = gbclf.fit(X_train,y_train)"
   ]
  },
  {
   "cell_type": "code",
   "execution_count": null,
   "metadata": {
    "collapsed": true
   },
   "outputs": [],
   "source": [
    "print('Best score for gbclf:', gbclf.best_score_) \n",
    "print('Best min_samples_leaf:',gbclf.best_estimator_.min_samples_leaf) \n",
    "print('Best max_depth:',gbclf.best_estimator_.max_depth)\n",
    "print('Best n_estimators:',gbclf.best_estimator_.n_estimators)"
   ]
  },
  {
   "cell_type": "code",
   "execution_count": null,
   "metadata": {
    "collapsed": true
   },
   "outputs": [],
   "source": [
    "y_pred = gbclf.best_estimator_.predict(X_test)\n",
    "\n",
    "test_acc_gbclf = accuracy_score(y_test,y_pred)\n",
    "test_acc_gbclf"
   ]
  },
  {
   "cell_type": "code",
   "execution_count": null,
   "metadata": {
    "collapsed": true
   },
   "outputs": [],
   "source": [
    "all_clf_df = all_clf_df.append({'classifier' : 'gb',\n",
    "                                      'estimator':gbclf.best_estimator_, \n",
    "                                      'train_acc' : gbclf.best_score_,\n",
    "                                      'test_acc' : test_acc_gbclf}, ignore_index=True)"
   ]
  },
  {
   "cell_type": "markdown",
   "metadata": {},
   "source": [
    "## Perceptron"
   ]
  },
  {
   "cell_type": "code",
   "execution_count": null,
   "metadata": {
    "collapsed": true
   },
   "outputs": [],
   "source": [
    "from sklearn.neural_network import MLPClassifier\n",
    "\n",
    "mlp_candidates = {\n",
    "    'alpha' : [0.001,0.01] + [i/10.0 for i in range(1,11)],\n",
    "    'learning_rate' : ['constant','invscaling', 'adaptive'],\n",
    "    'activation' : ['identity', 'logistic', 'tanh', 'relu'],\n",
    "    'max_iter' : [1000]\n",
    "}\n",
    "\n",
    "mlpclf = GridSearchCV(estimator=MLPClassifier(), param_grid=mlp_candidates, n_jobs=-1, cv= 5, verbose = True)\n",
    "\n",
    "cv = mlpclf.fit(X_train,y_train)"
   ]
  },
  {
   "cell_type": "code",
   "execution_count": null,
   "metadata": {
    "collapsed": true
   },
   "outputs": [],
   "source": [
    "print('Best score for mlpclf:', mlpclf.best_score_) \n",
    "print('Best alpha:',mlpclf.best_estimator_.alpha) \n",
    "print('Best learning_rate:',mlpclf.best_estimator_.learning_rate)\n",
    "print('Best activation:',mlpclf.best_estimator_.activation)"
   ]
  },
  {
   "cell_type": "code",
   "execution_count": null,
   "metadata": {
    "collapsed": true
   },
   "outputs": [],
   "source": [
    "y_pred = mlpclf.best_estimator_.predict(X_test)\n",
    "\n",
    "test_acc_mlpclf = accuracy_score(y_test,y_pred)\n",
    "test_acc_mlpclf"
   ]
  },
  {
   "cell_type": "code",
   "execution_count": null,
   "metadata": {
    "collapsed": true
   },
   "outputs": [],
   "source": [
    "all_clf_df = all_clf_df.append({'classifier' : 'mlp',\n",
    "                                      'estimator':mlpclf.best_estimator_, \n",
    "                                      'train_acc' : mlpclf.best_score_,\n",
    "                                      'test_acc' : test_acc_mlpclf}, ignore_index=True)"
   ]
  },
  {
   "cell_type": "markdown",
   "metadata": {},
   "source": [
    "## Naive (chuta tudo como 'WIN')"
   ]
  },
  {
   "cell_type": "code",
   "execution_count": null,
   "metadata": {
    "collapsed": true
   },
   "outputs": [],
   "source": [
    "from sklearn.dummy import DummyClassifier\n",
    "\n",
    "dumclf = DummyClassifier(strategy='most_frequent')\n",
    "cv = dumclf.fit(X_train,y_train)"
   ]
  },
  {
   "cell_type": "code",
   "execution_count": null,
   "metadata": {
    "collapsed": true
   },
   "outputs": [],
   "source": [
    "dumclf.score(X_train,y_train)"
   ]
  },
  {
   "cell_type": "code",
   "execution_count": null,
   "metadata": {
    "collapsed": true
   },
   "outputs": [],
   "source": [
    "y_test_pred = dumclf.predict(X_test)\n",
    "test_acc_naive = accuracy_score(y_test,y_test_pred)\n",
    "test_acc_naive"
   ]
  },
  {
   "cell_type": "code",
   "execution_count": null,
   "metadata": {
    "collapsed": true
   },
   "outputs": [],
   "source": [
    "all_clf_df = all_clf_df.append({'classifier' : 'naive', \n",
    "                                      'estimator' : dumclf, \n",
    "                                      'train_acc' : train_acc_naive,\n",
    "                                      'test_acc' : test_acc_naive}, ignore_index=True)"
   ]
  },
  {
   "cell_type": "markdown",
   "metadata": {},
   "source": [
    "## Summary"
   ]
  },
  {
   "cell_type": "code",
   "execution_count": null,
   "metadata": {
    "collapsed": true
   },
   "outputs": [],
   "source": [
    "all_clf_df['train_f1'] = all_clf_df.apply(lambda row: f1_score(row['estimator'].predict(X_train),y_train,average='weighted')\n",
    "                                                ,axis=1)\n",
    "\n",
    "all_clf_df['test_f1'] = all_clf_df.apply(lambda row: f1_score(row['estimator'].predict(X_test),y_test,average='weighted')\n",
    "                                                ,axis=1)"
   ]
  },
  {
   "cell_type": "code",
   "execution_count": null,
   "metadata": {
    "collapsed": true
   },
   "outputs": [],
   "source": [
    "ax = sns.regplot(x=all_clf_df[\"train_acc\"], y=all_clf_df[\"test_acc\"],fit_reg=False,label=\"log da pnad\")\n",
    "\n",
    "ax.set(xlim=(0.66,0.71))\n",
    "ax.set(ylim=(0.46,0.6))\n",
    "\n",
    "label_point(all_clf_df[\"train_acc\"], all_clf_df[\"test_acc\"], all_clf_df[\"classifier\"], ax) "
   ]
  },
  {
   "cell_type": "code",
   "execution_count": null,
   "metadata": {
    "collapsed": true,
    "scrolled": false
   },
   "outputs": [],
   "source": [
    "ax = sns.regplot(x=all_clf_df[\"train_f1\"], y=all_clf_df[\"test_f1\"],fit_reg=False,label=\"log da pnad\")\n",
    "label_point(all_clf_df[\"train_f1\"], all_clf_df[\"test_f1\"], all_clf_df[\"classifier\"], ax) "
   ]
  }
 ],
 "metadata": {
  "kernelspec": {
   "display_name": "Python 3",
   "language": "python",
   "name": "python3"
  },
  "language_info": {
   "codemirror_mode": {
    "name": "ipython",
    "version": 3
   },
   "file_extension": ".py",
   "mimetype": "text/x-python",
   "name": "python",
   "nbconvert_exporter": "python",
   "pygments_lexer": "ipython3",
   "version": "3.6.2"
  }
 },
 "nbformat": 4,
 "nbformat_minor": 2
}
